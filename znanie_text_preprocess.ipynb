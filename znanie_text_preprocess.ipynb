{
 "cells": [
  {
   "cell_type": "markdown",
   "id": "07789bb8",
   "metadata": {},
   "source": [
    "# Импорт библиотек"
   ]
  },
  {
   "cell_type": "code",
   "execution_count": null,
   "id": "cc30cd35",
   "metadata": {},
   "outputs": [],
   "source": [
    "import pandas as pd\n",
    "import numpy as np\n",
    "\n",
    "from nltk.stem.snowball import SnowballStemmer\n",
    "from nltk import word_tokenize, download\n",
    "from nltk.tokenize import word_tokenize\n",
    "from nltk.corpus import stopwords\n",
    "from tqdm.auto import tqdm\n",
    "\n",
    "from sklearn.feature_extraction.text import TfidfVectorizer, CountVectorizer\n",
    "from sklearn.model_selection import train_test_split\n",
    "from sklearn.metrics import f1_score\n",
    "\n",
    "import re\n",
    "import time\n",
    "import json"
   ]
  },
  {
   "cell_type": "code",
   "execution_count": 115,
   "id": "3f6147ee",
   "metadata": {},
   "outputs": [],
   "source": [
    "stemmer = SnowballStemmer(\"russian\")\n",
    "russian_stopwords = stopwords.words(\"russian\")\n",
    "russian_stopwords.extend(\n",
    "    ['это', 'как', 'так', 'и', 'в', 'над', 'к', 'до', 'не', 'на', 'но', 'за', 'то', 'с', 'ли', 'а', 'во', 'от', 'со',\n",
    "     'для', 'о', 'же', 'ну', 'вы', 'бы', 'что', 'кто', 'он', 'она', 'оно', 'из-за', 'также'])"
   ]
  },
  {
   "cell_type": "code",
   "execution_count": 117,
   "id": "172fb51d",
   "metadata": {},
   "outputs": [],
   "source": [
    "top_tokens_to_remove = [\n",
    "    \"год\",\n",
    "    \"года\",\n",
    "    \"align\",\n",
    "    \"дата\",\n",
    "    \"small\",\n",
    "    \"году\",\n",
    "    \"br\",\n",
    "    \"флаг\",\n",
    "    \"access\",\n",
    "    \"group\",\n",
    "    \"го\",\n",
    "    \"место\",\n",
    "    \"archive\",\n",
    "    \"гс\",\n",
    "    \"style\",\n",
    "    \"род\",\n",
    "    \"время\",\n",
    "    \"website\",\n",
    "    \"of\",\n",
    "    \"ru\",\n",
    "    \"страницы\",\n",
    "    \"автор\",\n",
    "    \"the\",\n",
    "    \"заглавие\",\n",
    "    \"медаль\",\n",
    "    \"составляет\",\n",
    "    \"sfn\",\n",
    "    \"nbsp\",\n",
    "    \"ibge\",\n",
    "    \"чел\",\n",
    "    \"лет\",\n",
    "    \"ширина\",\n",
    "    \"который\",\n",
    "    \"сайт\",\n",
    "    \"вид\",\n",
    "    \"площадь\",\n",
    "    \"её\",\n",
    "    \"no\",\n",
    "    \"png\",\n",
    "    \"тип\",\n",
    "    \"флагификация\",\n",
    "    \"состав\",\n",
    "    \"de\",\n",
    "    \"января\",\n",
    "    \"ссылка\",\n",
    "    \"нп\",\n",
    "    \"географии\",\n",
    "    \"июля\",\n",
    "    \"декабря\",\n",
    "    \"список\",\n",
    "    \"background\",\n",
    "    \"марта\",\n",
    "    \"isbn\",\n",
    "    \"left\",\n",
    "    \"мая\",\n",
    "    \"октября\",\n",
    "    \"апреля\",\n",
    "    \"сентября\",\n",
    "    \"utc\",\n",
    "    \"бс\",\n",
    "    \"июня\",\n",
    "    \"годы\",\n",
    "    \"text\",\n",
    "    \"do\",\n",
    "    \"стал\",\n",
    "    \"века\",\n",
    "    \"августа\",\n",
    "    \"svg\",\n",
    "    \"герой\",\n",
    "    \"издание\",\n",
    "    \"нл\",\n",
    "    \"клуб\",\n",
    "    \"deadlink\",\n",
    "    \"лист\",\n",
    "    \"ноября\",\n",
    "    \"февраля\",\n",
    "    \"ii\",\n",
    "    \"archiveurl\",\n",
    "    \"per\",\n",
    "    \"capita\",\n",
    "    \"которые\",\n",
    "    \"страниц\",\n",
    "    \"id\",\n",
    "    \"штат\",\n",
    "    \"день\",\n",
    "    \"ссылки\",\n",
    "    \"см\",\n",
    "    \"согласно\"\n",
    "]"
   ]
  },
  {
   "cell_type": "code",
   "execution_count": 118,
   "id": "21908983",
   "metadata": {},
   "outputs": [],
   "source": [
    "specific_stopwords = [\n",
    "    'категория', 'категории',\n",
    "    'примечания', 'примечание',\n",
    "    'изображение', 'изображение',\n",
    "    'файл', 'файлы',\n",
    "    'автонумерация',\n",
    "    'столбцов', 'столбец',\n",
    "    'название',\n",
    "    'оформление',\n",
    "    'заголовок',\n",
    "    'автоссылка',\n",
    "    'выравнивание',\n",
    "    'сортировка', 'сортировки',\n",
    "    'текст',\n",
    "    'число',\n",
    "    'цвет',\n",
    "    'км²',\n",
    "    'lang-pt',\n",
    "    'px',\n",
    "    'lat',\n",
    "    'deg',\n",
    "    'min',\n",
    "    'sec',\n",
    "    'lon',\n",
    "    'dir',\n",
    "    'ref',\n",
    "    'name',\n",
    "    'cite',\n",
    "    'web',\n",
    "    'url',\n",
    "    'title',\n",
    "    'publisher',\n",
    "    'date',\n",
    "    'accessdate',\n",
    "    'lang',\n",
    "    'pt',\n",
    "    'ref',\n",
    "    'author',\n",
    "    'publisher',\n",
    "    'en',\n",
    "    'lang-en',\n",
    "    'jpg',\n",
    "    'noinclude',\n",
    "    'xa0',\n",
    "    'center',\n",
    "    'right',\n",
    "    'gallery'\n",
    "    \n",
    "]"
   ]
  },
  {
   "cell_type": "markdown",
   "id": "272c200b",
   "metadata": {},
   "source": [
    "# Предобработка данных"
   ]
  },
  {
   "cell_type": "code",
   "execution_count": 119,
   "id": "9394cdbc",
   "metadata": {},
   "outputs": [],
   "source": [
    "def text_cleaning(text):\n",
    "  # Удаляем вики-разметку с учетом шаблонов и параметров\n",
    "    text = re.sub(r'{{.*?}}', '', text, flags=re.DOTALL)\n",
    "  # Удаляем HTML-теги\n",
    "    text = re.sub(r'<.*?>', '', text)\n",
    "  # Удаляем ссылки с учетом различных форматов\n",
    "    text = re.sub(r'\\[\\[([^|\\]]*\\|)?([^\\]]*)\\]\\]', r'\\2', text)\n",
    "    text = re.sub(r'(?<=[^\\w\\d])-|-(?=[^\\w\\d])|[^\\w\\d\\s-]', '', text) #Удаляем все символы, кроме букв, цифр, пробелов и дефисов\n",
    "    text = re.sub(r\"\\d+px\", \"\", text)\n",
    "    text = re.sub(r\"\\b[a-z]{3}_[a-z]+( \\d+)?\\b\", \"\", text)\n",
    "\n",
    "  # Удаляем лишние пробелы и переводы строк\n",
    "    text = re.sub(r'\\s+', ' ', text).strip()\n",
    "  # Приводим к нижнему регистру\n",
    "    text = text.lower()\n",
    "    \n",
    "    return text"
   ]
  },
  {
   "cell_type": "code",
   "execution_count": 120,
   "id": "de9c5dce",
   "metadata": {},
   "outputs": [],
   "source": [
    "def remove_stopwords(text): # удаление стоп-слов\n",
    "    tokens = word_tokenize(text)\n",
    "    filtered_tokens = [token for token in tokens if token not in specific_stopwords and token not in top_tokens_to_remove]\n",
    "    return \" \".join(filtered_tokens)"
   ]
  },
  {
   "cell_type": "code",
   "execution_count": 121,
   "id": "69b28e34",
   "metadata": {},
   "outputs": [],
   "source": [
    "def stemming(texts):\n",
    "    stemmed_texts_list = []\n",
    "    for text in tqdm(texts.split()):\n",
    "        try:\n",
    "            tokens = word_tokenize(text)\n",
    "            stemmed_tokens = [stemmer.stem(token) for token in tokens]\n",
    "            text = \" \".join(stemmed_tokens)\n",
    "            stemmed_texts_list.append(text)\n",
    "\n",
    "        except Exception as e:\n",
    "            print(e)\n",
    "\n",
    "    new_text = \" \".join(stemmed_texts_list)\n",
    "    return new_text"
   ]
  },
  {
   "cell_type": "code",
   "execution_count": 160,
   "id": "d5a0bb73",
   "metadata": {},
   "outputs": [],
   "source": [
    "def remove_non_russian_words(text): # удаление слов на латинице\n",
    "    russian_word_pattern = re.compile(r'^[а-яА-Я]+$')\n",
    "    words = text.split()\n",
    "    russian_words = [word for word in words if russian_word_pattern.match(word)]\n",
    "    return ' '.join(russian_words)"
   ]
  },
  {
   "cell_type": "code",
   "execution_count": 161,
   "id": "e4857859",
   "metadata": {},
   "outputs": [],
   "source": [
    "def preprocessing_data(text):\n",
    "    text = text_cleaning(text)\n",
    "    text = remove_stopwords(text)\n",
    "    text = remove_non_russian_words(text)\n",
    "    #text = stemming(text)\n",
    "    \n",
    "    return text\n",
    "    \n",
    "    "
   ]
  },
  {
   "cell_type": "code",
   "execution_count": 131,
   "id": "52b12dc5",
   "metadata": {},
   "outputs": [],
   "source": [
    "data = pd.read_csv('texts_csv.csv')"
   ]
  },
  {
   "cell_type": "code",
   "execution_count": 228,
   "id": "1f2c1494",
   "metadata": {},
   "outputs": [],
   "source": [
    "with open('emotional_data_list.pickle', 'wb') as file:\n",
    "    pickle.dump(TOXIC_TOKENS, file)"
   ]
  },
  {
   "cell_type": "code",
   "execution_count": 230,
   "id": "1c1686e5",
   "metadata": {},
   "outputs": [
    {
     "name": "stdout",
     "output_type": "stream",
     "text": [
      "<class 'pandas.core.frame.DataFrame'>\n",
      "Int64Index: 29254 entries, 0 to 29258\n",
      "Data columns (total 2 columns):\n",
      " #   Column  Non-Null Count  Dtype \n",
      "---  ------  --------------  ----- \n",
      " 0   text    29254 non-null  object\n",
      " 1   type    29254 non-null  int32 \n",
      "dtypes: int32(1), object(1)\n",
      "memory usage: 571.4+ KB\n"
     ]
    }
   ],
   "source": [
    "data.info() # 5 записей без текста"
   ]
  },
  {
   "cell_type": "code",
   "execution_count": 231,
   "id": "ba90dc22",
   "metadata": {},
   "outputs": [],
   "source": [
    "data = data[data.text.isna() == False]"
   ]
  },
  {
   "cell_type": "code",
   "execution_count": 133,
   "id": "38cd9c51",
   "metadata": {},
   "outputs": [],
   "source": [
    "data = data[['text', 'type']]"
   ]
  },
  {
   "cell_type": "code",
   "execution_count": 110,
   "id": "618ceb77",
   "metadata": {},
   "outputs": [
    {
     "data": {
      "text/plain": [
       "array([\"['Статья не проходила экспертную проверку', 'Обычная статья']\",\n",
       "       \"['Готовая статья']\",\n",
       "       \"['Готовая статья', 'Статья не проходила экспертную проверку']\",\n",
       "       \"['Готовая статья', 'Статья успешно прошла экспертную проверку']\",\n",
       "       \"['Хорошая статья', 'Статья успешно прошла экспертную проверку']\",\n",
       "       \"['Обычная статья']\",\n",
       "       \"['Избранная статья', 'Статья успешно прошла экспертную проверку']\",\n",
       "       \"['Готовая статья', 'Кандидат в избранные статьи']\",\n",
       "       \"['Избранная статья']\",\n",
       "       \"['Готовая статья', 'Кандидат в хорошие статьи']\",\n",
       "       \"['Хорошая статья']\",\n",
       "       \"['Статья под удаление', 'Статья не проходила экспертную проверку']\",\n",
       "       \"['Статья успешно прошла экспертную проверку']\",\n",
       "       \"['Готовая статья', 'Статья не успешно прошла экспертную проверку']\",\n",
       "       \"{'0': 'Готовая статья', '1': 'Кандидат в хорошие статьи', '3': 'Статья успешно прошла экспертную проверку'}\",\n",
       "       \"['Хорошая статья', 'Статья не проходила экспертную проверку']\",\n",
       "       \"['Кандидат в хорошие статьи', 'Готовая статья', 'Статья успешно прошла экспертную проверку']\",\n",
       "       \"['Статья не успешно прошла экспертную проверку']\",\n",
       "       \"{'0': 'Готовая статья', '1': 'Кандидат в избранные статьи', '3': 'Статья успешно прошла экспертную проверку'}\",\n",
       "       \"['Кандидат в хорошие статьи', 'Готовая статья']\",\n",
       "       \"['Готовая статья', 'Кандидат в хорошие статьи', 'Статья успешно прошла экспертную проверку']\",\n",
       "       \"['Кандидат в избранные статьи', 'Готовая статья', 'Хорошая статья']\"],\n",
       "      dtype=object)"
      ]
     },
     "execution_count": 110,
     "metadata": {},
     "output_type": "execute_result"
    }
   ],
   "source": [
    "data.type.unique() # 22 вида статей"
   ]
  },
  {
   "cell_type": "code",
   "execution_count": 111,
   "id": "96a61caa",
   "metadata": {},
   "outputs": [],
   "source": [
    "GOOD_TYPES = [\n",
    "       \"['Готовая статья']\",\n",
    "       \"['Готовая статья', 'Статья успешно прошла экспертную проверку']\",\n",
    "       \"['Хорошая статья', 'Статья успешно прошла экспертную проверку']\",\n",
    "       \"['Избранная статья', 'Статья успешно прошла экспертную проверку']\",\n",
    "       \"['Готовая статья', 'Кандидат в избранные статьи']\",\n",
    "       \"['Избранная статья']\",\n",
    "       \"['Готовая статья', 'Кандидат в хорошие статьи']\",\n",
    "       \"['Хорошая статья']\",\n",
    "       \"['Статья успешно прошла экспертную проверку']\",\n",
    "       \"{'0': 'Готовая статья', '1': 'Кандидат в хорошие статьи', '3': 'Статья успешно прошла экспертную проверку'}\",\n",
    "       \"['Кандидат в хорошие статьи', 'Готовая статья', 'Статья успешно прошла экспертную проверку']\",\n",
    "       \"{'0': 'Готовая статья', '1': 'Кандидат в избранные статьи', '3': 'Статья успешно прошла экспертную проверку'}\",\n",
    "       \"['Кандидат в хорошие статьи', 'Готовая статья']\",\n",
    "       \"['Готовая статья', 'Кандидат в хорошие статьи', 'Статья успешно прошла экспертную проверку']\",\n",
    "       \"['Кандидат в избранные статьи', 'Готовая статья', 'Хорошая статья']\"\n",
    "]\n",
    "\n",
    "BAD_TYPES = [\n",
    "       \"['Статья не проходила экспертную проверку', 'Обычная статья']\",\n",
    "       \"['Готовая статья', 'Статья не проходила экспертную проверку']\",\n",
    "       \"['Обычная статья']\",\n",
    "       \"['Статья под удаление', 'Статья не проходила экспертную проверку']\",\n",
    "       \"['Готовая статья', 'Статья не успешно прошла экспертную проверку']\",\n",
    "       \"['Хорошая статья', 'Статья не проходила экспертную проверку']\",\n",
    "       \"['Статья не успешно прошла экспертную проверку']\",\n",
    "]"
   ]
  },
  {
   "cell_type": "code",
   "execution_count": 84,
   "id": "bccf1d24",
   "metadata": {},
   "outputs": [],
   "source": [
    "data['target'] = data['type'].apply(lambda x: 1 if x in GOOD_TYPES else 0) #1 если статья нейтральна и 0 в ином случае"
   ]
  },
  {
   "cell_type": "code",
   "execution_count": 85,
   "id": "471d3178",
   "metadata": {},
   "outputs": [
    {
     "data": {
      "text/plain": [
       "text      0.142913\n",
       "type      0.142913\n",
       "target    0.142913\n",
       "dtype: float64"
      ]
     },
     "execution_count": 85,
     "metadata": {},
     "output_type": "execute_result"
    }
   ],
   "source": [
    "(data[data.target == 1].count()) / (data[data.target == 0].count()) # bad types намного больше"
   ]
  },
  {
   "cell_type": "code",
   "execution_count": 134,
   "id": "d5659867",
   "metadata": {},
   "outputs": [
    {
     "name": "stdout",
     "output_type": "stream",
     "text": [
      "CPU times: total: 2min 14s\n",
      "Wall time: 2min 16s\n"
     ]
    }
   ],
   "source": [
    "%%time\n",
    "data['text'] = data['text'].apply(preprocessing_data)"
   ]
  },
  {
   "cell_type": "markdown",
   "id": "6ef2e83d",
   "metadata": {},
   "source": [
    "Найдем самые часто встречающиеся слова, которые также следует удалить: стоп-слова, слова-паразиты, слова на латинице, служебные токены"
   ]
  },
  {
   "cell_type": "code",
   "execution_count": 81,
   "id": "678f8d24",
   "metadata": {},
   "outputs": [],
   "source": [
    "mes_text_corpus = []\n",
    "for value_list in data.text:\n",
    "    tokens = word_tokenize(value_list)\n",
    "    mes_text_corpus.extend(tokens)"
   ]
  },
  {
   "cell_type": "code",
   "execution_count": 83,
   "id": "a6ab6562",
   "metadata": {},
   "outputs": [],
   "source": [
    "vectorizer = CountVectorizer()\n",
    "X = vectorizer.fit_transform(mes_text_corpus)\n",
    "vocabulary = vectorizer.get_feature_names_out()"
   ]
  },
  {
   "cell_type": "code",
   "execution_count": 84,
   "id": "464b18b2",
   "metadata": {},
   "outputs": [],
   "source": [
    "token_counts = X.sum(axis=0)\n",
    "token_freq = {token: count for token, count in zip(vocabulary, token_counts.tolist()[0])}"
   ]
  },
  {
   "cell_type": "code",
   "execution_count": 98,
   "id": "aeae1fe6",
   "metadata": {},
   "outputs": [],
   "source": [
    "sorted_tokens = sorted(token_freq.items(), key=lambda x: x[1], reverse=True)\n",
    "top_tokens = sorted_tokens[:200]  # Первые 10 самых частых токенов"
   ]
  },
  {
   "cell_type": "markdown",
   "id": "786310ae",
   "metadata": {},
   "source": [
    "# ---------------------------------------------------------------------------------------------"
   ]
  },
  {
   "cell_type": "code",
   "execution_count": null,
   "id": "8c7badf7",
   "metadata": {},
   "outputs": [],
   "source": [
    "data.to_csv('latest_data.csv') #сохраним новый датасет, который отправим на разметку в gemini"
   ]
  }
 ],
 "metadata": {
  "kernelspec": {
   "display_name": "Python 3 (ipykernel)",
   "language": "python",
   "name": "python3"
  },
  "language_info": {
   "codemirror_mode": {
    "name": "ipython",
    "version": 3
   },
   "file_extension": ".py",
   "mimetype": "text/x-python",
   "name": "python",
   "nbconvert_exporter": "python",
   "pygments_lexer": "ipython3",
   "version": "3.11.5"
  }
 },
 "nbformat": 4,
 "nbformat_minor": 5
}
