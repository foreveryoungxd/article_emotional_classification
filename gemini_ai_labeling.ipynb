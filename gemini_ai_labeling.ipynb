{
  "cells": [
    {
      "cell_type": "code",
      "execution_count": null,
      "metadata": {
        "id": "xVb14wz2_TwT"
      },
      "outputs": [],
      "source": [
        "!pip install -U -q google-generativeai"
      ]
    },
    {
      "cell_type": "code",
      "execution_count": 1,
      "metadata": {
        "id": "JEGtQp3g_fBb"
      },
      "outputs": [],
      "source": [
        "import google.generativeai as genai\n",
        "import json\n",
        "import base64\n",
        "import pathlib\n",
        "import pprint\n",
        "import requests\n",
        "import mimetypes\n",
        "from IPython.display import Markdown\n",
        "\n",
        "import pandas as pd\n",
        "\n",
        "import time\n",
        "import os"
      ]
    },
    {
      "cell_type": "code",
      "execution_count": 9,
      "metadata": {
        "id": "IR4DPkXSAFlh"
      },
      "outputs": [],
      "source": [
        "API_KEY = os.environ.get('GEMINI_API_KEY')\n",
        "genai.configure(api_key=API_KEY)\n"
      ]
    },
    {
      "cell_type": "code",
      "execution_count": 10,
      "metadata": {
        "id": "D6lByYs6AN7_"
      },
      "outputs": [],
      "source": [
        "generation_config = {\n",
        "  \"temperature\": 0.8,\n",
        "  \"top_p\": 0.95,\n",
        "  \"top_k\": 0,\n",
        "  \"max_output_tokens\": 1024,\n",
        "}\n",
        "\n",
        "safety_settings = [\n",
        "  {\n",
        "    \"category\": \"HARM_CATEGORY_HARASSMENT\",\n",
        "    \"threshold\": \"BLOCK_NONE\"\n",
        "  },\n",
        "  {\n",
        "    \"category\": \"HARM_CATEGORY_HATE_SPEECH\",\n",
        "    \"threshold\": \"BLOCK_NONE\"\n",
        "  },\n",
        "  {\n",
        "    \"category\": \"HARM_CATEGORY_SEXUALLY_EXPLICIT\",\n",
        "    \"threshold\": \"BLOCK_NONE\"\n",
        "  },\n",
        "  {\n",
        "    \"category\": \"HARM_CATEGORY_DANGEROUS_CONTENT\",\n",
        "    \"threshold\": \"BLOCK_NONE\"\n",
        "  },\n",
        "]\n"
      ]
    },
    {
      "cell_type": "code",
      "execution_count": 11,
      "metadata": {
        "id": "9aktmekYBQia"
      },
      "outputs": [],
      "source": [
        "SYSTEM_PROMPT = \"\"\"Твоя задача - проанализировать текст, который будет отправлен в сообщении и выделить в нем агитационные или мотивационные выражения, лексические конструкции с эмоциональным окрасом и лексические конструкции с политическим окрасом.\n",
        "\n",
        "Не выделяй исторические факты, такие как даты, события, названия соглашений, договоров, войн или сражений, как политические выражения. В список 'politics' включай только те выражения, которые имеют ярко выраженный негативный политический окрас, содержат признаки национализма, экстремизма, фашизма или призывы к насилию. Например, выражение \"Государственная дума\" или \"Парламент\" включать не надо.\n",
        "\n",
        "Например: \"Вперед, за Спартак!\", \"Великолепный автор\", \"Самый великий и признанный\" -  степени величия, \"Гитлер - урод\" - уничижение, \"Евреев надо убивать\", \"Хохлы проиграют войну\" - выражения с негативным политическим окрасом, с признаками национализма и призыва к насилию.\n",
        "\n",
        "Формат вывода - dict, без лишних символов до начала dict и после него:\n",
        "{'prediction': ,'agitation': ,'emotions': ,'politics':}\n",
        "\n",
        "prediction - предсказание того, является ли текст стилистически нейтральным или нет (1 - если текст нейтральный и 0 - если текст не нейтральный);\n",
        "agitation - список агитационных или мотивационных выражений, если их нет, то пустой список;\n",
        "emotions - список лексических конструкций с эмоциональным окрасом, если их нет, то пустой список;\n",
        "politics - список лексических конструкций с политическим окрасом, если их нет, то пустой список.\n",
        "\n",
        "В каждом списке не должно быть повторяющихся или очень похожих выражений.\n",
        "\"\"\""
      ]
    },
    {
      "cell_type": "code",
      "execution_count": 12,
      "metadata": {
        "id": "YSHg6-uaBSDM"
      },
      "outputs": [],
      "source": [
        "model = genai.GenerativeModel(model_name=\"gemini-1.5-pro-latest\",\n",
        "                              generation_config=generation_config,\n",
        "                              system_instruction=SYSTEM_PROMPT,\n",
        "                              safety_settings=safety_settings)"
      ]
    },
    {
      "cell_type": "code",
      "execution_count": 1,
      "metadata": {
        "colab": {
          "base_uri": "https://localhost:8080/"
        },
        "id": "lwn5nQMBkYfM",
        "outputId": "6137e77b-47b2-478c-cff7-b5d81fc91928"
      },
      "outputs": [
        {
          "output_type": "stream",
          "name": "stdout",
          "text": [
            "Drive already mounted at /content/drive; to attempt to forcibly remount, call drive.mount(\"/content/drive\", force_remount=True).\n"
          ]
        }
      ],
      "source": [
        "from google.colab import drive\n",
        "drive.mount('/content/drive')"
      ]
    },
    {
      "cell_type": "code",
      "execution_count": 17,
      "metadata": {
        "id": "o7h_xxnzLip0"
      },
      "outputs": [],
      "source": [
        "class RequestGemini:\n",
        "  def __init__(self, gen_cfg: dict,\n",
        "               safety_set: list,\n",
        "               sys_instr: str = SYSTEM_PROMPT,\n",
        "               model: str = \"gemini-1.5-pro-latest\"):\n",
        "\n",
        "    self.gemini_model = genai.GenerativeModel(model_name=model,\n",
        "                              generation_config=gen_cfg,\n",
        "                              system_instruction=sys_instr,\n",
        "                              safety_settings=safety_set)\n",
        "\n",
        "  def process_text_labelling(self, msg: str):\n",
        "\n",
        "    convo = self.gemini_model.start_chat(history=[])\n",
        "    convo.send_message(msg)\n",
        "\n",
        "    return convo.last.text"
      ]
    },
    {
      "cell_type": "code",
      "execution_count": 18,
      "metadata": {
        "id": "47bJC3ngulwo"
      },
      "outputs": [],
      "source": [
        "manager = RequestGemini(generation_config, safety_settings, SYSTEM_PROMPT)"
      ]
    },
    {
      "cell_type": "code",
      "execution_count": 19,
      "metadata": {
        "id": "GOfCQr4EvZyQ"
      },
      "outputs": [],
      "source": [
        "data = pd.read_csv('drive/MyDrive/latest_data.csv')\n"
      ]
    },
    {
      "cell_type": "code",
      "execution_count": 20,
      "metadata": {
        "colab": {
          "base_uri": "https://localhost:8080/"
        },
        "id": "oElxxpAw1cQ6",
        "outputId": "3aff05b6-0c68-4396-988b-e32fe3fdbd82"
      },
      "outputs": [
        {
          "output_type": "stream",
          "name": "stdout",
          "text": [
            "<class 'pandas.core.frame.DataFrame'>\n",
            "RangeIndex: 29254 entries, 0 to 29253\n",
            "Data columns (total 3 columns):\n",
            " #   Column  Non-Null Count  Dtype \n",
            "---  ------  --------------  ----- \n",
            " 0   text    29240 non-null  object\n",
            " 1   type    29254 non-null  object\n",
            " 2   target  29254 non-null  int64 \n",
            "dtypes: int64(1), object(2)\n",
            "memory usage: 685.8+ KB\n"
          ]
        }
      ],
      "source": [
        "data.info()"
      ]
    },
    {
      "cell_type": "code",
      "execution_count": 21,
      "metadata": {
        "id": "RoSpDF4X1c6a"
      },
      "outputs": [],
      "source": [
        "data = data[data.text.isna() == False]"
      ]
    },
    {
      "cell_type": "markdown",
      "metadata": {
        "id": "NMZlRk3k2uVL"
      },
      "source": [
        "Для ускорения разметки датасета и последующего обучения на нем языковой модели оставим все записи с **target** == 1 и 10000 записей с **target** == 0"
      ]
    },
    {
      "cell_type": "code",
      "execution_count": 23,
      "metadata": {
        "id": "1HfNHwUo2BI2"
      },
      "outputs": [],
      "source": [
        "target_1 = data[data[\"target\"] == 1]\n",
        "\n",
        "# Выбираем 10000 строк с target == 0\n",
        "target_0 = data[data[\"target\"] == 0].sample(n=10000, random_state=42)"
      ]
    },
    {
      "cell_type": "code",
      "execution_count": 24,
      "metadata": {
        "id": "oqK1KDcT3DM9"
      },
      "outputs": [],
      "source": [
        "balanced_data = pd.concat([target_1, target_0], ignore_index=True)\n",
        "balanced_data = balanced_data.sample(frac=1, random_state=42).reset_index(drop=True)"
      ]
    },
    {
      "cell_type": "code",
      "execution_count": 26,
      "metadata": {
        "colab": {
          "base_uri": "https://localhost:8080/",
          "height": 424
        },
        "id": "u-ig4zYc3EC3",
        "outputId": "1c92f649-c99b-4b21-aafc-d5588cedd069"
      },
      "outputs": [
        {
          "output_type": "execute_result",
          "data": {
            "text/plain": [
              "                                                    text  \\\n",
              "1000   марина орлова орлова марина викторовна российс...   \n",
              "1001   золотая серп и молот ссср учреждена указом пре...   \n",
              "1002   тбилиси страны стран участников спортсмен меда...   \n",
              "1003   портрет п а столыпина картина ильи репина напи...   \n",
              "1004   александр иванович смирнов смирнов александр и...   \n",
              "...                                                  ...   \n",
              "13653  праздники и памятные дни национальные украина ...   \n",
              "13654  флага герб герба страна бразилия региона админ...   \n",
              "13655  флага герб герба страна испания региона автоно...   \n",
              "13656  отец мать супруг дети награды и премии викискл...   \n",
              "13657  флага герб герба страна бразилия региона админ...   \n",
              "\n",
              "                                                    type  target  \n",
              "1000   ['Статья не проходила экспертную проверку', 'О...       0  \n",
              "1001   ['Статья не проходила экспертную проверку', 'О...       0  \n",
              "1002   ['Статья не проходила экспертную проверку', 'О...       0  \n",
              "1003   ['Статья не проходила экспертную проверку', 'О...       0  \n",
              "1004   ['Статья не проходила экспертную проверку', 'О...       0  \n",
              "...                                                  ...     ...  \n",
              "13653  ['Статья не проходила экспертную проверку', 'О...       0  \n",
              "13654  ['Статья не проходила экспертную проверку', 'О...       0  \n",
              "13655  ['Статья не проходила экспертную проверку', 'О...       0  \n",
              "13656                                 ['Готовая статья']       1  \n",
              "13657  ['Статья не проходила экспертную проверку', 'О...       0  \n",
              "\n",
              "[12658 rows x 3 columns]"
            ],
            "text/html": [
              "\n",
              "  <div id=\"df-cd1b664a-cf32-4a45-a86f-9a7fa673755e\" class=\"colab-df-container\">\n",
              "    <div>\n",
              "<style scoped>\n",
              "    .dataframe tbody tr th:only-of-type {\n",
              "        vertical-align: middle;\n",
              "    }\n",
              "\n",
              "    .dataframe tbody tr th {\n",
              "        vertical-align: top;\n",
              "    }\n",
              "\n",
              "    .dataframe thead th {\n",
              "        text-align: right;\n",
              "    }\n",
              "</style>\n",
              "<table border=\"1\" class=\"dataframe\">\n",
              "  <thead>\n",
              "    <tr style=\"text-align: right;\">\n",
              "      <th></th>\n",
              "      <th>text</th>\n",
              "      <th>type</th>\n",
              "      <th>target</th>\n",
              "    </tr>\n",
              "  </thead>\n",
              "  <tbody>\n",
              "    <tr>\n",
              "      <th>1000</th>\n",
              "      <td>марина орлова орлова марина викторовна российс...</td>\n",
              "      <td>['Статья не проходила экспертную проверку', 'О...</td>\n",
              "      <td>0</td>\n",
              "    </tr>\n",
              "    <tr>\n",
              "      <th>1001</th>\n",
              "      <td>золотая серп и молот ссср учреждена указом пре...</td>\n",
              "      <td>['Статья не проходила экспертную проверку', 'О...</td>\n",
              "      <td>0</td>\n",
              "    </tr>\n",
              "    <tr>\n",
              "      <th>1002</th>\n",
              "      <td>тбилиси страны стран участников спортсмен меда...</td>\n",
              "      <td>['Статья не проходила экспертную проверку', 'О...</td>\n",
              "      <td>0</td>\n",
              "    </tr>\n",
              "    <tr>\n",
              "      <th>1003</th>\n",
              "      <td>портрет п а столыпина картина ильи репина напи...</td>\n",
              "      <td>['Статья не проходила экспертную проверку', 'О...</td>\n",
              "      <td>0</td>\n",
              "    </tr>\n",
              "    <tr>\n",
              "      <th>1004</th>\n",
              "      <td>александр иванович смирнов смирнов александр и...</td>\n",
              "      <td>['Статья не проходила экспертную проверку', 'О...</td>\n",
              "      <td>0</td>\n",
              "    </tr>\n",
              "    <tr>\n",
              "      <th>...</th>\n",
              "      <td>...</td>\n",
              "      <td>...</td>\n",
              "      <td>...</td>\n",
              "    </tr>\n",
              "    <tr>\n",
              "      <th>13653</th>\n",
              "      <td>праздники и памятные дни национальные украина ...</td>\n",
              "      <td>['Статья не проходила экспертную проверку', 'О...</td>\n",
              "      <td>0</td>\n",
              "    </tr>\n",
              "    <tr>\n",
              "      <th>13654</th>\n",
              "      <td>флага герб герба страна бразилия региона админ...</td>\n",
              "      <td>['Статья не проходила экспертную проверку', 'О...</td>\n",
              "      <td>0</td>\n",
              "    </tr>\n",
              "    <tr>\n",
              "      <th>13655</th>\n",
              "      <td>флага герб герба страна испания региона автоно...</td>\n",
              "      <td>['Статья не проходила экспертную проверку', 'О...</td>\n",
              "      <td>0</td>\n",
              "    </tr>\n",
              "    <tr>\n",
              "      <th>13656</th>\n",
              "      <td>отец мать супруг дети награды и премии викискл...</td>\n",
              "      <td>['Готовая статья']</td>\n",
              "      <td>1</td>\n",
              "    </tr>\n",
              "    <tr>\n",
              "      <th>13657</th>\n",
              "      <td>флага герб герба страна бразилия региона админ...</td>\n",
              "      <td>['Статья не проходила экспертную проверку', 'О...</td>\n",
              "      <td>0</td>\n",
              "    </tr>\n",
              "  </tbody>\n",
              "</table>\n",
              "<p>12658 rows × 3 columns</p>\n",
              "</div>\n",
              "    <div class=\"colab-df-buttons\">\n",
              "\n",
              "  <div class=\"colab-df-container\">\n",
              "    <button class=\"colab-df-convert\" onclick=\"convertToInteractive('df-cd1b664a-cf32-4a45-a86f-9a7fa673755e')\"\n",
              "            title=\"Convert this dataframe to an interactive table.\"\n",
              "            style=\"display:none;\">\n",
              "\n",
              "  <svg xmlns=\"http://www.w3.org/2000/svg\" height=\"24px\" viewBox=\"0 -960 960 960\">\n",
              "    <path d=\"M120-120v-720h720v720H120Zm60-500h600v-160H180v160Zm220 220h160v-160H400v160Zm0 220h160v-160H400v160ZM180-400h160v-160H180v160Zm440 0h160v-160H620v160ZM180-180h160v-160H180v160Zm440 0h160v-160H620v160Z\"/>\n",
              "  </svg>\n",
              "    </button>\n",
              "\n",
              "  <style>\n",
              "    .colab-df-container {\n",
              "      display:flex;\n",
              "      gap: 12px;\n",
              "    }\n",
              "\n",
              "    .colab-df-convert {\n",
              "      background-color: #E8F0FE;\n",
              "      border: none;\n",
              "      border-radius: 50%;\n",
              "      cursor: pointer;\n",
              "      display: none;\n",
              "      fill: #1967D2;\n",
              "      height: 32px;\n",
              "      padding: 0 0 0 0;\n",
              "      width: 32px;\n",
              "    }\n",
              "\n",
              "    .colab-df-convert:hover {\n",
              "      background-color: #E2EBFA;\n",
              "      box-shadow: 0px 1px 2px rgba(60, 64, 67, 0.3), 0px 1px 3px 1px rgba(60, 64, 67, 0.15);\n",
              "      fill: #174EA6;\n",
              "    }\n",
              "\n",
              "    .colab-df-buttons div {\n",
              "      margin-bottom: 4px;\n",
              "    }\n",
              "\n",
              "    [theme=dark] .colab-df-convert {\n",
              "      background-color: #3B4455;\n",
              "      fill: #D2E3FC;\n",
              "    }\n",
              "\n",
              "    [theme=dark] .colab-df-convert:hover {\n",
              "      background-color: #434B5C;\n",
              "      box-shadow: 0px 1px 3px 1px rgba(0, 0, 0, 0.15);\n",
              "      filter: drop-shadow(0px 1px 2px rgba(0, 0, 0, 0.3));\n",
              "      fill: #FFFFFF;\n",
              "    }\n",
              "  </style>\n",
              "\n",
              "    <script>\n",
              "      const buttonEl =\n",
              "        document.querySelector('#df-cd1b664a-cf32-4a45-a86f-9a7fa673755e button.colab-df-convert');\n",
              "      buttonEl.style.display =\n",
              "        google.colab.kernel.accessAllowed ? 'block' : 'none';\n",
              "\n",
              "      async function convertToInteractive(key) {\n",
              "        const element = document.querySelector('#df-cd1b664a-cf32-4a45-a86f-9a7fa673755e');\n",
              "        const dataTable =\n",
              "          await google.colab.kernel.invokeFunction('convertToInteractive',\n",
              "                                                    [key], {});\n",
              "        if (!dataTable) return;\n",
              "\n",
              "        const docLinkHtml = 'Like what you see? Visit the ' +\n",
              "          '<a target=\"_blank\" href=https://colab.research.google.com/notebooks/data_table.ipynb>data table notebook</a>'\n",
              "          + ' to learn more about interactive tables.';\n",
              "        element.innerHTML = '';\n",
              "        dataTable['output_type'] = 'display_data';\n",
              "        await google.colab.output.renderOutput(dataTable, element);\n",
              "        const docLink = document.createElement('div');\n",
              "        docLink.innerHTML = docLinkHtml;\n",
              "        element.appendChild(docLink);\n",
              "      }\n",
              "    </script>\n",
              "  </div>\n",
              "\n",
              "\n",
              "<div id=\"df-30ce7c43-cda0-4f95-89b9-e9d239acac65\">\n",
              "  <button class=\"colab-df-quickchart\" onclick=\"quickchart('df-30ce7c43-cda0-4f95-89b9-e9d239acac65')\"\n",
              "            title=\"Suggest charts\"\n",
              "            style=\"display:none;\">\n",
              "\n",
              "<svg xmlns=\"http://www.w3.org/2000/svg\" height=\"24px\"viewBox=\"0 0 24 24\"\n",
              "     width=\"24px\">\n",
              "    <g>\n",
              "        <path d=\"M19 3H5c-1.1 0-2 .9-2 2v14c0 1.1.9 2 2 2h14c1.1 0 2-.9 2-2V5c0-1.1-.9-2-2-2zM9 17H7v-7h2v7zm4 0h-2V7h2v10zm4 0h-2v-4h2v4z\"/>\n",
              "    </g>\n",
              "</svg>\n",
              "  </button>\n",
              "\n",
              "<style>\n",
              "  .colab-df-quickchart {\n",
              "      --bg-color: #E8F0FE;\n",
              "      --fill-color: #1967D2;\n",
              "      --hover-bg-color: #E2EBFA;\n",
              "      --hover-fill-color: #174EA6;\n",
              "      --disabled-fill-color: #AAA;\n",
              "      --disabled-bg-color: #DDD;\n",
              "  }\n",
              "\n",
              "  [theme=dark] .colab-df-quickchart {\n",
              "      --bg-color: #3B4455;\n",
              "      --fill-color: #D2E3FC;\n",
              "      --hover-bg-color: #434B5C;\n",
              "      --hover-fill-color: #FFFFFF;\n",
              "      --disabled-bg-color: #3B4455;\n",
              "      --disabled-fill-color: #666;\n",
              "  }\n",
              "\n",
              "  .colab-df-quickchart {\n",
              "    background-color: var(--bg-color);\n",
              "    border: none;\n",
              "    border-radius: 50%;\n",
              "    cursor: pointer;\n",
              "    display: none;\n",
              "    fill: var(--fill-color);\n",
              "    height: 32px;\n",
              "    padding: 0;\n",
              "    width: 32px;\n",
              "  }\n",
              "\n",
              "  .colab-df-quickchart:hover {\n",
              "    background-color: var(--hover-bg-color);\n",
              "    box-shadow: 0 1px 2px rgba(60, 64, 67, 0.3), 0 1px 3px 1px rgba(60, 64, 67, 0.15);\n",
              "    fill: var(--button-hover-fill-color);\n",
              "  }\n",
              "\n",
              "  .colab-df-quickchart-complete:disabled,\n",
              "  .colab-df-quickchart-complete:disabled:hover {\n",
              "    background-color: var(--disabled-bg-color);\n",
              "    fill: var(--disabled-fill-color);\n",
              "    box-shadow: none;\n",
              "  }\n",
              "\n",
              "  .colab-df-spinner {\n",
              "    border: 2px solid var(--fill-color);\n",
              "    border-color: transparent;\n",
              "    border-bottom-color: var(--fill-color);\n",
              "    animation:\n",
              "      spin 1s steps(1) infinite;\n",
              "  }\n",
              "\n",
              "  @keyframes spin {\n",
              "    0% {\n",
              "      border-color: transparent;\n",
              "      border-bottom-color: var(--fill-color);\n",
              "      border-left-color: var(--fill-color);\n",
              "    }\n",
              "    20% {\n",
              "      border-color: transparent;\n",
              "      border-left-color: var(--fill-color);\n",
              "      border-top-color: var(--fill-color);\n",
              "    }\n",
              "    30% {\n",
              "      border-color: transparent;\n",
              "      border-left-color: var(--fill-color);\n",
              "      border-top-color: var(--fill-color);\n",
              "      border-right-color: var(--fill-color);\n",
              "    }\n",
              "    40% {\n",
              "      border-color: transparent;\n",
              "      border-right-color: var(--fill-color);\n",
              "      border-top-color: var(--fill-color);\n",
              "    }\n",
              "    60% {\n",
              "      border-color: transparent;\n",
              "      border-right-color: var(--fill-color);\n",
              "    }\n",
              "    80% {\n",
              "      border-color: transparent;\n",
              "      border-right-color: var(--fill-color);\n",
              "      border-bottom-color: var(--fill-color);\n",
              "    }\n",
              "    90% {\n",
              "      border-color: transparent;\n",
              "      border-bottom-color: var(--fill-color);\n",
              "    }\n",
              "  }\n",
              "</style>\n",
              "\n",
              "  <script>\n",
              "    async function quickchart(key) {\n",
              "      const quickchartButtonEl =\n",
              "        document.querySelector('#' + key + ' button');\n",
              "      quickchartButtonEl.disabled = true;  // To prevent multiple clicks.\n",
              "      quickchartButtonEl.classList.add('colab-df-spinner');\n",
              "      try {\n",
              "        const charts = await google.colab.kernel.invokeFunction(\n",
              "            'suggestCharts', [key], {});\n",
              "      } catch (error) {\n",
              "        console.error('Error during call to suggestCharts:', error);\n",
              "      }\n",
              "      quickchartButtonEl.classList.remove('colab-df-spinner');\n",
              "      quickchartButtonEl.classList.add('colab-df-quickchart-complete');\n",
              "    }\n",
              "    (() => {\n",
              "      let quickchartButtonEl =\n",
              "        document.querySelector('#df-30ce7c43-cda0-4f95-89b9-e9d239acac65 button');\n",
              "      quickchartButtonEl.style.display =\n",
              "        google.colab.kernel.accessAllowed ? 'block' : 'none';\n",
              "    })();\n",
              "  </script>\n",
              "</div>\n",
              "\n",
              "    </div>\n",
              "  </div>\n"
            ],
            "application/vnd.google.colaboratory.intrinsic+json": {
              "type": "dataframe",
              "summary": "{\n  \"name\": \"balanced_data\",\n  \"rows\": 12658,\n  \"fields\": [\n    {\n      \"column\": \"text\",\n      \"properties\": {\n        \"dtype\": \"string\",\n        \"num_unique_values\": 11966,\n        \"samples\": [\n          \"\\u043f\\u0435\\u0440\\u0438\\u043e\\u0434\\u043a\\u043e\\u043d\\u0435\\u0446 \\u043f\\u0440\\u0435\\u0434\\u0448\\u0435\\u0441\\u0442\\u0432\\u0435\\u043d\\u043d\\u0438\\u043a \\u0440\\u0430\\u0448\\u0438\\u0434 \\u043d\\u0443\\u0440\\u0433\\u0430\\u043b\\u0438\\u0435\\u0432 \\u043f\\u0440\\u0435\\u0435\\u043c\\u043d\\u0438\\u043a \\u043f\\u0440\\u0435\\u043c\\u044c\\u0435\\u0440 \\u0434\\u043c\\u0438\\u0442\\u0440\\u0438\\u0439 \\u043c\\u0435\\u0434\\u0432\\u0435\\u0434\\u0435\\u0432\\u043c\\u0438\\u0445\\u0430\\u0438\\u043b \\u043c\\u0438\\u0448\\u0443\\u0441\\u0442\\u0438\\u043d\\u0430\\u043d\\u0434\\u0440\\u0435\\u0439 \\u0431\\u0435\\u043b\\u043e\\u0443\\u0441\\u043e\\u0432 \\u043c\\u0438\\u0445\\u0430\\u0438\\u043b \\u043c\\u0438\\u0448\\u0443\\u0441\\u0442\\u0438\\u043d \\u043f\\u0440\\u0435\\u0437\\u0438\\u0434\\u0435\\u043d\\u0442 \\u0432\\u043b\\u0430\\u0434\\u0438\\u043c\\u0438\\u0440 \\u043f\\u0443\\u0442\\u0438\\u043d \\u043d\\u0430\\u0447\\u0430\\u043b\\u044c\\u043d\\u0438\\u043a\\u0433\\u043b\\u0430\\u0432\\u043d\\u043e\\u0433\\u043e \\u0443\\u043f\\u0440\\u0430\\u0432\\u043b\\u0435\\u043d\\u0438\\u044f \\u043c\\u0432\\u0434 \\u0440\\u043e\\u0441\\u0441\\u0438\\u0438 \\u043f\\u043e \\u043c\\u043e\\u0441\\u043a\\u0432\\u0435 \\u0434\\u043e\\u043b\\u0436\\u043d\\u043e\\u0441\\u0442\\u044c \\u0443\\u0447\\u0440\\u0435\\u0436\\u0434\\u0435\\u043d\\u0430 \\u043e\\u043d \\u0441\\u0430\\u043c \\u043a\\u0430\\u043a \\u043d\\u0430\\u0447\\u0430\\u043b\\u044c\\u043d\\u0438\\u043a \\u0433\\u0443\\u0432\\u0434 \\u043c\\u043e\\u0441\\u043a\\u0432\\u044b \\u0432\\u0438\\u043a\\u0442\\u043e\\u0440 \\u0433\\u043e\\u043b\\u043e\\u0432\\u0430\\u043d\\u043e\\u0432 \\u0430\\u043d\\u0430\\u0442\\u043e\\u043b\\u0438\\u0439 \\u044f\\u043a\\u0443\\u043d\\u0438\\u043d \\u043d\\u0430\\u0447\\u0430\\u043b\\u044c\\u043d\\u0438\\u043a\\u0433\\u043b\\u0430\\u0432\\u043d\\u043e\\u0433\\u043e \\u0443\\u043f\\u0440\\u0430\\u0432\\u043b\\u0435\\u043d\\u0438\\u044f \\u0432\\u043d\\u0443\\u0442\\u0440\\u0435\\u043d\\u043d\\u0438\\u0445 \\u0434\\u0435\\u043b \\u043c\\u043e\\u0441\\u043a\\u0432\\u044b \\u0432\\u043b\\u0430\\u0434\\u0438\\u043c\\u0438\\u0440 \\u043f\\u0440\\u043e\\u043d\\u0438\\u043d\\u0430\\u043b\\u0435\\u043a\\u0441\\u0430\\u043d\\u0434\\u0440 \\u0438\\u0432\\u0430\\u043d\\u043e\\u0432 \\u0434\\u043e\\u043b\\u0436\\u043d\\u043e\\u0441\\u0442\\u044c \\u0443\\u043f\\u0440\\u0430\\u0437\\u0434\\u043d\\u0435\\u043d\\u0430 \\u043e\\u043d \\u0441\\u0430\\u043c \\u043a\\u0430\\u043a \\u043d\\u0430\\u0447\\u0430\\u043b\\u044c\\u043d\\u0438\\u043a \\u0433\\u0443 \\u043c\\u0432\\u0434 \\u0440\\u043e\\u0441\\u0441\\u0438\\u0438 \\u043f\\u043e \\u0433\\u043e\\u0440\\u043e\\u0434\\u0443 \\u043c\\u043e\\u0441\\u043a\\u0432\\u0435 \\u043d\\u0430\\u0447\\u0430\\u043b\\u044c\\u043d\\u0438\\u043a\\u0443\\u043f\\u0440\\u0430\\u0432\\u043b\\u0435\\u043d\\u0438\\u044f \\u0432\\u043d\\u0443\\u0442\\u0440\\u0435\\u043d\\u043d\\u0438\\u0445 \\u0434\\u0435\\u043b \\u043f\\u043e \\u043e\\u0440\\u043b\\u043e\\u0432\\u0441\\u043a\\u043e\\u0439 \\u043e\\u0431\\u043b\\u0430\\u0441\\u0442\\u0438 \\u043b\\u0435\\u043e\\u043d\\u0438\\u0434 \\u043f\\u0430\\u0448\\u0438\\u043d \\u044e\\u0440\\u0438\\u0439 \\u0441\\u0430\\u0432\\u0435\\u043d\\u043a\\u043e\\u0432 \\u0440\\u043e\\u0436\\u0434\\u0435\\u043d\\u0438\\u044f \\u0440\\u043e\\u0436\\u0434\\u0435\\u043d\\u0438\\u044f \\u043f\\u0435\\u043d\\u0437\\u0435\\u043d\\u0441\\u043a\\u0430\\u044f \\u043e\\u0431\\u043b\\u0430\\u0441\\u0442\\u044c \\u0440\\u0441\\u0444\\u0441\\u0440 \\u0441\\u0441\\u0441\\u0440 \\u0441\\u043c\\u0435\\u0440\\u0442\\u0438 \\u0441\\u043c\\u0435\\u0440\\u0442\\u0438 \\u043e\\u0442\\u0435\\u0446 \\u043c\\u0430\\u0442\\u044c \\u0441\\u0443\\u043f\\u0440\\u0443\\u0433\\u0430 \\u0432\\u0435\\u0440\\u0430 \\u0438\\u0432\\u0430\\u043d\\u043e\\u0432\\u043d\\u0430 \\u043a\\u043e\\u043b\\u043e\\u043a\\u043e\\u043b\\u044c\\u0446\\u0435\\u0432\\u0430 \\u0434\\u0435\\u0442\\u0438 \\u0441\\u044b\\u043d \\u0430\\u043b\\u0435\\u043a\\u0441\\u0430\\u043d\\u0434\\u0440\\u0434\\u043e\\u0447\\u044c \\u0435\\u043a\\u0430\\u0442\\u0435\\u0440\\u0438\\u043d\\u0430 \\u0437\\u0432\\u0430\\u043d\\u0438\\u0435 \\u0433\\u0435\\u043d\\u0435\\u0440\\u0430\\u043b \\u043f\\u043e\\u043b\\u0438\\u0446\\u0438\\u0438 \\u0440\\u043e\\u0441\\u0441\\u0438\\u0439\\u0441\\u043a\\u043e\\u0439 \\u0444\\u0435\\u0434\\u0435\\u0440\\u0430\\u0446\\u0438\\u0438 \\u0441\\u043b\\u0443\\u0436\\u0431\\u044b \\u0441 \\u043f\\u0440\\u0438\\u043d\\u0430\\u0434\\u043b\\u0435\\u0436\\u043d\\u043e\\u0441\\u0442\\u044c \\u0432\\u043e\\u0439\\u0441\\u043a \\u043c\\u0432\\u0434 \\u0441\\u0441\\u0441\\u0440 \\u043c\\u0432\\u0434 \\u0440\\u043e\\u0441\\u0441\\u0438\\u0438 \\u043f\\u0430\\u0440\\u0442\\u0438\\u044f \\u0431\\u0435\\u0441\\u043f\\u0430\\u0440\\u0442\\u0438\\u0439\\u043d\\u044b\\u0439 \\u043e\\u0431\\u0440\\u0430\\u0437\\u043e\\u0432\\u0430\\u043d\\u0438\\u0435 \\u0432\\u044b\\u0441\\u0448\\u0435\\u0435 \\u043f\\u043e\\u043b\\u0438\\u0442\\u0438\\u0447\\u0435\\u0441\\u043a\\u043e\\u0435 \\u0443\\u0447\\u0438\\u043b\\u0438\\u0449\\u0435 \\u0438\\u043c\\u0435\\u043d\\u0438 \\u0432\\u043b\\u043a\\u0441\\u043c \\u043c\\u0432\\u0434 \\u0441\\u0441\\u0441\\u0440 \\u0441\\u0442\\u0435\\u043f\\u0435\\u043d\\u044c \\u043f\\u0440\\u043e\\u0444\\u0435\\u0441\\u0441\\u0438\\u044f \\u044e\\u0440\\u0438\\u0441\\u0442 \\u0434\\u0435\\u044f\\u0442\\u0435\\u043b\\u044c\\u043d\\u043e\\u0441\\u0442\\u044c \\u0432\\u043d\\u0443\\u0442\\u0440\\u0435\\u043d\\u043d\\u044f\\u044f \\u043f\\u043e\\u043b\\u0438\\u0442\\u0438\\u043a\\u0430 \\u043e\\u0431\\u0449\\u0435\\u0441\\u0442\\u0432\\u0435\\u043d\\u043d\\u0430\\u044f \\u0431\\u0435\\u0437\\u043e\\u043f\\u0430\\u0441\\u043d\\u043e\\u0441\\u0442\\u044c \\u043d\\u0430\\u0433\\u0440\\u0430\\u0434\\u044b \\u043d\\u0430\\u0433\\u0440\\u0443\\u0434\\u043d\\u044b\\u0439 \\u0437\\u043d\\u0430\\u043a \\u043c\\u0432\\u0434 \\u043c\\u0438\\u043d\\u0438\\u0441\\u0442\\u0435\\u0440\\u0441\\u0442\\u0432\\u0430 \\u0432\\u043d\\u0443\\u0442\\u0440\\u0435\\u043d\\u043d\\u0438\\u0445 \\u0434\\u0435\\u043b \\u0440\\u043e\\u0441\\u0441\\u0438\\u0439\\u0441\\u043a\\u043e\\u0439 \\u0444\\u0435\\u0434\\u0435\\u0440\\u0430\\u0446\\u0438\\u0438\\u043d\\u0430\\u0433\\u0440\\u0443\\u0434\\u043d\\u044b\\u0435 \\u0437\\u043d\\u0430\\u043a\\u0438 \\u043c\\u0432\\u0434 \\u0433\\u0440\\u0430\\u0436\\u0434\\u0430\\u043d\\u0438\\u043d \\u043e\\u0440\\u043b\\u043e\\u0432\\u0441\\u043a\\u043e\\u0439 \\u0433\\u0440\\u0430\\u0436\\u0434\\u0430\\u043d\\u0438\\u043d \\u043e\\u0440\\u043b\\u043e\\u0432\\u0441\\u043a\\u043e\\u0439 \\u043e\\u0431\\u043b\\u0430\\u0441\\u0442\\u0438 \\u043c\\u0438\\u043d\\u0438\\u0441\\u0442\\u0435\\u0440\\u0441\\u0442\\u0432\\u043e \\u0432\\u043d\\u0443\\u0442\\u0440\\u0435\\u043d\\u043d\\u0438\\u0445 \\u0434\\u0435\\u043b \\u0432\\u043b\\u0430\\u0434\\u0438\\u043c\\u0438\\u0440 \\u0430\\u043b\\u0435\\u043a\\u0441\\u0430\\u043d\\u0434\\u0440\\u043e\\u0432\\u0438\\u0447 \\u043a\\u043e\\u043b\\u043e\\u043a\\u043e\\u043b\\u044c\\u0446\\u0435\\u0432 \\u043d\\u0438\\u0436\\u043d\\u0438\\u0439 \\u043b\\u043e\\u043c\\u043e\\u0432 \\u043f\\u0435\\u043d\\u0437\\u0435\\u043d\\u0441\\u043a\\u0430\\u044f \\u043e\\u0431\\u043b\\u0430\\u0441\\u0442\\u044c \\u0440\\u0441\\u0444\\u0441\\u0440 \\u0441\\u0441\\u0441\\u0440 \\u0441\\u043e\\u0432\\u0435\\u0442\\u0441\\u043a\\u0438\\u0439 \\u0438 \\u0440\\u043e\\u0441\\u0441\\u0438\\u0439\\u0441\\u043a\\u0438\\u0439 \\u0434\\u0435\\u044f\\u0442\\u0435\\u043b\\u044c \\u043e\\u0440\\u0433\\u0430\\u043d\\u043e\\u0432 \\u0432\\u043d\\u0443\\u0442\\u0440\\u0435\\u043d\\u043d\\u0438\\u0445 \\u0434\\u0435\\u043b \\u044e\\u0440\\u0438\\u0441\\u0442 \\u0440\\u043e\\u0441\\u0441\\u0438\\u0439\\u0441\\u043a\\u0438\\u0439 \\u0433\\u043e\\u0441\\u0443\\u0434\\u0430\\u0440\\u0441\\u0442\\u0432\\u0435\\u043d\\u043d\\u044b\\u0439 \\u0434\\u0435\\u044f\\u0442\\u0435\\u043b\\u044c \\u043c\\u0438\\u043d\\u0438\\u0441\\u0442\\u0440 \\u0432\\u043d\\u0443\\u0442\\u0440\\u0435\\u043d\\u043d\\u0438\\u0445 \\u0434\\u0435\\u043b \\u0440\\u043e\\u0441\\u0441\\u0438\\u0439\\u0441\\u043a\\u043e\\u0439 \\u0444\\u0435\\u0434\\u0435\\u0440\\u0430\\u0446\\u0438\\u0438 \\u0441 \\u0438\\u0441\\u043f\\u043e\\u043b\\u043d\\u044f\\u044e\\u0449\\u0438\\u0439 \\u043e\\u0431\\u044f\\u0437\\u0430\\u043d\\u043d\\u043e\\u0441\\u0442\\u0438 \\u0441 \\u043f\\u043e \\u0438 \\u0441 \\u043f\\u043e \\u043f\\u0440\\u0430\\u0432\\u0438\\u0442\\u0435\\u043b\\u044c\\u0441\\u0442\\u0432\\u043e \\u0440\\u0444 \\u043f\\u043e\\u0434\\u0430\\u043b\\u043e \\u0432 \\u043e\\u0442\\u0441\\u0442\\u0430\\u0432\\u043a\\u0443 \\u043d\\u0430\\u0447\\u0430\\u043b\\u044c\\u043d\\u0438\\u043a \\u0433\\u043b\\u0430\\u0432\\u043d\\u043e\\u0433\\u043e \\u0443\\u043f\\u0440\\u0430\\u0432\\u043b\\u0435\\u043d\\u0438\\u044f \\u0432\\u043d\\u0443\\u0442\\u0440\\u0435\\u043d\\u043d\\u0438\\u0445 \\u0434\\u0435\\u043b \\u043c\\u043e\\u0441\\u043a\\u0432\\u044b \\u0441 \\u043f\\u043e \\u043d\\u0430\\u0447\\u0430\\u043b\\u044c\\u043d\\u0438\\u043a \\u0433\\u043b\\u0430\\u0432\\u043d\\u043e\\u0433\\u043e \\u0443\\u043f\\u0440\\u0430\\u0432\\u043b\\u0435\\u043d\\u0438\\u044f \\u043c\\u0432\\u0434 \\u0440\\u043e\\u0441\\u0441\\u0438\\u0438 \\u043f\\u043e \\u043c\\u043e\\u0441\\u043a\\u0432\\u0435 \\u0441 \\u043f\\u043e \\u0433\\u0435\\u043d\\u0435\\u0440\\u0430\\u043b \\u043f\\u043e\\u043b\\u0438\\u0446\\u0438\\u0438 \\u0440\\u043e\\u0441\\u0441\\u0438\\u0439\\u0441\\u043a\\u043e\\u0439 \\u0444\\u0435\\u0434\\u0435\\u0440\\u0430\\u0446\\u0438\\u0438 \\u0443\\u043a\\u0430\\u0437 \\u043f\\u0440\\u0435\\u0437\\u0438\\u0434\\u0435\\u043d\\u0442\\u0430 \\u0440\\u043e\\u0441\\u0441\\u0438\\u0439\\u0441\\u043a\\u043e\\u0439 \\u0444\\u0435\\u0434\\u0435\\u0440\\u0430\\u0446\\u0438\\u0438 \\u043e\\u0442 \\u0433 \\u043e \\u043f\\u0440\\u0438\\u0441\\u0432\\u043e\\u0435\\u043d\\u0438\\u0438 \\u0441\\u043f\\u0435\\u0446\\u0438\\u0430\\u043b\\u044c\\u043d\\u043e\\u0433\\u043e \\u0437\\u0432\\u0430\\u043d\\u0438\\u044f \\u043a\\u043e\\u043b\\u043e\\u043a\\u043e\\u043b\\u044c\\u0446\\u0435\\u0432\\u0443 \\u0432 \\u0430 \\u0437\\u0430\\u0441\\u043b\\u0443\\u0436\\u0435\\u043d\\u043d\\u044b\\u0439 \\u0441\\u043e\\u0442\\u0440\\u0443\\u0434\\u043d\\u0438\\u043a \\u043e\\u0440\\u0433\\u0430\\u043d\\u043e\\u0432 \\u0432\\u043d\\u0443\\u0442\\u0440\\u0435\\u043d\\u043d\\u0438\\u0445 \\u0434\\u0435\\u043b \\u0440\\u043e\\u0441\\u0441\\u0438\\u0439\\u0441\\u043a\\u043e\\u0439 \\u0444\\u0435\\u0434\\u0435\\u0440\\u0430\\u0446\\u0438\\u0438 \\u0434\\u043e\\u043a\\u0442\\u043e\\u0440 \\u044e\\u0440\\u0438\\u0434\\u0438\\u0447\\u0435\\u0441\\u043a\\u0438\\u0445 \\u043d\\u0430\\u0443\\u043a \\u0431\\u0438\\u043e\\u0433\\u0440\\u0430\\u0444\\u0438\\u044f \\u0432\\u043b\\u0430\\u0434\\u0438\\u043c\\u0438\\u0440 \\u0430\\u043b\\u0435\\u043a\\u0441\\u0430\\u043d\\u0434\\u0440\\u043e\\u0432\\u0438\\u0447 \\u043a\\u043e\\u043b\\u043e\\u043a\\u043e\\u043b\\u044c\\u0446\\u0435\\u0432 \\u0440\\u043e\\u0434\\u0438\\u043b\\u0441\\u044f \\u0432 \\u043f\\u0435\\u043d\\u0437\\u0435\\u043d\\u0441\\u043a\\u043e\\u0439 \\u043e\\u0431\\u043b\\u0430\\u0441\\u0442\\u0438 \\u0432 \\u0440\\u0430\\u0431\\u043e\\u0447\\u0435\\u0439 \\u0441\\u0435\\u043c\\u044c\\u0435 \\u0432 \\u0448\\u043a\\u043e\\u043b\\u0435 \\u043d\\u0438\\u0436\\u043d\\u0435\\u0433\\u043e \\u043b\\u043e\\u043c\\u043e\\u0432\\u0430 \\u043e\\u043d \\u043c\\u0435\\u0447\\u0442\\u0430\\u043b \\u0441\\u0442\\u0430\\u0442\\u044c \\u043b\\u0435\\u0442\\u0447\\u0438\\u043a\\u043e\\u043c \\u0438\\u043b\\u0438 \\u0441\\u043b\\u0435\\u0434\\u043e\\u0432\\u0430\\u0442\\u0435\\u043b\\u0435\\u043c \\u043f\\u043e\\u0441\\u043b\\u0435 \\u043f\\u043e\\u043b\\u0443\\u0447\\u0435\\u043d\\u0438\\u044f \\u0430\\u0442\\u0442\\u0435\\u0441\\u0442\\u0430\\u0442\\u0430 \\u043e\\u043d \\u0440\\u0430\\u0431\\u043e\\u0442\\u0430\\u043b \\u0441\\u043b\\u0435\\u0441\\u0430\\u0440\\u0435\\u043c \\u043f\\u043e \\u0434\\u0440\\u0443\\u0433\\u0438\\u043c \\u0438\\u0441\\u0442\\u043e\\u0447\\u043d\\u0438\\u043a\\u0430\\u043c \\u044d\\u043b\\u0435\\u043a\\u0442\\u0440\\u043e\\u0433\\u0430\\u0437\\u043e\\u0441\\u0432\\u0430\\u0440\\u0449\\u0438\\u043a\\u043e\\u043c \\u0432 \\u043d\\u0438\\u0436\\u043d\\u0435\\u043b\\u043e\\u043c\\u043e\\u0432\\u0441\\u043a\\u043e\\u043c \\u0440\\u0430\\u0439\\u043e\\u043d\\u043d\\u043e\\u043c \\u043e\\u0431\\u044a\\u0435\\u0434\\u0438\\u043d\\u0435\\u043d\\u0438\\u0438 \\u0441\\u0435\\u043b\\u044c\\u0445\\u043e\\u0437\\u0442\\u0435\\u0445\\u043d\\u0438\\u043a\\u0430 \\u0430 \\u0437\\u0430\\u0442\\u0435\\u043c \\u0434\\u0432\\u0430 \\u043c\\u0435\\u0441\\u044f\\u0446\\u0430 \\u043f\\u0440\\u043e\\u0440\\u0430\\u0431\\u043e\\u0442\\u0430\\u043b \\u0432\\u043e\\u0434\\u0438\\u0442\\u0435\\u043b\\u0435\\u043c \\u043d\\u0430 \\u043c\\u0435\\u0441\\u0442\\u043d\\u043e\\u043c \\u0444\\u0430\\u043d\\u0435\\u0440\\u043d\\u043e\\u043c \\u0437\\u0430\\u0432\\u043e\\u0434\\u0435 \\u0432\\u043b\\u0430\\u0441\\u0442\\u044c \\u0442\\u0440\\u0443\\u0434\\u0430 \\u043e\\u0441\\u0435\\u043d\\u044c\\u044e \\u043a\\u043e\\u043b\\u043e\\u043a\\u043e\\u043b\\u044c\\u0446\\u0435\\u0432 \\u0431\\u044b\\u043b \\u043f\\u0440\\u0438\\u0437\\u0432\\u0430\\u043d \\u0432 \\u0430\\u0440\\u043c\\u0438\\u044e \\u043e\\u043d \\u0441\\u043b\\u0443\\u0436\\u0438\\u043b \\u0432 \\u043f\\u043e\\u0433\\u0440\\u0430\\u043d\\u0438\\u0447\\u043d\\u044b\\u0445 \\u0432\\u043e\\u0439\\u0441\\u043a\\u0430\\u0445 \\u043d\\u0430 \\u0433\\u0440\\u0430\\u043d\\u0438\\u0446\\u0435 \\u0441\\u0441\\u0441\\u0440 \\u0438 \\u0430\\u0444\\u0433\\u0430\\u043d\\u0438\\u0441\\u0442\\u0430\\u043d\\u0430 \\u0437\\u0430\\u043a\\u043e\\u043d\\u0447\\u0438\\u0432 \\u0441\\u043b\\u0443\\u0436\\u0431\\u0443 \\u0441\\u0442\\u0430\\u0440\\u0448\\u0438\\u043d\\u043e\\u0439 \\u043f\\u043e\\u0433\\u0440\\u0430\\u043d\\u0438\\u0447\\u043d\\u043e\\u0439 \\u0437\\u0430\\u0441\\u0442\\u0430\\u0432\\u044b \\u043d\\u0430\\u0447\\u0438\\u043d\\u0430\\u044f \\u0441 \\u043a\\u043e\\u043b\\u043e\\u043a\\u043e\\u043b\\u044c\\u0446\\u0435\\u0432 \\u043d\\u0430\\u0447\\u0430\\u043b \\u0441\\u0432\\u043e\\u044e \\u043a\\u0430\\u0440\\u044c\\u0435\\u0440\\u0443 \\u0432 \\u043c\\u0438\\u043b\\u0438\\u0446\\u0438\\u0438 \\u0440\\u0430\\u0431\\u043e\\u0442\\u0430\\u044f \\u0432 \\u043e\\u0442\\u0434\\u0435\\u043b\\u0435 \\u043c\\u0438\\u043b\\u0438\\u0446\\u0438\\u0438 \\u043e\\u0442\\u0432\\u0435\\u0442\\u0441\\u0442\\u0432\\u0435\\u043d\\u043d\\u043e\\u043c \\u0437\\u0430 \\u043e\\u0445\\u0440\\u0430\\u043d\\u0443 \\u0434\\u0438\\u043f\\u043b\\u043e\\u043c\\u0430\\u0442\\u0438\\u0447\\u0435\\u0441\\u043a\\u0438\\u0445 \\u043f\\u0440\\u0435\\u0434\\u0441\\u0442\\u0430\\u0432\\u0438\\u0442\\u0435\\u043b\\u044c\\u0441\\u0442\\u0432 \\u0438\\u043d\\u043e\\u0441\\u0442\\u0440\\u0430\\u043d\\u043d\\u044b\\u0445 \\u0433\\u043e\\u0441\\u0443\\u0434\\u0430\\u0440\\u0441\\u0442\\u0432 \\u0432 \\u043c\\u043e\\u0441\\u043a\\u0432\\u0435 \\u0432 \\u043e\\u043d \\u043a\\u043e\\u043c\\u0430\\u043d\\u0434\\u0438\\u0440\\u043e\\u043c \\u0432\\u0437\\u0432\\u043e\\u0434\\u0430 \\u043e\\u0442\\u0434\\u0435\\u043b\\u044c\\u043d\\u043e\\u0433\\u043e \\u0431\\u0430\\u0442\\u0430\\u043b\\u044c\\u043e\\u043d\\u0430 \\u0441\\u043b\\u0443\\u0436\\u0431\\u044b \\u043c\\u0438\\u043b\\u0438\\u0446\\u0438\\u0438 \\u0443\\u0432\\u0434 \\u0433\\u0430\\u0433\\u0430\\u0440\\u0438\\u043d\\u0441\\u043a\\u043e\\u0433\\u043e \\u0440\\u0430\\u0439\\u0438\\u0441\\u043f\\u043e\\u043b\\u043a\\u043e\\u043c\\u0430 \\u0433\\u043e\\u0440\\u043e\\u0434\\u0430 \\u043c\\u043e\\u0441\\u043a\\u0432\\u044b \\u0432 \\u043a\\u043e\\u043b\\u043e\\u043a\\u043e\\u043b\\u044c\\u0446\\u0435\\u0432 \\u043f\\u043e\\u0441\\u0442\\u0443\\u043f\\u0438\\u043b \\u0432 \\u0432\\u044b\\u0441\\u0448\\u0435\\u0435 \\u043f\\u043e\\u043b\\u0438\\u0442\\u0438\\u0447\\u0435\\u0441\\u043a\\u043e\\u0435 \\u0443\\u0447\\u0438\\u043b\\u0438\\u0449\\u0435 \\u0438\\u043c\\u0435\\u043d\\u0438 \\u0432\\u043b\\u043a\\u0441\\u043c \\u043c\\u0432\\u0434 \\u0441\\u0441\\u0441\\u0440 \\u0432 \\u043b\\u0435\\u043d\\u0438\\u043d\\u0433\\u0440\\u0430\\u0434\\u0435 \\u0432\\u043f\\u043e\\u0441\\u043b\\u0435\\u0434\\u0441\\u0442\\u0432\\u0438\\u0438 \\u043f\\u0435\\u0440\\u0435\\u0438\\u043c\\u0435\\u043d\\u043e\\u0432\\u0430\\u043d\\u043d\\u043e\\u0435 \\u0432 \\u0432\\u043e\\u0435\\u043d\\u043d\\u044b\\u0439 \\u0438\\u043d\\u0441\\u0442\\u0438\\u0442\\u0443\\u0442 \\u0432\\u043d\\u0443\\u0442\\u0440\\u0435\\u043d\\u043d\\u0438\\u0445 \\u0432\\u043e\\u0439\\u0441\\u043a \\u043c\\u0432\\u0434 \\u0440\\u043e\\u0441\\u0441\\u0438\\u0438 \\u0433\\u0434\\u0435 \\u043e\\u043a\\u043e\\u043d\\u0447\\u0438\\u043b \\u0441\\u043f\\u0435\\u0446\\u0438\\u0430\\u043b\\u044c\\u043d\\u043e\\u0441\\u0442\\u044c \\u043f\\u0440\\u0430\\u0432\\u043e\\u0432\\u0435\\u0434\\u0435\\u043d\\u0438\\u0435 \\u0432 \\u043f\\u043e\\u0441\\u043b\\u0435 \\u043e\\u043a\\u043e\\u043d\\u0447\\u0430\\u043d\\u0438\\u044f \\u0443\\u0447\\u0435\\u0431\\u044b \\u0432 \\u043a\\u043e\\u043b\\u043e\\u043a\\u043e\\u043b\\u044c\\u0446\\u0435\\u0432 \\u0432\\u0435\\u0440\\u043d\\u0443\\u043b\\u0441\\u044f \\u0432 \\u043c\\u043e\\u0441\\u043a\\u0432\\u0443 \\u0438 \\u043f\\u0440\\u043e\\u0434\\u043e\\u043b\\u0436\\u0438\\u043b \\u0440\\u0430\\u0431\\u043e\\u0442\\u0443 \\u043e\\u043f\\u0435\\u0440\\u0443\\u043f\\u043e\\u043b\\u043d\\u043e\\u043c\\u043e\\u0447\\u0435\\u043d\\u043d\\u044b\\u043c \\u043e\\u0442\\u0434\\u0435\\u043b\\u0430 \\u0443\\u0433\\u043e\\u043b\\u043e\\u0432\\u043d\\u043e\\u0433\\u043e \\u0440\\u043e\\u0437\\u044b\\u0441\\u043a\\u0430 \\u043a\\u0443\\u043d\\u0446\\u0435\\u0432\\u0441\\u043a\\u043e\\u0433\\u043e \\u0440\\u0430\\u0439\\u043e\\u043d\\u0430 \\u043c\\u043e\\u0441\\u043a\\u0432\\u044b \\u043e\\u043d \\u0431\\u044b\\u0441\\u0442\\u0440\\u043e \\u043f\\u0440\\u043e\\u0434\\u0432\\u0438\\u043d\\u0443\\u043b\\u0441\\u044f \\u043f\\u043e \\u0441\\u043b\\u0443\\u0436\\u0431\\u0435 \\u0441\\u0442\\u0430\\u0432 \\u0437\\u0430\\u043c\\u0435\\u0441\\u0442\\u0438\\u0442\\u0435\\u043b\\u0435\\u043c \\u043d\\u0430\\u0447\\u0430\\u043b\\u044c\\u043d\\u0438\\u043a\\u0430 \\u043e\\u0442\\u0434\\u0435\\u043b\\u0435\\u043d\\u0438\\u044f \\u043c\\u0438\\u043b\\u0438\\u0446\\u0438\\u0438 \\u0430 \\u0437\\u0430\\u0442\\u0435\\u043c \\u043d\\u0430\\u0447\\u0430\\u043b\\u044c\\u043d\\u0438\\u043a\\u043e\\u043c \\u043e\\u0442\\u0434\\u0435\\u043b\\u0435\\u043d\\u0438\\u044f \\u043c\\u0438\\u043b\\u0438\\u0446\\u0438\\u0438 \\u0432 \\u043e\\u043d \\u043f\\u0435\\u0440\\u0435\\u0448\\u0435\\u043b \\u043d\\u0430 \\u0440\\u0430\\u0431\\u043e\\u0442\\u0443 \\u0432 \\u043e\\u0442\\u0434\\u0435\\u043b \\u043f\\u043e \\u0440\\u0430\\u0441\\u043a\\u0440\\u044b\\u0442\\u0438\\u044e \\u0443\\u0431\\u0438\\u0439\\u0441\\u0442\\u0432 \\u0443\\u043f\\u0440\\u0430\\u0432\\u043b\\u0435\\u043d\\u0438\\u044f \\u0443\\u0433\\u043e\\u043b\\u043e\\u0432\\u043d\\u043e\\u0433\\u043e \\u0440\\u043e\\u0437\\u044b\\u0441\\u043a\\u0430 \\u0433\\u0443\\u0432\\u0434 \\u043c\\u043e\\u0441\\u043a\\u0432\\u044b \\u0430 \\u0432 \\u043d\\u0430\\u0447\\u0430\\u043b\\u044c\\u043d\\u0438\\u043a\\u043e\\u043c \\u043e\\u0442\\u0434\\u0435\\u043b\\u0435\\u043d\\u0438\\u044f \\u043c\\u0438\\u043b\\u0438\\u0446\\u0438\\u0438 \\u043d\\u0430 \\u043f\\u0440\\u043e\\u0442\\u044f\\u0436\\u0435\\u043d\\u0438\\u0438 \\u0441\\u0432\\u043e\\u0435\\u0439 \\u043a\\u0430\\u0440\\u044c\\u0435\\u0440\\u044b \\u0432 \\u043c\\u0438\\u043b\\u0438\\u0446\\u0438\\u0438 \\u043a\\u043e\\u043b\\u043e\\u043a\\u043e\\u043b\\u044c\\u0446\\u0435\\u0432 \\u0440\\u0443\\u043a\\u043e\\u0432\\u043e\\u0434\\u0438\\u043b \\u0440\\u0430\\u0441\\u0441\\u043b\\u0435\\u0434\\u043e\\u0432\\u0430\\u043d\\u0438\\u0435\\u043c \\u0440\\u0430\\u0437\\u043b\\u0438\\u0447\\u043d\\u044b\\u0445 \\u043f\\u0440\\u0435\\u0441\\u0442\\u0443\\u043f\\u043b\\u0435\\u043d\\u0438\\u0439 \\u0441\\u0432\\u044f\\u0437\\u0430\\u043d\\u043d\\u044b\\u0445 \\u0441 \\u0434\\u0435\\u044f\\u0442\\u0435\\u043b\\u044c\\u043d\\u043e\\u0441\\u0442\\u044c\\u044e \\u043e\\u0440\\u0433\\u0430\\u043d\\u0438\\u0437\\u043e\\u0432\\u0430\\u043d\\u043d\\u044b\\u0445 \\u043f\\u0440\\u0435\\u0441\\u0442\\u0443\\u043f\\u043d\\u044b\\u0445 \\u0433\\u0440\\u0443\\u043f\\u043f\\u0438\\u0440\\u043e\\u0432\\u043e\\u043a \\u0432 \\u0442\\u043e\\u043c \\u0447\\u0438\\u0441\\u043b\\u0435 \\u044d\\u0442\\u043d\\u0438\\u0447\\u0435\\u0441\\u043a\\u0438\\u0445 \\u043f\\u0440\\u043e\\u0441\\u0442\\u0438\\u0442\\u0443\\u0446\\u0438\\u0435\\u0439 \\u0438 \\u0442\\u043e\\u0440\\u0433\\u043e\\u0432\\u043b\\u0435\\u0439 \\u043d\\u0430\\u0440\\u043a\\u043e\\u0442\\u0438\\u043a\\u0430\\u043c\\u0438 \\u0432 \\u043e\\u043d \\u043f\\u0440\\u0438\\u043d\\u0438\\u043c\\u0430\\u043b \\u0430\\u043a\\u0442\\u0438\\u0432\\u043d\\u043e\\u0435 \\u0443\\u0447\\u0430\\u0441\\u0442\\u0438\\u0435 \\u0432 \\u0441\\u044a\\u0435\\u043c\\u043a\\u0430\\u0445 \\u043f\\u0435\\u0440\\u0432\\u043e\\u0439 \\u0447\\u0430\\u0441\\u0442\\u0438 \\u0442\\u0435\\u043b\\u0435\\u0441\\u0435\\u0440\\u0438\\u0430\\u043b\\u0430 \\u043d\\u0430 \\u0443\\u0433\\u043b\\u0443 \\u0443 \\u043f\\u0430\\u0442\\u0440\\u0438\\u0430\\u0440\\u0448\\u0438\\u0445 \\u043f\\u0440\\u0435\\u0434\\u043e\\u0441\\u0442\\u0430\\u0432\\u0438\\u043b \\u0434\\u043b\\u044f \\u0441\\u044a\\u0435\\u043c\\u043e\\u043a \\u0441\\u0432\\u043e\\u0439 \\u043a\\u0430\\u0431\\u0438\\u043d\\u0435\\u0442 \\u0431\\u044b\\u043b \\u043a\\u043e\\u043d\\u0441\\u0443\\u043b\\u044c\\u0442\\u0430\\u043d\\u0442\\u043e\\u043c \\u0438 \\u0434\\u0430\\u0436\\u0435 \\u0441\\u043d\\u044f\\u043b\\u0441\\u044f \\u0432 \\u043e\\u0434\\u043d\\u043e\\u0439 \\u0438\\u0437 \\u0441\\u0435\\u0440\\u0438\\u0439 \\u0432\\u043c\\u0435\\u0441\\u0442\\u043e \\u0437\\u0430\\u0431\\u043e\\u043b\\u0435\\u0432\\u0448\\u0435\\u0433\\u043e \\u0430\\u043a\\u0442\\u0435\\u0440\\u0430 \\u0432 \\u043a\\u043e\\u043b\\u043e\\u043a\\u043e\\u043b\\u044c\\u0446\\u0435\\u0432 \\u0431\\u044b\\u043b \\u043f\\u0435\\u0440\\u0435\\u0432\\u0435\\u0434\\u0435\\u043d \\u043d\\u0430 \\u0434\\u043e\\u043b\\u0436\\u043d\\u043e\\u0441\\u0442\\u044c \\u0433\\u043b\\u0430\\u0432\\u044b \\u043e\\u0442\\u0434\\u0435\\u043b\\u0430 \\u0443\\u043f\\u0440\\u0430\\u0432\\u043b\\u0435\\u043d\\u0438\\u044f \\u0443\\u0433\\u043e\\u043b\\u043e\\u0432\\u043d\\u043e\\u0433\\u043e \\u0440\\u043e\\u0437\\u044b\\u0441\\u043a\\u0430 \\u0432\\u043e \\u0440\\u0443\\u0432\\u0434 \\u0446\\u0435\\u043d\\u0442\\u0440\\u0430\\u043b\\u044c\\u043d\\u043e\\u0433\\u043e \\u0430\\u0434\\u043c\\u0438\\u043d\\u0438\\u0441\\u0442\\u0440\\u0430\\u0442\\u0438\\u0432\\u043d\\u043e\\u0433\\u043e \\u043e\\u043a\\u0440\\u0443\\u0433\\u0430 \\u0432 \\u043e\\u043d \\u0432\\u043e\\u0437\\u0433\\u043b\\u0430\\u0432\\u0438\\u043b \\u0440\\u0435\\u0433\\u0438\\u043e\\u043d\\u0430\\u043b\\u044c\\u043d\\u044b\\u0439 \\u043e\\u0442\\u0434\\u0435\\u043b \\u0440\\u0443\\u043e\\u043f \\u043f\\u043e \\u0433\\u043e\\u0440\\u043e\\u0434\\u0443 \\u043c\\u043e\\u0441\\u043a\\u0432\\u0435 \\u043f\\u0440\\u0438 \\u043c\\u0432\\u0434 \\u0440\\u043e\\u0441\\u0441\\u0438\\u0438 \\u0430 \\u0432 \\u043d\\u0430\\u0447\\u0430\\u043b\\u044c\\u043d\\u0438\\u043a\\u043e\\u043c \\u0440\\u0435\\u0433\\u0438\\u043e\\u043d\\u0430\\u043b\\u044c\\u043d\\u043e\\u0433\\u043e \\u0431\\u044e\\u0440\\u043e \\u043f\\u043e \\u0430\\u0434\\u043c\\u0438\\u043d\\u0438\\u0441\\u0442\\u0440\\u0430\\u0442\\u0438\\u0432\\u043d\\u043e\\u043c\\u0443 \\u043e\\u043a\\u0440\\u0443\\u0433\\u0443 \\u0441\\u0442\\u043e\\u043b\\u0438\\u0446\\u044b \\u0432 \\u0446\\u0435\\u043d\\u0442\\u0440\\u0430\\u043b\\u044c\\u043d\\u043e\\u043c \\u0440\\u0435\\u0433\\u0438\\u043e\\u043d\\u0430\\u043b\\u044c\\u043d\\u043e\\u043c \\u0443\\u043f\\u0440\\u0430\\u0432\\u043b\\u0435\\u043d\\u0438\\u0438 \\u043f\\u043e \\u0431\\u043e\\u0440\\u044c\\u0431\\u0435 \\u0441 \\u043e\\u0440\\u0433\\u0430\\u043d\\u0438\\u0437\\u043e\\u0432\\u0430\\u043d\\u043d\\u043e\\u0439 \\u043f\\u0440\\u0435\\u0441\\u0442\\u0443\\u043f\\u043d\\u043e\\u0441\\u0442\\u044c\\u044e \\u043f\\u0440\\u0438 \\u0433\\u0443\\u0431\\u043e\\u043f \\u043c\\u0432\\u0434 \\u0440\\u043e\\u0441\\u0441\\u0438\\u0438 \\u0432 \\u043a\\u043e\\u043b\\u043e\\u043a\\u043e\\u043b\\u044c\\u0446\\u0435\\u0432 \\u0431\\u044b\\u043b \\u043d\\u0430\\u0437\\u043d\\u0430\\u0447\\u0435\\u043d \\u043d\\u0430\\u0447\\u0430\\u043b\\u044c\\u043d\\u0438\\u043a\\u043e\\u043c \\u0442\\u0440\\u0435\\u0442\\u044c\\u0435\\u0433\\u043e \\u043e\\u0442\\u0434\\u0435\\u043b\\u0430 \\u0431\\u044e\\u0440\\u043e \\u0433\\u043b\\u0430\\u0432\\u043d\\u043e\\u0433\\u043e \\u0443\\u043f\\u0440\\u0430\\u0432\\u043b\\u0435\\u043d\\u0438\\u044f \\u043c\\u0432\\u0434 \\u0440\\u043e\\u0441\\u0441\\u0438\\u0438 \\u043f\\u043e \\u0446\\u0435\\u043d\\u0442\\u0440\\u0430\\u043b\\u044c\\u043d\\u043e\\u043c\\u0443 \\u0444\\u0435\\u0434\\u0435\\u0440\\u0430\\u043b\\u044c\\u043d\\u043e\\u043c\\u0443 \\u043e\\u043a\\u0440\\u0443\\u0433\\u0443 \\u0430 \\u0432 \\u0437\\u0430\\u043c\\u0435\\u0441\\u0442\\u0438\\u0442\\u0435\\u043b\\u0435\\u043c \\u043d\\u0430\\u0447\\u0430\\u043b\\u044c\\u043d\\u0438\\u043a\\u0430 \\u0431\\u044e\\u0440\\u043e \\u0432 \\u043e\\u043d \\u0437\\u0430\\u043c\\u0435\\u0441\\u0442\\u0438\\u0442\\u0435\\u043b\\u0435\\u043c \\u043d\\u0430\\u0447\\u0430\\u043b\\u044c\\u043d\\u0438\\u043a\\u0430 \\u0431\\u044e\\u0440\\u043e \\u043f\\u043e \\u0431\\u043e\\u0440\\u044c\\u0431\\u0435 \\u0441 \\u043e\\u0440\\u0433\\u0430\\u043d\\u0438\\u0437\\u043e\\u0432\\u0430\\u043d\\u043d\\u043e\\u0439 \\u043f\\u0440\\u0435\\u0441\\u0442\\u0443\\u043f\\u043d\\u043e\\u0441\\u0442\\u044c\\u044e \\u0432 \\u0433\\u043b\\u0430\\u0432\\u043d\\u043e\\u043c \\u0443\\u043f\\u0440\\u0430\\u0432\\u043b\\u0435\\u043d\\u0438\\u0438 \\u043c\\u0432\\u0434 \\u0440\\u0444 \\u043f\\u043e \\u0446\\u0435\\u043d\\u0442\\u0440\\u0430\\u043b\\u044c\\u043d\\u043e\\u043c\\u0443 \\u0444\\u0435\\u0434\\u0435\\u0440\\u0430\\u043b\\u044c\\u043d\\u043e\\u043c\\u0443 \\u043e\\u043a\\u0440\\u0443\\u0433\\u0443 \\u0432 \\u043f\\u043e\\u043b\\u0438\\u0446\\u0438\\u0438 \\u0432\\u043b\\u0430\\u0434\\u0438\\u043c\\u0438\\u0440 \\u043a\\u043e\\u043b\\u043e\\u043a\\u043e\\u043b\\u044c\\u0446\\u0435\\u0432 \\u0443\\u0441\\u043f\\u0435\\u0448\\u043d\\u043e \\u0437\\u0430\\u0449\\u0438\\u0442\\u0438\\u043b \\u0434\\u0438\\u0441\\u0441\\u0435\\u0440\\u0442\\u0430\\u0446\\u0438\\u044e \\u043d\\u0430 \\u0441\\u0442\\u0435\\u043f\\u0435\\u043d\\u044c \\u0434\\u043e\\u043a\\u0442\\u043e\\u0440\\u0430 \\u044e\\u0440\\u0438\\u0434\\u0438\\u0447\\u0435\\u0441\\u043a\\u0438\\u0445 \\u043d\\u0430\\u0443\\u043a \\u0432 \\u0432\\u043e\\u0435\\u043d\\u043d\\u043e\\u043c \\u0438\\u043d\\u0441\\u0442\\u0438\\u0442\\u0443\\u0442\\u0435 \\u0432\\u0432 \\u043c\\u0432\\u0434 \\u0440\\u043e\\u0441\\u0441\\u0438\\u0438 \\u0442\\u0435\\u043c\\u043e\\u0439 \\u0435\\u0433\\u043e \\u0434\\u0438\\u0441\\u0441\\u0435\\u0440\\u0442\\u0430\\u0446\\u0438\\u0438 \\u0431\\u044b\\u043b\\u043e \\u043e\\u0431\\u0435\\u0441\\u043f\\u0435\\u0447\\u0435\\u043d\\u0438\\u0435 \\u0433\\u043e\\u0441\\u0443\\u0434\\u0430\\u0440\\u0441\\u0442\\u0432\\u0435\\u043d\\u043d\\u044b\\u0445 \\u0438\\u043d\\u0442\\u0435\\u0440\\u0435\\u0441\\u043e\\u0432 \\u0440\\u043e\\u0441\\u0441\\u0438\\u0438 \\u0432 \\u043a\\u043e\\u043d\\u0442\\u0435\\u043a\\u0441\\u0442\\u0435 \\u043a\\u043e\\u043d\\u0446\\u0435\\u043f\\u0446\\u0438\\u0438 \\u043d\\u0430\\u0446\\u0438\\u043e\\u043d\\u0430\\u043b\\u044c\\u043d\\u043e\\u0439 \\u0431\\u0435\\u0437\\u043e\\u043f\\u0430\\u0441\\u043d\\u043e\\u0441\\u0442\\u0438 \\u0432 \\u043a\\u043e\\u043b\\u043e\\u043a\\u043e\\u043b\\u044c\\u0446\\u0435\\u0432 \\u0431\\u044b\\u043b \\u0443\\u0434\\u043e\\u0441\\u0442\\u043e\\u0435\\u043d \\u043f\\u043e\\u0447\\u0435\\u0442\\u043d\\u043e\\u0433\\u043e \\u0437\\u0432\\u0430\\u043d\\u0438\\u044f \\u0437\\u0430\\u0441\\u043b\\u0443\\u0436\\u0435\\u043d\\u043d\\u043e\\u0433\\u043e \\u0441\\u043e\\u0442\\u0440\\u0443\\u0434\\u043d\\u0438\\u043a\\u0430 \\u043e\\u0440\\u0433\\u0430\\u043d\\u043e\\u0432 \\u0432\\u043d\\u0443\\u0442\\u0440\\u0435\\u043d\\u043d\\u0438\\u0445 \\u0434\\u0435\\u043b \\u0432 \\u044f\\u043d\\u0432\\u0430\\u0440\\u0435 \\u043a\\u043e\\u043b\\u043e\\u043a\\u043e\\u043b\\u044c\\u0446\\u0435\\u0432 \\u0431\\u044b\\u043b \\u043d\\u0430\\u0437\\u043d\\u0430\\u0447\\u0435\\u043d \\u0433\\u043b\\u0430\\u0432\\u043e\\u0439 \\u0443\\u043f\\u0440\\u0430\\u0432\\u043b\\u0435\\u043d\\u0438\\u044f \\u0432\\u043d\\u0443\\u0442\\u0440\\u0435\\u043d\\u043d\\u0438\\u0445 \\u0434\\u0435\\u043b \\u043f\\u043e \\u043e\\u0440\\u043b\\u043e\\u0432\\u0441\\u043a\\u043e\\u0439 \\u043e\\u0431\\u043b\\u0430\\u0441\\u0442\\u0438 \\u0443\\u043a\\u0430\\u0437\\u043e\\u043c \\u043f\\u0440\\u0435\\u0437\\u0438\\u0434\\u0435\\u043d\\u0442\\u0430 \\u0440\\u043e\\u0441\\u0441\\u0438\\u0438 \\u0432\\u043b\\u0430\\u0434\\u0438\\u043c\\u0438\\u0440\\u0430 \\u043f\\u0443\\u0442\\u0438\\u043d\\u0430 \\u0437\\u0430\\u043c\\u0435\\u043d\\u0438\\u0432 \\u043d\\u0430 \\u044d\\u0442\\u043e\\u043c \\u043f\\u043e\\u0441\\u0442\\u0443 \\u044e\\u0440\\u0438\\u044f \\u043f\\u0430\\u0448\\u0438\\u043d\\u0430 \\u043f\\u043e\\u0434 \\u0435\\u0433\\u043e \\u0440\\u0443\\u043a\\u043e\\u0432\\u043e\\u0434\\u0441\\u0442\\u0432\\u043e\\u043c \\u0431\\u044b\\u043b\\u0438 \\u043f\\u0440\\u043e\\u0432\\u0435\\u0434\\u0435\\u043d\\u044b \\u0440\\u0430\\u0441\\u0441\\u043b\\u0435\\u0434\\u043e\\u0432\\u0430\\u043d\\u0438\\u044f \\u0438 \\u0432\\u043e\\u0437\\u0431\\u0443\\u0436\\u0434\\u0435\\u043d\\u044b \\u0443\\u0433\\u043e\\u043b\\u043e\\u0432\\u043d\\u044b\\u0435 \\u0434\\u0435\\u043b\\u0430 \\u043f\\u0440\\u043e\\u0442\\u0438\\u0432 \\u0440\\u0443\\u043a\\u043e\\u0432\\u043e\\u0434\\u0441\\u0442\\u0432\\u0430 \\u043e\\u0431\\u043b\\u0430\\u0441\\u0442\\u0438 \\u0432\\u043a\\u043b\\u044e\\u0447\\u0430\\u044f \\u0432\\u0438\\u0442\\u0430\\u043b\\u0438\\u044f \\u043a\\u043e\\u0447\\u0443\\u0435\\u0432\\u0430 \\u0438 \\u0438\\u0433\\u043e\\u0440\\u044f \\u0441\\u043e\\u0448\\u043d\\u0438\\u043a\\u043e\\u0432\\u0430 \\u0430 \\u0442\\u0430\\u043a\\u0436\\u0435 \\u0434\\u0440\\u0443\\u0433\\u0438\\u0445 \\u043a\\u043b\\u044e\\u0447\\u0435\\u0432\\u044b\\u0445 \\u043e\\u0431\\u043b\\u0430\\u0441\\u0442\\u043d\\u044b\\u0445 \\u0447\\u0438\\u043d\\u043e\\u0432\\u043d\\u0438\\u043a\\u043e\\u0432 \\u0431\\u044b\\u043b\\u0438 \\u043e\\u0431\\u0432\\u0438\\u043d\\u0435\\u043d\\u044b \\u0432 \\u043c\\u0430\\u0445\\u0438\\u043d\\u0430\\u0446\\u0438\\u044f\\u0445 \\u0441 \\u0433\\u043e\\u0441\\u0443\\u0434\\u0430\\u0440\\u0441\\u0442\\u0432\\u0435\\u043d\\u043d\\u043e\\u0439 \\u0441\\u043e\\u0431\\u0441\\u0442\\u0432\\u0435\\u043d\\u043d\\u043e\\u0441\\u0442\\u044c\\u044e \\u0441\\u043e\\u0448\\u043d\\u0438\\u043a\\u043e\\u0432 \\u0431\\u044b\\u043b \\u043e\\u0442\\u0441\\u0442\\u0440\\u0430\\u043d\\u0435\\u043d \\u043e\\u0442 \\u0434\\u043e\\u043b\\u0436\\u043d\\u043e\\u0441\\u0442\\u0438 \\u0435\\u0449\\u0435 \\u0434\\u043e \\u0432\\u043e\\u0437\\u0431\\u0443\\u0436\\u0434\\u0435\\u043d\\u0438\\u044f \\u0443\\u0433\\u043e\\u043b\\u043e\\u0432\\u043d\\u043e\\u0433\\u043e \\u0434\\u0435\\u043b\\u0430 \\u0430 \\u043a\\u043e\\u0447\\u0443\\u0435\\u0432 \\u043f\\u043e\\u043a\\u0438\\u043d\\u0443\\u043b \\u0441\\u0432\\u043e\\u0439 \\u043f\\u043e\\u0441\\u0442 \\u0441\\u0440\\u0430\\u0437\\u0443 \\u043f\\u043e\\u0441\\u043b\\u0435 \\u0442\\u043e\\u0433\\u043e \\u043a\\u0430\\u043a \\u0435\\u043c\\u0443 \\u0431\\u044b\\u043b\\u0438 \\u043f\\u0440\\u0435\\u0434\\u044a\\u044f\\u0432\\u043b\\u0435\\u043d\\u044b \\u043e\\u0431\\u0432\\u0438\\u043d\\u0435\\u043d\\u0438\\u044f \\u043a\\u043e\\u043b\\u043e\\u043a\\u043e\\u043b\\u044c\\u0446\\u0435\\u0432 \\u0431\\u044b\\u043b \\u043d\\u0430\\u0437\\u043d\\u0430\\u0447\\u0435\\u043d \\u043f\\u0435\\u0440\\u0432\\u044b\\u043c \\u0437\\u0430\\u043c\\u0435\\u0441\\u0442\\u0438\\u0442\\u0435\\u043b\\u0435\\u043c \\u0433\\u043b\\u0430\\u0432\\u044b \\u0434\\u0435\\u043f\\u0430\\u0440\\u0442\\u0430\\u043c\\u0435\\u043d\\u0442\\u0430 \\u0443\\u0433\\u043e\\u043b\\u043e\\u0432\\u043d\\u043e\\u0433\\u043e \\u0440\\u043e\\u0437\\u044b\\u0441\\u043a\\u0430 \\u043c\\u0432\\u0434 \\u0440\\u0444 \\u0432 \\u0442\\u043e\\u043c \\u0436\\u0435 \\u043c\\u0435\\u0441\\u044f\\u0446\\u0435 \\u0435\\u043c\\u0443 \\u0431\\u044b\\u043b\\u043e \\u043f\\u0440\\u0438\\u0441\\u0432\\u043e\\u0435\\u043d\\u043e \\u0437\\u0432\\u0430\\u043d\\u0438\\u0435 \\u043c\\u0438\\u043b\\u0438\\u0446\\u0438\\u0438 \\u0443\\u043a\\u0430\\u0437\\u043e\\u043c \\u043f\\u0440\\u0435\\u0437\\u0438\\u0434\\u0435\\u043d\\u0442\\u0430 \\u043c\\u0435\\u0434\\u0432\\u0435\\u0434\\u0435\\u0432\\u0430 \\u043a\\u043e\\u043b\\u043e\\u043a\\u043e\\u043b\\u044c\\u0446\\u0435\\u0432 \\u043d\\u0430\\u0447\\u0430\\u043b\\u044c\\u043d\\u0438\\u043a\\u043e\\u043c \\u0433\\u0443\\u0432\\u0434 \\u043c\\u043e\\u0441\\u043a\\u0432\\u044b \\u0432 \\u0438\\u044e\\u043d\\u0435 \\u0435\\u043c\\u0443 \\u0431\\u044b\\u043b\\u043e \\u043f\\u0440\\u0438\\u0441\\u0432\\u043e\\u0435\\u043d\\u043e \\u0437\\u0432\\u0430\\u043d\\u0438\\u0435 \\u043c\\u0438\\u043b\\u0438\\u0446\\u0438\\u0438 \\u0432 \\u0440\\u043e\\u0441\\u0441\\u0438\\u0438 \\u0432\\u0441\\u0442\\u0443\\u043f\\u0438\\u043b \\u0432 \\u0441\\u0438\\u043b\\u0443 \\u0437\\u0430\\u043a\\u043e\\u043d \\u043e \\u043f\\u043e\\u043b\\u0438\\u0446\\u0438\\u0438 \\u0434\\u043b\\u044f \\u0442\\u043e\\u0433\\u043e \\u0447\\u0442\\u043e\\u0431\\u044b \\u0441\\u0442\\u0430\\u0442\\u044c \\u043f\\u043e\\u043b\\u0438\\u0446\\u0435\\u0439\\u0441\\u043a\\u0438\\u043c\\u0438 \\u0440\\u0430\\u0431\\u043e\\u0442\\u043d\\u0438\\u043a\\u0438 \\u043c\\u0438\\u043b\\u0438\\u0446\\u0438\\u0438 \\u0434\\u043e\\u043b\\u0436\\u043d\\u044b \\u0431\\u044b\\u043b\\u0438 \\u043f\\u0440\\u043e\\u0439\\u0442\\u0438 \\u0432\\u043d\\u0435\\u043e\\u0447\\u0435\\u0440\\u0435\\u0434\\u043d\\u0443\\u044e \\u043f\\u0435\\u0440\\u0435\\u0430\\u0442\\u0442\\u0435\\u0441\\u0442\\u0430\\u0446\\u0438\\u044e \\u043a\\u0440\\u043e\\u043c\\u0435 \\u0442\\u043e\\u0433\\u043e \\u0432 \\u0441\\u043e\\u043e\\u0442\\u0432\\u0435\\u0442\\u0441\\u0442\\u0432\\u0438\\u0438 \\u0441 \\u0437\\u0430\\u043a\\u043e\\u043d\\u043e\\u043c \\u0442\\u0435\\u0440\\u0440\\u0438\\u0442\\u043e\\u0440\\u0438\\u0430\\u043b\\u044c\\u043d\\u044b\\u0435 \\u0443\\u043f\\u0440\\u0430\\u0432\\u043b\\u0435\\u043d\\u0438\\u044f \\u0432\\u043d\\u0443\\u0442\\u0440\\u0435\\u043d\\u043d\\u0438\\u0445 \\u0434\\u0435\\u043b \\u043f\\u0440\\u0435\\u043e\\u0431\\u0440\\u0430\\u0437\\u043e\\u0432\\u044b\\u0432\\u0430\\u043b\\u0438\\u0441\\u044c \\u0432 \\u0443\\u043f\\u0440\\u0430\\u0432\\u043b\\u0435\\u043d\\u0438\\u044f \\u043c\\u0432\\u0434 \\u043f\\u043e \\u0441\\u043e\\u043e\\u0442\\u0432\\u0435\\u0442\\u0441\\u0442\\u0432\\u0443\\u044e\\u0449\\u0438\\u043c \\u0442\\u0435\\u0440\\u0440\\u0438\\u0442\\u043e\\u0440\\u0438\\u044f\\u043c \\u043f\\u0440\\u0435\\u0437\\u0438\\u0434\\u0435\\u043d\\u0442 \\u043c\\u0435\\u0434\\u0432\\u0435\\u0434\\u0435\\u0432 \\u043f\\u043e\\u0434\\u043f\\u0438\\u0441\\u0430\\u043b \\u0443\\u043a\\u0430\\u0437 \\u043a\\u043e\\u0442\\u043e\\u0440\\u043e\\u043c\\u0443 \\u043a\\u043e\\u043b\\u043e\\u043a\\u043e\\u043b\\u044c\\u0446\\u0435\\u0432 \\u043f\\u043e\\u043b\\u0443\\u0447\\u0438\\u043b \\u0437\\u0432\\u0430\\u043d\\u0438\\u0435 \\u043f\\u043e\\u043b\\u0438\\u0446\\u0438\\u0438 \\u0438 \\u043f\\u0435\\u0440\\u0435\\u0448\\u0435\\u043b \\u043d\\u0430 \\u0434\\u043e\\u043b\\u0436\\u043d\\u043e\\u0441\\u0442\\u044c \\u043d\\u0430\\u0447\\u0430\\u043b\\u044c\\u043d\\u0438\\u043a\\u0430 \\u0441\\u043e\\u0437\\u0434\\u0430\\u043d\\u043d\\u043e\\u0433\\u043e \\u043d\\u0430 \\u043e\\u0441\\u043d\\u043e\\u0432\\u0435 \\u043c\\u043e\\u0441\\u043a\\u043e\\u0432\\u0441\\u043a\\u043e\\u0433\\u043e \\u0433\\u0443\\u0432\\u0434 \\u0433\\u043b\\u0430\\u0432\\u043d\\u043e\\u0433\\u043e \\u0443\\u043f\\u0440\\u0430\\u0432\\u043b\\u0435\\u043d\\u0438\\u044f \\u043c\\u0432\\u0434 \\u043f\\u043e \\u043c\\u043e\\u0441\\u043a\\u0432\\u0435 \\u043f\\u043e\\u0441\\u043b\\u0435 \\u043f\\u043e\\u0431\\u0435\\u0434\\u044b \\u0432\\u043b\\u0430\\u0434\\u0438\\u043c\\u0438\\u0440\\u0430 \\u043f\\u0443\\u0442\\u0438\\u043d\\u0430 \\u043d\\u0430 \\u043f\\u0440\\u0435\\u0437\\u0438\\u0434\\u0435\\u043d\\u0442\\u0441\\u043a\\u0438\\u0445 \\u0432\\u044b\\u0431\\u043e\\u0440\\u0430\\u0445 \\u0432 \\u043c\\u0430\\u0440\\u0442\\u0435 \\u0438 \\u0432\\u0441\\u0442\\u0443\\u043f\\u043b\\u0435\\u043d\\u0438\\u044f \\u0434\\u043c\\u0438\\u0442\\u0440\\u0438\\u044f \\u043c\\u0435\\u0434\\u0432\\u0435\\u0434\\u0435\\u0432\\u0430 \\u0432 \\u0434\\u043e\\u043b\\u0436\\u043d\\u043e\\u0441\\u0442\\u044c \\u043f\\u0440\\u0435\\u0434\\u0441\\u0435\\u0434\\u0430\\u0442\\u0435\\u043b\\u044f \\u043f\\u0440\\u0430\\u0432\\u0438\\u0442\\u0435\\u043b\\u044c\\u0441\\u0442\\u0432\\u0430 \\u0440\\u0444 \\u0432 \\u043c\\u0430\\u0435 \\u0442\\u043e\\u0433\\u043e \\u0436\\u0435 \\u0431\\u044b\\u043b \\u043e\\u0431\\u044a\\u044f\\u0432\\u043b\\u0435\\u043d \\u043d\\u043e\\u0432\\u043e\\u0433\\u043e \\u043a\\u0430\\u0431\\u0438\\u043d\\u0435\\u0442\\u0430 \\u043c\\u0438\\u043d\\u0438\\u0441\\u0442\\u0440\\u043e\\u0432 \\u043a\\u043e\\u043b\\u043e\\u043a\\u043e\\u043b\\u044c\\u0446\\u0435\\u0432 \\u0433\\u043b\\u0430\\u0432\\u043e\\u0439 \\u043c\\u0438\\u043d\\u0438\\u0441\\u0442\\u0435\\u0440\\u0441\\u0442\\u0432\\u0430 \\u0432\\u043d\\u0443\\u0442\\u0440\\u0435\\u043d\\u043d\\u0438\\u0445 \\u0434\\u0435\\u043b \\u0441\\u043c\\u0435\\u043d\\u044f\\u044f \\u043d\\u0430 \\u044d\\u0442\\u043e\\u043c \\u043f\\u043e\\u0441\\u0442\\u0443 \\u0440\\u0430\\u0448\\u0438\\u0434\\u0430 \\u043d\\u0443\\u0440\\u0433\\u0430\\u043b\\u0438\\u0435\\u0432\\u0430 \\u0441\\u043e\\u0445\\u0440\\u0430\\u043d\\u0438\\u043b \\u0441\\u0432\\u043e\\u0439 \\u043f\\u043e\\u0441\\u0442 \\u0432 \\u043d\\u043e\\u0432\\u043e\\u043c \\u043a\\u0430\\u0431\\u0438\\u043d\\u0435\\u0442\\u0435 \\u043c\\u0438\\u0445\\u0430\\u0438\\u043b\\u0430 \\u043c\\u0438\\u0448\\u0443\\u0441\\u0442\\u0438\\u043d\\u0430 \\u0441\\u0444\\u043e\\u0440\\u043c\\u0438\\u0440\\u043e\\u0432\\u0430\\u043d\\u043d\\u043e\\u043c \\u0433 \\u043f\\u0440\\u0435\\u0434\\u0441\\u0435\\u0434\\u0430\\u0442\\u0435\\u043b\\u044c \\u0433\\u043e\\u0441\\u0443\\u0434\\u0430\\u0440\\u0441\\u0442\\u0432\\u0435\\u043d\\u043d\\u043e\\u0433\\u043e \\u0430\\u043d\\u0442\\u0438\\u043d\\u0430\\u0440\\u043a\\u043e\\u0442\\u0438\\u0447\\u0435\\u0441\\u043a\\u043e\\u0433\\u043e \\u043a\\u043e\\u043c\\u0438\\u0442\\u0435\\u0442\\u0430 \\u0441 \\u0433 \\u043f\\u043e \\u0434\\u043e\\u043b\\u0436\\u043d\\u043e\\u0441\\u0442\\u0438 \\u043f\\u0440\\u0430\\u0432\\u0438\\u0442\\u0435\\u043b\\u044c\\u0441\\u0442\\u0432\\u0435\\u043d\\u043d\\u043e\\u0439 \\u043a\\u043e\\u043c\\u0438\\u0441\\u0441\\u0438\\u0438 \\u043f\\u043e \\u043f\\u0440\\u043e\\u0444\\u0438\\u043b\\u0430\\u043a\\u0442\\u0438\\u043a\\u0435 \\u043f\\u0440\\u0430\\u0432\\u043e\\u043d\\u0430\\u0440\\u0443\\u0448\\u0435\\u043d\\u0438\\u0439 \\u0441 \\u0433 \\u0432\\u0445\\u043e\\u0434\\u0438\\u0442 \\u0432 \\u0441\\u043e\\u0432\\u0435\\u0442\\u0430 \\u043f\\u0440\\u0438 \\u043f\\u0440\\u0435\\u0437\\u0438\\u0434\\u0435\\u043d\\u0442\\u0435 \\u0440\\u0444 \\u043f\\u043e \\u043f\\u0440\\u043e\\u0442\\u0438\\u0432\\u043e\\u0434\\u0435\\u0439\\u0441\\u0442\\u0432\\u0438\\u044e \\u043a\\u043e\\u0440\\u0440\\u0443\\u043f\\u0446\\u0438\\u0438 \\u0438 \\u0441\\u043e\\u0432\\u0435\\u0442\\u0430 \\u043f\\u0440\\u0438 \\u043f\\u0440\\u0435\\u0437\\u0438\\u0434\\u0435\\u043d\\u0442\\u0435 \\u0440\\u0444 \\u043f\\u043e \\u0440\\u0430\\u0437\\u0432\\u0438\\u0442\\u0438\\u044e \\u0444\\u0438\\u0437\\u0438\\u0447\\u0435\\u0441\\u043a\\u043e\\u0439 \\u043a\\u0443\\u043b\\u044c\\u0442\\u0443\\u0440\\u044b \\u0438 \\u0441\\u043f\\u043e\\u0440\\u0442\\u0430 \\u043e\\u0431\\u0430 \\u0441 \\u0433 \\u0447\\u043b\\u0435\\u043d \\u043a\\u043e\\u043c\\u0438\\u0441\\u0441\\u0438\\u0438 \\u0440\\u0444 \\u0441 \\u0433 \\u0433\\u0435\\u043d\\u0435\\u0440\\u0430\\u043b \\u043f\\u043e\\u043b\\u0438\\u0446\\u0438\\u0438 \\u0441\\u0435\\u043c\\u044c\\u044f \\u0443 \\u043a\\u043e\\u043b\\u043e\\u043a\\u043e\\u043b\\u044c\\u0446\\u0435\\u0432\\u0430 \\u0435\\u0441\\u0442\\u044c \\u0436\\u0435\\u043d\\u0430 \\u043a\\u043e\\u0442\\u043e\\u0440\\u0443\\u044e \\u0437\\u043e\\u0432\\u0443\\u0442 \\u0432\\u0435\\u0440\\u0430 \\u0438\\u0432\\u0430\\u043d\\u043e\\u0432\\u043d\\u0430 \\u0438 \\u0434\\u0432\\u043e\\u0435 \\u0434\\u0435\\u0442\\u0435\\u0439 \\u0441\\u044b\\u043d \\u0430\\u043b\\u0435\\u043a\\u0441\\u0430\\u043d\\u0434\\u0440 \\u0433\\u0440 \\u0440\\u0430\\u0431\\u043e\\u0442\\u0430\\u043b \\u0432 \\u043f\\u043e\\u043b\\u0438\\u0446\\u0438\\u0438 \\u0430 \\u0441\\u0435\\u0439\\u0447\\u0430\\u0441 \\u0437\\u0430\\u043d\\u0438\\u043c\\u0430\\u0435\\u0442\\u0441\\u044f \\u043f\\u0440\\u0435\\u0434\\u043f\\u0440\\u0438\\u043d\\u0438\\u043c\\u0430\\u0442\\u0435\\u043b\\u044c\\u0441\\u043a\\u043e\\u0439 \\u0434\\u0435\\u044f\\u0442\\u0435\\u043b\\u044c\\u043d\\u043e\\u0441\\u0442\\u044c\\u044e \\u0438 \\u0434\\u043e\\u0447\\u044c \\u0435\\u043a\\u0430\\u0442\\u0435\\u0440\\u0438\\u043d\\u0430 \\u0433\\u0440 \\u043e\\u043a\\u043e\\u043d\\u0447\\u0438\\u0432\\u0448\\u0430\\u044f \\u043c\\u0433\\u0438\\u043c\\u043e \\u0438 \\u0440\\u0430\\u0431\\u043e\\u0442\\u0430\\u044e\\u0449\\u0430\\u044f \\u0436\\u0443\\u0440\\u043d\\u0430\\u043b\\u0438\\u0441\\u0442\\u043e\\u043c \\u043a\\u043e\\u043b\\u043e\\u043a\\u043e\\u043b\\u044c\\u0446\\u0435\\u0432 \\u0443\\u0432\\u043b\\u0435\\u043a\\u0430\\u0435\\u0442\\u0441\\u044f \\u0436\\u0438\\u0432\\u043e\\u043f\\u0438\\u0441\\u044c\\u044e \\u043c\\u043e\\u0442\\u043e\\u0441\\u043f\\u043e\\u0440\\u0442\\u043e\\u043c \\u043e\\u0445\\u043e\\u0442\\u043e\\u0439 \\u0438 \\u0440\\u044b\\u0431\\u0430\\u043b\\u043a\\u043e\\u0439 \\u0442\\u0430\\u043a\\u0436\\u0435 \\u043e\\u043d \\u0443\\u0432\\u043b\\u0435\\u043a\\u0430\\u0435\\u0442\\u0441\\u044f \\u0435\\u0437\\u0434\\u043e\\u0439 \\u043d\\u0430 \\u0447\\u043e\\u043f\\u043f\\u0435\\u0440\\u0435 \\u0432 \\u0431\\u0430\\u0439\\u043a\\u0435\\u0440\\u0441\\u043a\\u043e\\u043c \\u0441\\u043d\\u0430\\u0440\\u044f\\u0436\\u0435\\u043d\\u0438\\u0438 \\u043d\\u0430\\u0433\\u0440\\u0430\\u0434\\u044b \\u0433\\u043e\\u0441\\u0443\\u0434\\u0430\\u0440\\u0441\\u0442\\u0432\\u0435\\u043d\\u043d\\u044b\\u0435 \\u043e\\u0440\\u0434\\u0435\\u043d \\u0437\\u0430 \\u0437\\u0430\\u0441\\u043b\\u0443\\u0433\\u0438 \\u043f\\u0435\\u0440\\u0435\\u0434 \\u043e\\u0442\\u0435\\u0447\\u0435\\u0441\\u0442\\u0432\\u043e\\u043c \\u0438 \\u0441\\u0442\\u0435\\u043f\\u0435\\u043d\\u0435\\u0439 \\u0437\\u0430\\u0441\\u043b\\u0443\\u0436\\u0435\\u043d\\u043d\\u044b\\u0439 \\u0441\\u043e\\u0442\\u0440\\u0443\\u0434\\u043d\\u0438\\u043a \\u043e\\u0440\\u0433\\u0430\\u043d\\u043e\\u0432 \\u0432\\u043d\\u0443\\u0442\\u0440\\u0435\\u043d\\u043d\\u0438\\u0445 \\u0434\\u0435\\u043b \\u0440\\u043e\\u0441\\u0441\\u0438\\u0439\\u0441\\u043a\\u043e\\u0439 \\u043c\\u0438\\u043d\\u0438\\u0441\\u0442\\u0440 \\u0432\\u043d\\u0443\\u0442\\u0440\\u0435\\u043d\\u043d\\u0438\\u0445 \\u0434\\u0435\\u043b \\u0440\\u043e\\u0441\\u0441\\u0438\\u0439\\u0441\\u043a\\u043e\\u0439 \\u0444\\u0435\\u0434\\u0435\\u0440\\u0430\\u0446\\u0438\\u0438 \\u0433\\u0435\\u043d\\u0435\\u0440\\u0430\\u043b \\u043f\\u043e\\u043b\\u0438\\u0446\\u0438\\u0438 \\u0440\\u043e\\u0441\\u0441\\u0438\\u0439\\u0441\\u043a\\u043e\\u0439 \\u0444\\u0435\\u0434\\u0435\\u0440\\u0430\\u0446\\u0438\\u0438 \\u0432\\u043b\\u0430\\u0434\\u0438\\u043c\\u0438\\u0440 \\u0430\\u043b\\u0435\\u043a\\u0441\\u0430\\u043d\\u0434\\u0440\\u043e\\u0432\\u0438\\u0447 \\u043a\\u043e\\u043b\\u043e\\u043a\\u043e\\u043b\\u044c\\u0446\\u0435\\u0432 \\u0437\\u0430 \\u043e\\u0442\\u043b\\u0438\\u0447\\u0438\\u0435 \\u0432 \\u043e\\u0445\\u0440\\u0430\\u043d\\u0435 \\u043e\\u0431\\u0449\\u0435\\u0441\\u0442\\u0432\\u0435\\u043d\\u043d\\u043e\\u0433\\u043e \\u043f\\u043e\\u0440\\u044f\\u0434\\u043a\\u0430 \\u043e\\u0440\\u0434\\u0435\\u043d \\u0430\\u043b\\u0435\\u043a\\u0441\\u0430\\u043d\\u0434\\u0440\\u0430 \\u043d\\u0435\\u0432\\u0441\\u043a\\u043e\\u0433\\u043e \\u0444\\u043e\\u0442\\u043e \\u043c\\u0438\\u043d\\u0438\\u0441\\u0442\\u0440\\u0430 \\u0432\\u043d\\u0443\\u0442\\u0440\\u0435\\u043d\\u043d\\u0438\\u0445 \\u0434\\u0435\\u043b \\u0440\\u0444 \\u0433\\u0435\\u043d\\u0435\\u0440\\u0430\\u043b\\u0430 \\u043f\\u043e\\u043b\\u0438\\u0446\\u0438\\u0438 \\u0440\\u043e\\u0441\\u0441\\u0438\\u0439\\u0441\\u043a\\u043e\\u0439 \\u0444\\u0435\\u0434\\u0435\\u0440\\u0430\\u0446\\u0438\\u0438 \\u0432 \\u0430 \\u043a\\u043e\\u043b\\u043e\\u043a\\u043e\\u043b\\u044c\\u0446\\u0435\\u0432\\u0430 \\u0441 \\u043e\\u0440\\u0434\\u0435\\u043d\\u0441\\u043a\\u0438\\u043c\\u0438 \\u043f\\u043b\\u0430\\u043d\\u043a\\u0430\\u043c\\u0438 \\u0432\\u0435\\u0434\\u043e\\u043c\\u0441\\u0442\\u0432\\u0435\\u043d\\u043d\\u044b\\u0435 \\u043d\\u0430\\u0433\\u0440\\u0443\\u0434\\u043d\\u044b\\u0439 \\u0437\\u043d\\u0430\\u043a \\u0441\\u043e\\u0442\\u0440\\u0443\\u0434\\u043d\\u0438\\u043a \\u043f\\u0430\\u0440\\u0430\\u0434\\u043d\\u044b\\u0439 \\u043f\\u043e\\u0440\\u0442\\u0440\\u0435\\u0442 \\u0432\\u043b\\u0430\\u0434\\u0438\\u043c\\u0438\\u0440\\u0430 \\u0430\\u043b\\u0435\\u043a\\u0441\\u0430\\u043d\\u0434\\u0440\\u043e\\u0432\\u0438\\u0447\\u0430 \\u043a\\u043e\\u043b\\u043e\\u043a\\u043e\\u043b\\u044c\\u0446\\u0435\\u0432\\u0430 \\u0441 \\u043d\\u0430\\u0433\\u0440\\u0430\\u0434\\u0430\\u043c\\u0438 \\u0437\\u0430 \\u0434\\u043e\\u0431\\u043b\\u0435\\u0441\\u0442\\u044c \\u0432 \\u0441\\u043b\\u0443\\u0436\\u0431\\u0435 \\u043c\\u0432\\u0434 \\u0437\\u0430 \\u043e\\u0442\\u043b\\u0438\\u0447\\u0438\\u0435 \\u0432 \\u0441\\u043b\\u0443\\u0436\\u0431\\u0435 \\u043c\\u0432\\u0434 \\u0438 \\u0441\\u0442\\u0435\\u043f\\u0435\\u043d\\u0435\\u0439 \\u0437\\u0430 \\u0431\\u0435\\u0437\\u0443\\u043f\\u0440\\u0435\\u0447\\u043d\\u0443\\u044e \\u0441\\u043b\\u0443\\u0436\\u0431\\u0443 \\u0441\\u0442\\u0435\\u043f\\u0435\\u043d\\u0438 \\u0437\\u0430 \\u0437\\u0430\\u0441\\u043b\\u0443\\u0433\\u0438 \\u0432 \\u0443\\u043f\\u0440\\u0430\\u0432\\u043b\\u0435\\u043d\\u0447\\u0435\\u0441\\u043a\\u043e\\u0439 \\u0434\\u0435\\u044f\\u0442\\u0435\\u043b\\u044c\\u043d\\u043e\\u0441\\u0442\\u0438 \\u0444\\u0441\\u043a\\u043d \\u0438 \\u0441\\u0442\\u0435\\u043f\\u0435\\u043d\\u0435\\u0439 \\u043c\\u0432\\u0434 \\u0440\\u043e\\u0441\\u0441\\u0438\\u0438 \\u043c\\u0432\\u0434 \\u0437\\u0430 \\u0431\\u043e\\u0435\\u0432\\u043e\\u0435 \\u0441\\u043e\\u0434\\u0440\\u0443\\u0436\\u0435\\u0441\\u0442\\u0432\\u043e \\u0444\\u0441\\u043e \\u0437\\u0430 \\u0441\\u043e\\u0434\\u0435\\u0439\\u0441\\u0442\\u0432\\u0438\\u0435 \\u0433\\u0444\\u0441 \\u0440\\u043e\\u0441\\u0441\\u0438\\u0438 \\u0437\\u0430 \\u043e\\u0441\\u043e\\u0431\\u044b\\u0439 \\u0432\\u043a\\u043b\\u0430\\u0434 \\u0432 \\u043e\\u0431\\u0435\\u0441\\u043f\\u0435\\u0447\\u0435\\u043d\\u0438\\u0435 \\u043f\\u043e\\u0436\\u0430\\u0440\\u043d\\u043e\\u0439 \\u0431\\u0435\\u0437\\u043e\\u043f\\u0430\\u0441\\u043d\\u043e\\u0441\\u0442\\u0438 \\u043e\\u0441\\u043e\\u0431\\u043e \\u0432\\u0430\\u0436\\u043d\\u044b\\u0445 \\u0433\\u043e\\u0441\\u0443\\u0434\\u0430\\u0440\\u0441\\u0442\\u0432\\u0435\\u043d\\u043d\\u044b\\u0445 \\u043e\\u0431\\u044a\\u0435\\u043a\\u0442\\u043e\\u0432 \\u043c\\u0447\\u0441 \\u0437\\u0430 \\u0431\\u043e\\u0435\\u0432\\u043e\\u0435 \\u0441\\u043e\\u0434\\u0440\\u0443\\u0436\\u0435\\u0441\\u0442\\u0432\\u043e \\u043c\\u0432\\u0434 \\u043d\\u0430\\u0433\\u0440\\u0443\\u0434\\u043d\\u044b\\u0439 \\u0437\\u043d\\u0430\\u043a \\u043c\\u0432\\u0434 \\u0440\\u043e\\u0441\\u0441\\u0438\\u0438 \\u043a\\u0430\\u0442\\u0435\\u0433\\u043e\\u0440\\u0438\\u044f\\u043f\\u0440\\u0430\\u0432\\u0438\\u0442\\u0435\\u043b\\u044c\\u0441\\u0442\\u0432\\u043e \\u043c\\u0438\\u0448\\u0443\\u0441\\u0442\\u0438\\u043d\\u0430 \\u043a\\u0430\\u0442\\u0435\\u0433\\u043e\\u0440\\u0438\\u044f\\u0432\\u0442\\u043e\\u0440\\u043e\\u0435 \\u043f\\u0440\\u0430\\u0432\\u0438\\u0442\\u0435\\u043b\\u044c\\u0441\\u0442\\u0432\\u043e \\u043c\\u0435\\u0434\\u0432\\u0435\\u0434\\u0435\\u0432\\u0430 \\u043a\\u0430\\u0442\\u0435\\u0433\\u043e\\u0440\\u0438\\u044f\\u043f\\u0435\\u0440\\u0432\\u043e\\u0435 \\u043f\\u0440\\u0430\\u0432\\u0438\\u0442\\u0435\\u043b\\u044c\\u0441\\u0442\\u0432\\u043e \\u043c\\u0435\\u0434\\u0432\\u0435\\u0434\\u0435\\u0432\\u0430\",\n          \"\\u0441\\u043c\\u0435\\u0440\\u0442\\u0438 \\u043a\\u043e\\u0442\\u043e\\u0432 \\u0438\\u0432\\u0430\\u043d \\u043d\\u0430\\u0433\\u0440\\u0430\\u0434\\u044b \\u0441\\u043b\\u0443\\u0436\\u0431\\u044b \\u043f\\u0440\\u0438\\u043d\\u0430\\u0434\\u043b\\u0435\\u0436\\u043d\\u043e\\u0441\\u0442\\u044c \\u0441\\u0440\\u0430\\u0436\\u0435\\u043d\\u0438\\u044f \\u0432\\u0435\\u043b\\u0438\\u043a\\u0430\\u044f \\u043e\\u0442\\u0435\\u0447\\u0435\\u0441\\u0442\\u0432\\u0435\\u043d\\u043d\\u0430\\u044f \\u0432\\u043e\\u0439\\u043d\\u0430 \\u0438\\u0432\\u0430\\u043d \\u0438\\u043b\\u044c\\u0438\\u0447 \\u043a\\u043e\\u0442\\u043e\\u0432 \\u0445\\u0443\\u0442\\u043e\\u0440 \\u0438\\u0432\\u0430\\u043d\\u043e\\u0432\\u043a\\u0430 \\u043c\\u0430\\u043b\\u044c\\u0447\\u0435\\u0432\\u0441\\u043a\\u043e\\u0433\\u043e \\u043c\\u0438\\u043b\\u043b\\u0435\\u0440\\u043e\\u0432\\u0441\\u043a\\u043e\\u0433\\u043e \\u0440\\u0430\\u0439\\u043e\\u043d\\u0430 \\u0440\\u043e\\u0441\\u0442\\u043e\\u0432\\u0441\\u043a\\u043e\\u0439 \\u043e\\u0431\\u043b\\u0430\\u0441\\u0442\\u0438 \\u0433\\u043e\\u0440\\u043e\\u0434 \\u043d\\u0438\\u043a\\u043e\\u043b\\u0430\\u0435\\u0432 \\u0443\\u0447\\u0430\\u0441\\u0442\\u043d\\u0438\\u043a \\u0432\\u0435\\u043b\\u0438\\u043a\\u043e\\u0439 \\u043e\\u0442\\u0435\\u0447\\u0435\\u0441\\u0442\\u0432\\u0435\\u043d\\u043d\\u043e\\u0439 \\u0432\\u043e\\u0439\\u043d\\u044b \\u043e\\u0442\\u0440\\u044f\\u0434\\u0430 \\u043f\\u043e\\u0434 \\u043a\\u043e\\u043c\\u0430\\u043d\\u0434\\u043e\\u0432\\u0430\\u043d\\u0438\\u0435\\u043c \\u0441\\u0442\\u0430\\u0440\\u0448\\u0435\\u0433\\u043e \\u043b\\u0435\\u0439\\u0442\\u0435\\u043d\\u0430\\u043d\\u0442\\u0430 \\u043a \\u0444 \\u043e\\u043b\\u044c\\u0448\\u0430\\u043d\\u0441\\u043a\\u043e\\u0433\\u043e \\u0441\\u043e\\u0432\\u0435\\u0442\\u0441\\u043a\\u043e\\u0433\\u043e \\u0441\\u043e\\u044e\\u0437\\u0430 \\u0431\\u0438\\u043e\\u0433\\u0440\\u0430\\u0444\\u0438\\u044f \\u0438\\u0432\\u0430\\u043d \\u043a\\u043e\\u0442\\u043e\\u0432 \\u0440\\u043e\\u0434\\u0438\\u043b\\u0441\\u044f \\u0432 \\u0440\\u043e\\u0441\\u0442\\u043e\\u0432\\u0441\\u043a\\u043e\\u0439 \\u043e\\u0431\\u043b\\u0430\\u0441\\u0442\\u0438 \\u0432 \\u0441\\u0435\\u043c\\u044c\\u044f \\u043f\\u0435\\u0440\\u0435\\u0435\\u0445\\u0430\\u043b\\u0430 \\u0432 \\u0441\\u0442\\u0430\\u043d\\u0438\\u0446\\u0443 \\u0440\\u0430\\u0435\\u0432\\u0441\\u043a\\u0443\\u044e \\u043a\\u0440\\u0430\\u0441\\u043d\\u043e\\u0434\\u0430\\u0440\\u0441\\u043a\\u043e\\u0433\\u043e \\u043a\\u0440\\u0430\\u044f \\u0432 \\u0441\\u0442\\u0430\\u043d\\u0438\\u0446\\u0435 \\u0438\\u0432\\u0430\\u043d \\u043e\\u043a\\u043e\\u043d\\u0447\\u0438\\u043b \\u043a\\u043b\\u0430\\u0441\\u0441\\u043e\\u0432 \\u0431\\u044b\\u043b \\u043a\\u043e\\u043c\\u0441\\u043e\\u043c\\u043e\\u043b\\u044c\\u0446\\u0435\\u043c \\u0440\\u0430\\u0431\\u043e\\u0442\\u0430\\u043b \\u0432 \\u043a\\u043e\\u043b\\u0445\\u043e\\u0437\\u0435\\u0437\\u0430\\u0433\\u043b\\u0430\\u0432\\u0438\\u0435\\u043d\\u043e\\u0432\\u043e\\u0440\\u043e\\u0441\\u0441\\u0438\\u0439\\u0446\\u044b \\u0433\\u0435\\u0440\\u043e\\u0438 \\u0441\\u043e\\u0432\\u0435\\u0442\\u0441\\u043a\\u043e\\u0433\\u043e \\u0433\\u043e\\u0441\\u0443\\u0434\\u0430\\u0440\\u0441\\u0442\\u0432\\u0435\\u043d\\u043d\\u044b\\u0439 \\u0438\\u0441\\u0442\\u043e\\u0440\\u0438\\u0447\\u0435\\u0441\\u043a\\u0438\\u0439 \\u043c\\u0443\\u0437\\u0435\\u0439 \\u0438\\u0432\\u0430\\u043d \\u043a\\u043e\\u0442\\u043e\\u0432 \\u043d\\u0430\\u0445\\u043e\\u0434\\u0438\\u043b\\u0441\\u044f \\u043d\\u0430 \\u043e\\u043a\\u043a\\u0443\\u043f\\u0438\\u0440\\u043e\\u0432\\u0430\\u043d\\u043d\\u043e\\u0439 \\u0442\\u0435\\u0440\\u0440\\u0438\\u0442\\u043e\\u0440\\u0438\\u0438 \\u0432 \\u043f\\u0435\\u0440\\u0438\\u043e\\u0434 \\u0441 \\u043f\\u043e \\u0441\\u0435\\u043d\\u0442\\u044f\\u0431\\u0440\\u044c \\u0441 \\u043d\\u0430\\u0447\\u0430\\u043b\\u0430 \\u0432\\u043e\\u0439\\u043d\\u044b \\u043a\\u0430\\u043a \\u0438 \\u0432\\u0441\\u0435 \\u0435\\u0433\\u043e \\u0441\\u0432\\u0435\\u0440\\u0441\\u0442\\u043d\\u0438\\u043a\\u0438 \\u0440\\u0432\\u0430\\u043b\\u0441\\u044f \\u043d\\u0430 \\u0444\\u0440\\u043e\\u043d\\u0442 \\u043d\\u043e \\u043f\\u043e\\u0432\\u0435\\u0441\\u0442\\u043a\\u0443 \\u0438\\u0437 \\u0432\\u043e\\u0435\\u043d\\u043a\\u043e\\u043c\\u0430\\u0442\\u0430 \\u043f\\u043e\\u043b\\u0443\\u0447\\u0438\\u043b \\u0442\\u043e\\u043b\\u044c\\u043a\\u043e \\u0432\\u0435\\u0441\\u043d\\u043e\\u0439 \\u0438\\u0432\\u0430\\u043d\\u0430 \\u043d\\u0430\\u043f\\u0440\\u0430\\u0432\\u0438\\u043b\\u0438 \\u0432 \\u0444\\u043b\\u043e\\u0442 \\u0432 \\u0441\\u043e\\u0441\\u0442\\u0430\\u0432\\u0435 \\u043e\\u0442\\u0434\\u0435\\u043b\\u044c\\u043d\\u043e\\u0433\\u043e \\u0431\\u0430\\u0442\\u0430\\u043b\\u044c\\u043e\\u043d\\u0430 \\u043c\\u043e\\u0440\\u0441\\u043a\\u043e\\u0439 \\u043f\\u0435\\u0445\\u043e\\u0442\\u044b \\u043e\\u0434\\u0435\\u0441\\u0441\\u043a\\u043e\\u0439 \\u0431\\u0430\\u0437\\u044b \\u043a\\u0440\\u0430\\u0441\\u043d\\u043e\\u0444\\u043b\\u043e\\u0442\\u0435\\u0446 \\u043a\\u043e\\u0442\\u043e\\u0432 \\u043f\\u0440\\u0438\\u043d\\u0438\\u043c\\u0430\\u043b \\u0443\\u0447\\u0430\\u0441\\u0442\\u0438\\u0435 \\u0432 \\u0434\\u0435\\u0441\\u0430\\u043d\\u0442\\u043d\\u044b\\u0445 \\u043e\\u043f\\u0435\\u0440\\u0430\\u0446\\u0438\\u044f\\u0445 \\u0432 \\u0433\\u043e\\u0440\\u043e\\u0434\\u0430\\u0445 \\u043c\\u0430\\u0440\\u0438\\u0443\\u043f\\u043e\\u043b\\u044c \\u0438 \\u043e\\u0441\\u0438\\u043f\\u0435\\u043d\\u043a\\u043e \\u0438\\u043c\\u0435\\u0435\\u0442 \\u0440\\u044f\\u0434 \\u043f\\u043e\\u043e\\u0449\\u0440\\u0435\\u043d\\u0438\\u0439 \\u043e\\u0442 \\u043a\\u043e\\u043c\\u0430\\u043d\\u0434\\u043e\\u0432\\u0430\\u043d\\u0438\\u044f \\u0438\\u0437 \\u0441\\u043e\\u0441\\u0442\\u0430\\u0432\\u0430 \\u043e\\u0442\\u0434\\u0435\\u043b\\u044c\\u043d\\u043e\\u0433\\u043e \\u0431\\u0430\\u0442\\u0430\\u043b\\u044c\\u043e\\u043d\\u0430 \\u043c\\u043e\\u0440\\u0441\\u043a\\u043e\\u0439 \\u043f\\u0435\\u0445\\u043e\\u0442\\u044b \\u0432\\u044b\\u0434\\u0435\\u043b\\u0438\\u043b\\u0438 \\u0433\\u0440\\u0443\\u043f\\u043f\\u0443 \\u0434\\u0435\\u0441\\u0430\\u043d\\u0442\\u043d\\u0438\\u043a\\u043e\\u0432 \\u043f\\u043e\\u0434 \\u043a\\u043e\\u043c\\u0430\\u043d\\u0434\\u043e\\u0432\\u0430\\u043d\\u0438\\u0435\\u043c \\u0441\\u0442\\u0430\\u0440\\u0448\\u0435\\u0433\\u043e \\u043b\\u0435\\u0439\\u0442\\u0435\\u043d\\u0430\\u043d\\u0442\\u0430 \\u043a\\u043e\\u043d\\u0441\\u0442\\u0430\\u043d\\u0442\\u0438\\u043d\\u0430 \\u043e\\u043b\\u044c\\u0448\\u0430\\u043d\\u0441\\u043a\\u043e\\u0433\\u043e \\u0432 \\u0432\\u043e\\u0448\\u043b\\u0438 \\u043c\\u043e\\u0440\\u044f\\u043a\\u043e\\u0432 \\u0441\\u0432\\u044f\\u0437\\u0438\\u0441\\u0442\\u0430 \\u0438\\u0437 \\u0448\\u0442\\u0430\\u0431\\u0430 \\u0430\\u0440\\u043c\\u0438\\u0438 \\u0438 \\u043f\\u0440\\u043e\\u0432\\u043e\\u0434\\u043d\\u0438\\u043a\\u043e\\u043c \\u043c\\u0435\\u0441\\u0442\\u043d\\u044b\\u0439 \\u0440\\u044b\\u0431\\u0430\\u043a \\u0430\\u043d\\u0434\\u0440\\u0435\\u0435\\u0432 \\u043e\\u0434\\u043d\\u0438\\u043c \\u0438\\u0437 \\u0434\\u0435\\u0441\\u0430\\u043d\\u0442\\u043d\\u0438\\u043a\\u043e\\u0432 \\u0431\\u044b\\u043b \\u043c\\u0430\\u0442\\u0440\\u043e\\u0441 \\u0438\\u0432\\u0430\\u043d \\u043a\\u043e\\u0442\\u043e\\u0432 \\u043f\\u043e\\u0433\\u0438\\u0431 \\u0438\\u0432\\u0430\\u043d \\u0438\\u043b\\u044c\\u0438\\u0447 \\u043a\\u043e\\u0442\\u043e\\u0432 \\u0432 \\u0440\\u0435\\u0437\\u0443\\u043b\\u044c\\u0442\\u0430\\u0442\\u0435 \\u0431\\u043e\\u0435\\u0432\\u044b\\u0445 \\u0434\\u0435\\u0439\\u0441\\u0442\\u0432\\u0438\\u0439 \\u043f\\u043e\\u0445\\u043e\\u0440\\u043e\\u043d\\u0435\\u043d \\u0432 \\u0433\\u043e\\u0440\\u043e\\u0434\\u0435 \\u043d\\u0438\\u043a\\u043e\\u043b\\u0430\\u0435\\u0432\\u0435 \\u0432 \\u043f\\u0430\\u0440\\u043a\\u0435 \\u0438\\u043c\\u0435\\u043d\\u0438 \\u0434\\u0435\\u0441\\u0430\\u043d\\u0442\\u043d\\u0438\\u043a\\u043e\\u0432 \\u0432 \\u0431\\u0440\\u0430\\u0442\\u0441\\u043a\\u043e\\u0439 \\u043c\\u043e\\u0433\\u0438\\u043b\\u0435 \\u043f\\u043e\\u0434\\u0432\\u0438\\u0433 \\u043a\\u043e\\u0442\\u043e\\u0432 \\u0438\\u0432\\u0430\\u043d \\u0438\\u043b\\u044c\\u0438\\u0447 \\u0432 \\u0441\\u043e\\u0441\\u0442\\u0430\\u0432\\u0435 \\u0433\\u0435\\u0440\\u043e\\u0438\\u0447\\u0435\\u0441\\u043a\\u043e\\u0433\\u043e \\u0434\\u0435\\u0441\\u0430\\u043d\\u0442\\u043d\\u043e\\u0433\\u043e \\u043e\\u0442\\u0440\\u044f\\u0434\\u0430 \\u0432 \\u043a\\u043e\\u043b\\u0438\\u0447\\u0435\\u0441\\u0442\\u0432\\u0435 \\u0447\\u0435\\u043b\\u043e\\u0432\\u0435\\u043a \\u043f\\u043e\\u0434 \\u043a\\u043e\\u043c\\u0430\\u043d\\u0434\\u043e\\u0432\\u0430\\u043d\\u0438\\u0435\\u043c \\u0441\\u0442\\u0430\\u0440\\u0448\\u0435\\u0433\\u043e \\u043b\\u0435\\u0439\\u0442\\u0435\\u043d\\u0430\\u043d\\u0442\\u0430 \\u043a\\u043e\\u043d\\u0441\\u0442\\u0430\\u043d\\u0442\\u0438\\u043d\\u0430 \\u043e\\u043b\\u044c\\u0448\\u0430\\u043d\\u0441\\u043a\\u043e\\u0433\\u043e \\u0441 \\u043d\\u0430 \\u0432 \\u0440\\u0430\\u0439\\u043e\\u043d\\u0435 \\u0431\\u043e\\u0433\\u043e\\u044f\\u0432\\u043b\\u0435\\u043d\\u0441\\u043a\\u0438\\u0439 \\u043e\\u043a\\u0442\\u044f\\u0431\\u0440\\u044c\\u0441\\u043a\\u0438\\u0439 \\u043d\\u0430 \\u0440\\u044b\\u0431\\u0430\\u0446\\u043a\\u0438\\u0445 \\u043b\\u043e\\u0434\\u043a\\u0430\\u0445 \\u043e\\u0442\\u043f\\u0440\\u0430\\u0432\\u0438\\u043b\\u0441\\u044f \\u0432 \\u0442\\u044b\\u043b \\u043a \\u0432\\u0440\\u0430\\u0433\\u0443 \\u0437\\u0430\\u0434\\u0430\\u0447\\u0435\\u0439 \\u043e\\u0442\\u0440\\u044f\\u0434\\u0430 \\u0431\\u044b\\u043b\\u0430 \\u043d\\u0430\\u0440\\u0443\\u0448\\u0438\\u0442\\u044c \\u0431\\u043e\\u0435\\u0432\\u043e\\u0435 \\u0443\\u043f\\u0440\\u0430\\u0432\\u043b\\u0435\\u043d\\u0438\\u0435 \\u043f\\u0440\\u043e\\u0442\\u0438\\u0432\\u043d\\u0438\\u043a\\u0430 \\u043f\\u0440\\u0435\\u0440\\u0432\\u0430\\u0442\\u044c \\u043a\\u043e\\u043c\\u043c\\u0443\\u043d\\u0438\\u043a\\u0430\\u0446\\u0438\\u0438 \\u043d\\u0430\\u043d\\u0435\\u0441\\u0442\\u0438 \\u0443\\u0434\\u0430\\u0440 \\u043f\\u043e \\u043d\\u0435\\u043c\\u0435\\u0446\\u043a\\u043e\\u0439 \\u043e\\u0431\\u043e\\u0440\\u043e\\u043d\\u0435 \\u0441 \\u0442\\u044b\\u043b\\u0430 \\u0441\\u043e\\u0434\\u0435\\u0439\\u0441\\u0442\\u0432\\u043e\\u0432\\u0430\\u0442\\u044c \\u043d\\u0430\\u0441\\u0442\\u0443\\u043f\\u0430\\u044e\\u0449\\u0438\\u043c \\u0447\\u0430\\u0441\\u0442\\u044f\\u043c \\u043a\\u0440\\u0430\\u0441\\u043d\\u043e\\u0439 \\u0430\\u0440\\u043c\\u0438\\u0438 \\u0432 \\u043e\\u0432\\u043b\\u0430\\u0434\\u0435\\u043d\\u0438\\u0438 \\u0433\\u043e\\u0440\\u043e\\u0434\\u043e\\u043c \\u043d\\u0438\\u043a\\u043e\\u043b\\u0430\\u0435\\u0432 \\u043f\\u0440\\u0438 \\u0441\\u0438\\u043b\\u044c\\u043d\\u043e\\u043c \\u0432\\u0435\\u0442\\u0440\\u0435 \\u0431\\u043e\\u043b\\u044c\\u0448\\u043e\\u0439 \\u0432\\u043e\\u043b\\u043d\\u0435 \\u043f\\u0440\\u043e\\u0442\\u0438\\u0432 \\u0442\\u0435\\u0447\\u0435\\u043d\\u0438\\u044f \\u043e\\u0442\\u0440\\u044f\\u0434 \\u043f\\u0435\\u0440\\u0435\\u0434\\u0432\\u0438\\u0433\\u0430\\u043b\\u0441\\u044f \\u043d\\u0430 \\u043b\\u043e\\u0434\\u043a\\u0430\\u0445 \\u043f\\u043e \\u0440\\u0435\\u043a\\u0435 \\u044e\\u0436\\u043d\\u044b\\u0439 \\u0431\\u0443\\u0433 \\u043f\\u043e \\u043b\\u0435\\u0432\\u043e\\u043c\\u0443 \\u0438 \\u043f\\u0440\\u0430\\u0432\\u043e\\u043c\\u0443 \\u0431\\u0435\\u0440\\u0435\\u0433\\u0443 \\u0440\\u0435\\u043a\\u0438 \\u0440\\u0430\\u0441\\u043f\\u043e\\u043b\\u0430\\u0433\\u0430\\u043b\\u0441\\u044f \\u0432\\u0440\\u0430\\u0433 \\u043b\\u043e\\u0434\\u043a\\u0438 \\u043d\\u0430\\u043f\\u043e\\u043b\\u043d\\u044f\\u043b\\u0438\\u0441\\u044c \\u0432\\u043e\\u0434\\u043e\\u0439 \\u043a\\u043e\\u0442\\u043e\\u0440\\u0430\\u044f \\u043f\\u043e\\u0441\\u0442\\u043e\\u044f\\u043d\\u043d\\u043e \\u0447\\u0435\\u043c \\u0438 \\u0431\\u044b\\u043b\\u043e \\u043f\\u0440\\u0435\\u0434\\u043e\\u0442\\u0432\\u0440\\u0430\\u0449\\u0435\\u043d\\u043e \\u0438\\u0445 \\u043f\\u043e\\u0442\\u043e\\u043f\\u043b\\u0435\\u043d\\u0438\\u0435 \\u0432 \\u0442\\u0440\\u0443\\u0434\\u043d\\u044b\\u0445 \\u0443\\u0441\\u043b\\u043e\\u0432\\u0438\\u044f\\u0445 \\u0440\\u0435\\u043a\\u0430 \\u0431\\u044b\\u043b\\u0430 \\u043f\\u0440\\u0435\\u043e\\u0434\\u043e\\u043b\\u0435\\u043d\\u0430 \\u043e\\u0442\\u0440\\u044f\\u0434 \\u0431\\u044b\\u0441\\u0442\\u0440\\u043e \\u0432\\u044b\\u0441\\u0430\\u0434\\u0438\\u043b\\u0441\\u044f \\u0438 \\u0437\\u0430\\u043a\\u0440\\u0435\\u043f\\u0438\\u043b\\u0441\\u044f \\u0432 \\u043d\\u0430\\u0437\\u043d\\u0430\\u0447\\u0435\\u043d\\u043d\\u043e\\u043c \\u043c\\u0435\\u0441\\u0442\\u0435 \\u0432 \\u0433\\u043e\\u0440\\u043e\\u0434\\u0435 \\u043d\\u0438\\u043a\\u043e\\u043b\\u0430\\u0435\\u0432 \\u043f\\u043e\\u0434\\u0434\\u0435\\u0440\\u0436\\u0438\\u0432\\u0430\\u044f \\u0441\\u0432\\u044f\\u0437\\u044c \\u043f\\u043e \\u0432\\u0437\\u0430\\u0438\\u043c\\u043e\\u0434\\u0435\\u0439\\u0441\\u0442\\u0432\\u0438\\u044e \\u0441 \\u0447\\u0430\\u0441\\u0442\\u044f\\u043c\\u0438 \\u043a\\u0440\\u0430\\u0441\\u043d\\u043e\\u0439 \\u0430\\u0440\\u043c\\u0438\\u0438 \\u043e\\u0442\\u0440\\u044f\\u0434 \\u043d\\u0430\\u0447\\u0430\\u043b \\u0430\\u043a\\u0442\\u0438\\u0432\\u043d\\u044b\\u0435 \\u0434\\u0435\\u0439\\u0441\\u0442\\u0432\\u0438\\u044f \\u0432\\u0440\\u0430\\u0433 \\u043d\\u0435 \\u043e\\u0436\\u0438\\u0434\\u0430\\u043b \\u0441\\u043c\\u0435\\u043b\\u043e\\u0433\\u043e \\u0443\\u0434\\u0430\\u0440\\u0430 \\u043f\\u0440\\u043e\\u0442\\u0438\\u0432\\u043d\\u0438\\u043a \\u0438\\u0441\\u043f\\u043e\\u043b\\u044c\\u0437\\u0443\\u044f \\u0430\\u0440\\u0442\\u0438\\u043b\\u043b\\u0435\\u0440\\u0438\\u0439\\u0441\\u043a\\u0438\\u0435 \\u0438 \\u0430\\u0432\\u0442\\u043e\\u043c\\u0430\\u0442\\u044b \\u0431\\u0440\\u043e\\u0441\\u0438\\u043b\\u0441\\u044f \\u0432 \\u0442\\u0440\\u0438 \\u043a\\u043e\\u043b\\u044c\\u0446\\u0430 \\u043d\\u0430 \\u0431\\u043e\\u0440\\u044c\\u0431\\u0443 \\u0441 \\u043e\\u0442\\u0440\\u044f\\u0434\\u043e\\u043c \\u043e\\u0442\\u0440\\u044f\\u0434 \\u043c\\u043e\\u0440\\u044f\\u043a\\u043e\\u0432 \\u0443\\u043a\\u0440\\u0435\\u043f\\u0438\\u043b\\u0441\\u044f \\u0432 \\u0437\\u0434\\u0430\\u043d\\u0438\\u0438 \\u0438 \\u0431\\u043e\\u0439 \\u0441 \\u043f\\u0440\\u043e\\u0442\\u0438\\u0432\\u043d\\u0438\\u043a\\u043e\\u043c \\u0432 \\u0442\\u0435\\u0447\\u0435\\u043d\\u0438\\u0438 \\u0434\\u0432\\u0443\\u0445 \\u0441\\u0443\\u0442\\u043e\\u043a \\u043d\\u0430\\u043d\\u0435\\u0441\\u043b\\u0438 \\u0432\\u0440\\u0430\\u0433\\u0443 \\u0437\\u043d\\u0430\\u0447\\u0438\\u0442\\u0435\\u043b\\u044c\\u043d\\u044b\\u0439 \\u0443\\u0440\\u043e\\u043d \\u0443\\u0431\\u0438\\u0442\\u044b\\u043c\\u0438 \\u0438 \\u0440\\u0430\\u043d\\u0435\\u043d\\u044b\\u043c\\u0438 \\u0434\\u043e \\u0447\\u0435\\u043b\\u043e\\u0432\\u0435\\u043a \\u043d\\u0430 \\u043f\\u0440\\u043e\\u0442\\u044f\\u0436\\u0435\\u043d\\u0438\\u0438 \\u044d\\u0442\\u043e\\u0433\\u043e \\u0432\\u0440\\u0435\\u043c\\u0435\\u043d\\u0438 \\u0434\\u0435\\u0441\\u0430\\u043d\\u0442\\u043d\\u0438\\u043a\\u0430\\u043c\\u0438 \\u0431\\u044b\\u043b\\u043e \\u043e\\u0442\\u0431\\u0438\\u0442\\u043e \\u0430\\u0442\\u0430\\u043a \\u043f\\u044f\\u0442\\u044c \\u0438\\u0437 \\u043a\\u043e\\u0442\\u043e\\u0440\\u044b\\u0445 \\u043d\\u043e\\u0441\\u0438\\u043b\\u0438 \\u043e\\u0441\\u043e\\u0431\\u044b\\u0439 \\u043e\\u0436\\u0435\\u0441\\u0442\\u043e\\u0447\\u0435\\u043d\\u043d\\u044b\\u0439 \\u0445\\u0430\\u0440\\u0430\\u043a\\u0442\\u0435\\u0440 \\u0441 \\u043f\\u0440\\u0438\\u043c\\u0435\\u043d\\u0435\\u043d\\u0438\\u0435\\u043c \\u0430\\u0440\\u0442\\u0438\\u043b\\u043b\\u0435\\u0440\\u0438\\u0438 \\u0442\\u0430\\u043d\\u043a\\u043e\\u0432 \\u0432 \\u043f\\u043e\\u0441\\u043b\\u0435\\u0434\\u043d\\u044e\\u044e \\u0430\\u0442\\u0430\\u043a\\u0443 \\u0432\\u0440\\u0430\\u0433 \\u043f\\u0440\\u0438\\u043c\\u0435\\u043d\\u0438\\u043b \\u043d\\u0435\\u0438\\u0437\\u0432\\u0435\\u0441\\u0442\\u043d\\u044b\\u0435 \\u043e\\u0442\\u0440\\u0430\\u0432\\u043b\\u044f\\u044e\\u0449\\u0438\\u0435 \\u0432\\u0435\\u0449\\u0435\\u0441\\u0442\\u0432\\u0430 \\u0432\\u044b\\u0437\\u0432\\u0430\\u043b\\u0438 \\u043e\\u0431\\u0449\\u0435\\u0435 \\u043e\\u0441\\u043b\\u0430\\u0431\\u043b\\u0435\\u043d\\u0438\\u0435 \\u0443\\u0442\\u043e\\u043c\\u043b\\u044f\\u0435\\u043c\\u043e\\u0441\\u0442\\u044c \\u0438 \\u0441\\u043e\\u043d \\u0441\\u043a\\u0440\\u044b\\u0432\\u0430\\u044f \\u0441\\u043b\\u0435\\u0434\\u044b \\u043f\\u0440\\u0435\\u0441\\u0442\\u0443\\u043f\\u043b\\u0435\\u043d\\u0438\\u0439 \\u0432\\u0440\\u0430\\u0433 \\u0442\\u0435\\u043b\\u0430 \\u043f\\u043e\\u0433\\u0438\\u0431\\u0448\\u0438\\u0445 \\u0438 \\u043e\\u0442\\u0440\\u0430\\u0432\\u043b\\u0435\\u043d\\u043d\\u044b\\u0445 \\u043c\\u0430\\u0442\\u0440\\u043e\\u0441\\u043e\\u0432 \\u0441\\u0432\\u043e\\u0438\\u043c \\u043f\\u043e\\u0434\\u0432\\u0438\\u0433\\u043e\\u043c \\u0433\\u0435\\u0440\\u043e\\u0438\\u0447\\u0435\\u0441\\u043a\\u0438\\u0439 \\u0434\\u0435\\u0441\\u0430\\u043d\\u0442 \\u0443\\u0441\\u043a\\u043e\\u0440\\u0438\\u043b \\u0432\\u0437\\u044f\\u0442\\u0438\\u0435 \\u0433\\u043e\\u0440\\u043e\\u0434\\u0430 \\u043d\\u0438\\u043a\\u043e\\u043b\\u0430\\u0435\\u0432 \\u0447\\u0430\\u0441\\u0442\\u044f\\u043c\\u0438 \\u043a\\u0440\\u0430\\u0441\\u043d\\u043e\\u0439 \\u0430\\u0440\\u043c\\u0438\\u0438 \\u0438\\u0432\\u0430\\u043d \\u043a\\u043e\\u0442\\u043e\\u0432 \\u0431\\u044b\\u043b \\u0443\\u0431\\u0438\\u0442 \\u0440\\u0430\\u0437\\u043e\\u0440\\u0432\\u0430\\u0432\\u0448\\u0435\\u0439\\u0441\\u044f \\u0440\\u044f\\u0434\\u043e\\u043c \\u043c\\u0438\\u043d\\u043e\\u0439 \\u0443\\u043a\\u0430\\u0437\\u043e\\u043c \\u043f\\u0440\\u0435\\u0437\\u0438\\u0434\\u0438\\u0443\\u043c\\u0430 \\u0432\\u0435\\u0440\\u0445\\u043e\\u0432\\u043d\\u043e\\u0433\\u043e \\u0441\\u043e\\u0432\\u0435\\u0442\\u0430 \\u0441\\u0441\\u0441\\u0440 \\u043e\\u0442 \\u0432\\u043e\\u0441\\u0435\\u043c\\u043d\\u0430\\u0434\\u0446\\u0430\\u0442\\u0438\\u043b\\u0435\\u0442\\u043d\\u0435\\u043c\\u0443 \\u043a\\u0440\\u0430\\u0441\\u043d\\u043e\\u0444\\u043b\\u043e\\u0442\\u0446\\u0443 \\u0438\\u0432\\u0430\\u043d\\u0443 \\u0438\\u043b\\u044c\\u0438\\u0447\\u0443 \\u043a\\u043e\\u0442\\u043e\\u0432\\u0443 \\u043a\\u0430\\u043a \\u0438 \\u0435\\u0433\\u043e \\u0431\\u043e\\u0435\\u0432\\u044b\\u043c \\u0442\\u043e\\u0432\\u0430\\u0440\\u0438\\u0449\\u0430\\u043c \\u0431\\u044b\\u043b\\u043e \\u043f\\u0440\\u0438\\u0441\\u0432\\u043e\\u0435\\u043d\\u043e \\u0437\\u0432\\u0430\\u043d\\u0438\\u0435 \\u0433\\u0435\\u0440\\u043e\\u044f \\u0441\\u043e\\u0432\\u0435\\u0442\\u0441\\u043a\\u043e\\u0433\\u043e \\u0441\\u043e\\u044e\\u0437\\u0430 \\u043f\\u043e\\u0441\\u043c\\u0435\\u0440\\u0442\\u043d\\u043e \\u043d\\u0430\\u0433\\u0440\\u0430\\u0434\\u044b \\u043e\\u0440\\u0434\\u0435\\u043d \\u043b\\u0435\\u043d\\u0438\\u043d\\u0430 \\u0437\\u043e\\u043b\\u043e\\u0442\\u0430\\u044f \\u0437\\u0432\\u0435\\u0437\\u0434\\u0430 \\u043f\\u0430\\u043c\\u044f\\u0442\\u044c \\u0438\\u043c\\u0435\\u043d\\u0435\\u043c \\u0438\\u0432\\u0430\\u043d\\u0430 \\u043a\\u043e\\u0442\\u043e\\u0432\\u0430 \\u043d\\u0430\\u0437\\u0432\\u0430\\u043d\\u0430 \\u0443\\u043b\\u0438\\u0446\\u0430 \\u0432 \\u0441\\u0442\\u0430\\u043d\\u0438\\u0446\\u0435 \\u0440\\u0430\\u0435\\u0432\\u0441\\u043a\\u0430\\u044f \\u043a\\u0440\\u0430\\u0441\\u043d\\u043e\\u0434\\u0430\\u0440\\u0441\\u043a\\u043e\\u0433\\u043e \\u043a\\u0440\\u0430\\u044f \\u0442\\u0430\\u043c \\u0436\\u0435 \\u0443 \\u0437\\u0434\\u0430\\u043d\\u0438\\u044f \\u043c\\u0431\\u043e\\u0443 \\u0441\\u043e\\u0448 \\u0438\\u043c\\u0435\\u043d\\u0438 \\u0433\\u0435\\u043d\\u0435\\u0440\\u0430\\u043b\\u0430 \\u043d \\u043d \\u0440\\u0430\\u0435\\u0432\\u0441\\u043a\\u043e\\u0433\\u043e \\u0432 \\u0443\\u0441\\u0442\\u0430\\u043d\\u043e\\u0432\\u043b\\u0435\\u043d \\u0431\\u044e\\u0441\\u0442 \\u0433\\u0435\\u0440\\u043e\\u044f \\u0432 \\u0430\\u043d\\u0430\\u043f\\u0435 \\u043d\\u0430 \\u0430\\u043b\\u043b\\u0435\\u0435 \\u0441\\u043b\\u0430\\u0432\\u044b \\u0443\\u0441\\u0442\\u0430\\u043d\\u043e\\u0432\\u043b\\u0435\\u043d\\u0430 \\u043f\\u0430\\u043c\\u044f\\u0442\\u043d\\u0430\\u044f \\u043f\\u043b\\u0438\\u0442\\u0430 \\u0433\\u0435\\u0440\\u043e\\u044f \\u0432 \\u0433\\u043e\\u0440\\u043e\\u0434\\u0435 \\u043a\\u0440\\u0430\\u0441\\u043d\\u043e\\u0434\\u0430\\u0440 \\u0438\\u043c\\u044f \\u0433\\u0435\\u0440\\u043e\\u044f \\u0443\\u0432\\u0435\\u043a\\u043e\\u0432\\u0435\\u0447\\u0435\\u043d\\u043e \\u043d\\u0430 \\u043c\\u0435\\u043c\\u043e\\u0440\\u0438\\u0430\\u043b\\u044c\\u043d\\u043e\\u0439 \\u0430\\u0440\\u043a\\u0435 \\u0438\\u043c\\u044f \\u0433\\u0435\\u0440\\u043e\\u044f \\u0432\\u044b\\u0441\\u0435\\u0447\\u0435\\u043d\\u043e \\u0437\\u043e\\u043b\\u043e\\u0442\\u044b\\u043c\\u0438 \\u0431\\u0443\\u043a\\u0432\\u0430\\u043c\\u0438 \\u0432 \\u0437\\u0430\\u043b\\u0435 \\u0441\\u043b\\u0430\\u0432\\u044b \\u0446\\u0435\\u043d\\u0442\\u0440\\u0430\\u043b\\u044c\\u043d\\u043e\\u0433\\u043e \\u043c\\u0443\\u0437\\u0435\\u044f \\u0432\\u0435\\u043b\\u0438\\u043a\\u043e\\u0439 \\u043e\\u0442\\u0435\\u0447\\u0435\\u0441\\u0442\\u0432\\u0435\\u043d\\u043d\\u043e\\u0439 \\u0432\\u043e\\u0439\\u043d\\u044b \\u0432 \\u043f\\u0430\\u0440\\u043a\\u0435 \\u043f\\u043e\\u0431\\u0435\\u0434\\u044b \\u0433\\u043e\\u0440\\u043e\\u0434\\u0430 \\u043c\\u043e\\u0441\\u043a\\u0432\\u044b \\u0432 \\u0433\\u043e\\u0440\\u043e\\u0434\\u0435 \\u043d\\u0438\\u043a\\u043e\\u043b\\u0430\\u0435\\u0432\\u0435 \\u043d\\u0430\\u0437\\u0432\\u0430\\u043d\\u0430 \\u0443\\u043b\\u0438\\u0446\\u0430 \\u0438\\u043c\\u0435\\u043d\\u0435\\u043c \\u043e\\u0442\\u043a\\u0440\\u044b\\u0442 \\u043c\\u0443\\u0437\\u0435\\u0439 \\u0431\\u043e\\u0435\\u0432\\u043e\\u0439 \\u0441\\u043b\\u0430\\u0432\\u044b \\u0432 \\u043f\\u0430\\u0440\\u043a\\u0435 \\u0438\\u043c\\u0435\\u043d\\u0438 \\u0434\\u0435\\u0441\\u0430\\u043d\\u0442\\u043d\\u0438\\u043a\\u043e\\u0432 \\u0443\\u0441\\u0442\\u0430\\u043d\\u043e\\u0432\\u043b\\u0435\\u043d \\u043f\\u0430\\u043c\\u044f\\u0442\\u043d\\u0438\\u043a \\u043d\\u0430 \\u0431\\u0435\\u0440\\u0435\\u0433\\u0443 \\u0431\\u0443\\u0433\\u0441\\u043a\\u043e\\u0433\\u043e \\u043b\\u0438\\u043c\\u0430\\u043d\\u0430 \\u0432 \\u043e\\u043a\\u0442\\u044f\\u0431\\u0440\\u044c\\u0441\\u043a\\u043e\\u043c \\u043e\\u0442\\u043a\\u0443\\u0434\\u0430 \\u0443\\u0445\\u043e\\u0434\\u0438\\u043b\\u0438 \\u043d\\u0430 \\u0437\\u0430\\u0434\\u0430\\u043d\\u0438\\u0435 \\u0434\\u0435\\u0441\\u0430\\u043d\\u0442\\u043d\\u0438\\u043a\\u0438 \\u0443\\u0441\\u0442\\u0430\\u043d\\u043e\\u0432\\u043b\\u0435\\u043d\\u0430 \\u043c\\u0435\\u043c\\u043e\\u0440\\u0438\\u0430\\u043b\\u044c\\u043d\\u0430\\u044f \\u0433\\u0440\\u0430\\u043d\\u0438\\u0442\\u043d\\u0430\\u044f \\u0433\\u043b\\u044b\\u0431\\u0430 \\u0441 \\u043f\\u0430\\u043c\\u044f\\u0442\\u043d\\u043e\\u0439 \\u043d\\u0430\\u0434\\u043f\\u0438\\u0441\\u044c\\u044e \\u043a\\u0430\\u0442\\u0435\\u0433\\u043e\\u0440\\u0438\\u044f\\u0440\\u043e\\u0434\\u0438\\u0432\\u0448\\u0438\\u0435\\u0441\\u044f \\u0432 \\u043a\\u0430\\u0442\\u0435\\u0433\\u043e\\u0440\\u0438\\u044f\\u0443\\u043c\\u0435\\u0440\\u0448\\u0438\\u0435 \\u0432 \\u043a\\u0430\\u0442\\u0435\\u0433\\u043e\\u0440\\u0438\\u044f\\u0443\\u043c\\u0435\\u0440\\u0448\\u0438\\u0435 \\u043a\\u0430\\u0442\\u0435\\u0433\\u043e\\u0440\\u0438\\u044f\\u0443\\u0447\\u0430\\u0441\\u0442\\u043d\\u0438\\u043a\\u0438 \\u0432\\u0435\\u043b\\u0438\\u043a\\u043e\\u0439 \\u043e\\u0442\\u0435\\u0447\\u0435\\u0441\\u0442\\u0432\\u0435\\u043d\\u043d\\u043e\\u0439 \\u0432\\u043e\\u0439\\u043d\\u044b \\u043a\\u0430\\u0442\\u0435\\u0433\\u043e\\u0440\\u0438\\u044f\\u0434\\u0435\\u0441\\u0430\\u043d\\u0442\\u043d\\u044b\\u0435 \\u043e\\u043f\\u0435\\u0440\\u0430\\u0446\\u0438\\u0438 \\u043a\\u0430\\u0442\\u0435\\u0433\\u043e\\u0440\\u0438\\u044f\\u0434\\u0435\\u0441\\u0430\\u043d\\u0442\\u043d\\u0438\\u043a\\u0438 \\u043a\\u0430\\u0442\\u0435\\u0433\\u043e\\u0440\\u0438\\u044f\\u043c\\u043e\\u0440\\u044f\\u043a\\u0438 \\u0441\\u0441\\u0441\\u0440\",\n          \"\\u044e\\u0440\\u0438\\u0439 \\u0430\\u043b\\u0435\\u043a\\u0441\\u0430\\u043d\\u0434\\u0440\\u043e\\u0432\\u0438\\u0447 \\u043d\\u0438\\u043a\\u0438\\u0442\\u0438\\u043d \\u043d\\u0438\\u043a\\u0438\\u0442\\u0438\\u043d \\u044e\\u0440\\u0438\\u0439 \\u0430\\u043b\\u0435\\u043a\\u0441\\u0430\\u043d\\u0434\\u0440\\u043e\\u0432\\u0438\\u0447 \\u0441\\u043e\\u0432\\u0435\\u0442\\u0441\\u043a\\u0438\\u0439 \\u0438 \\u0440\\u043e\\u0441\\u0441\\u0438\\u0439\\u0441\\u043a\\u0438\\u0439 \\u043d\\u0438\\u043a\\u0438\\u0442\\u0438\\u043d \\u044e\\u0440\\u0438\\u0439 \\u0430\\u043b\\u0435\\u043a\\u0441\\u0430\\u043d\\u0434\\u0440\\u043e\\u0432\\u0438\\u0447 \\u0441\\u043e\\u0432\\u0435\\u0442\\u0441\\u043a\\u0438\\u0439 \\u0438 \\u0440\\u043e\\u0441\\u0441\\u0438\\u0439\\u0441\\u043a\\u0438\\u0439 \\u0445\\u043e\\u043a\\u043a\\u0435\\u0438\\u0441\\u0442\"\n        ],\n        \"semantic_type\": \"\",\n        \"description\": \"\"\n      }\n    },\n    {\n      \"column\": \"type\",\n      \"properties\": {\n        \"dtype\": \"category\",\n        \"num_unique_values\": 21,\n        \"samples\": [\n          \"['\\u0421\\u0442\\u0430\\u0442\\u044c\\u044f \\u043d\\u0435 \\u043f\\u0440\\u043e\\u0445\\u043e\\u0434\\u0438\\u043b\\u0430 \\u044d\\u043a\\u0441\\u043f\\u0435\\u0440\\u0442\\u043d\\u0443\\u044e \\u043f\\u0440\\u043e\\u0432\\u0435\\u0440\\u043a\\u0443', '\\u041e\\u0431\\u044b\\u0447\\u043d\\u0430\\u044f \\u0441\\u0442\\u0430\\u0442\\u044c\\u044f']\",\n          \"['\\u0413\\u043e\\u0442\\u043e\\u0432\\u0430\\u044f \\u0441\\u0442\\u0430\\u0442\\u044c\\u044f', '\\u041a\\u0430\\u043d\\u0434\\u0438\\u0434\\u0430\\u0442 \\u0432 \\u0445\\u043e\\u0440\\u043e\\u0448\\u0438\\u0435 \\u0441\\u0442\\u0430\\u0442\\u044c\\u0438', '\\u0421\\u0442\\u0430\\u0442\\u044c\\u044f \\u0443\\u0441\\u043f\\u0435\\u0448\\u043d\\u043e \\u043f\\u0440\\u043e\\u0448\\u043b\\u0430 \\u044d\\u043a\\u0441\\u043f\\u0435\\u0440\\u0442\\u043d\\u0443\\u044e \\u043f\\u0440\\u043e\\u0432\\u0435\\u0440\\u043a\\u0443']\",\n          \"['\\u0413\\u043e\\u0442\\u043e\\u0432\\u0430\\u044f \\u0441\\u0442\\u0430\\u0442\\u044c\\u044f', '\\u0421\\u0442\\u0430\\u0442\\u044c\\u044f \\u043d\\u0435 \\u0443\\u0441\\u043f\\u0435\\u0448\\u043d\\u043e \\u043f\\u0440\\u043e\\u0448\\u043b\\u0430 \\u044d\\u043a\\u0441\\u043f\\u0435\\u0440\\u0442\\u043d\\u0443\\u044e \\u043f\\u0440\\u043e\\u0432\\u0435\\u0440\\u043a\\u0443']\"\n        ],\n        \"semantic_type\": \"\",\n        \"description\": \"\"\n      }\n    },\n    {\n      \"column\": \"target\",\n      \"properties\": {\n        \"dtype\": \"number\",\n        \"std\": 0,\n        \"min\": 0,\n        \"max\": 1,\n        \"num_unique_values\": 2,\n        \"samples\": [\n          1,\n          0\n        ],\n        \"semantic_type\": \"\",\n        \"description\": \"\"\n      }\n    }\n  ]\n}"
            }
          },
          "metadata": {},
          "execution_count": 26
        }
      ],
      "source": [
        "balanced_data.iloc[1000:][balanced_data]"
      ]
    },
    {
      "cell_type": "code",
      "source": [
        "list_of_gemini_preds = []"
      ],
      "metadata": {
        "id": "KKgh-1ro42ab"
      },
      "execution_count": 27,
      "outputs": []
    },
    {
      "cell_type": "code",
      "execution_count": null,
      "metadata": {
        "id": "iKgJE38o3I0j",
        "colab": {
          "base_uri": "https://localhost:8080/"
        },
        "outputId": "436d0222-5165-4897-b9e1-0bd306bdd739"
      },
      "outputs": [
        {
          "metadata": {
            "tags": null
          },
          "name": "stdout",
          "output_type": "stream",
          "text": [
            "Обработан 1185 текст\n",
            "Обработан 1186 текст\n",
            "Обработан 1187 текст\n",
            "Обработан 1188 текст\n",
            "Обработан 1189 текст\n",
            "Обработан 1190 текст\n",
            "Обработан 1191 текст\n",
            "Обработан 1192 текст\n",
            "Обработан 1193 текст\n",
            "Обработан 1194 текст\n",
            "Обработан 1195 текст\n",
            "Обработан 1196 текст\n",
            "Обработан 1197 текст\n",
            "Обработан 1198 текст\n",
            "Обработан 1199 текст\n",
            "Обработан 1200 текст\n",
            "Обработан 1201 текст\n",
            "Обработан 1202 текст\n",
            "Обработан 1203 текст\n",
            "Обработан 1204 текст\n",
            "Обработан 1205 текст\n",
            "Обработан 1206 текст\n",
            "Обработан 1207 текст\n",
            "Обработан 1208 текст\n",
            "Обработан 1209 текст\n",
            "Обработан 1210 текст\n",
            "Обработан 1211 текст\n",
            "Обработан 1212 текст\n",
            "Обработан 1213 текст\n",
            "Обработан 1214 текст\n",
            "Обработан 1215 текст\n"
          ]
        },
        {
          "metadata": {
            "tags": null
          },
          "name": "stderr",
          "output_type": "stream",
          "text": [
            "ERROR:tornado.access:500 POST /v1beta/models/gemini-1.5-pro-latest:generateContent?%24alt=json%3Benum-encoding%3Dint (127.0.0.1) 16441.90ms\n"
          ]
        },
        {
          "metadata": {
            "tags": null
          },
          "name": "stdout",
          "output_type": "stream",
          "text": [
            "Failed: 500 POST https://generativelanguage.googleapis.com/v1beta/models/gemini-1.5-pro-latest:generateContent?%24alt=json%3Benum-encoding%3Dint: An internal error has occurred. Please retry or report in https://developers.generativeai.google/guide/troubleshooting\n",
            "Обработан 1217 текст\n",
            "Обработан 1218 текст\n",
            "Обработан 1219 текст\n",
            "Обработан 1220 текст\n",
            "Обработан 1221 текст\n",
            "Обработан 1222 текст\n",
            "Обработан 1223 текст\n",
            "Обработан 1224 текст\n",
            "Обработан 1225 текст\n",
            "Обработан 1226 текст\n",
            "Обработан 1227 текст\n",
            "Обработан 1228 текст\n",
            "Обработан 1229 текст\n",
            "Обработан 1230 текст\n",
            "Обработан 1231 текст\n",
            "Обработан 1232 текст\n",
            "Обработан 1233 текст\n",
            "Обработан 1234 текст\n",
            "Обработан 1235 текст\n",
            "Обработан 1236 текст\n",
            "Обработан 1237 текст\n",
            "Обработан 1238 текст\n"
          ]
        },
        {
          "metadata": {
            "tags": null
          },
          "name": "stderr",
          "output_type": "stream",
          "text": [
            "ERROR:tornado.access:500 POST /v1beta/models/gemini-1.5-pro-latest:generateContent?%24alt=json%3Benum-encoding%3Dint (127.0.0.1) 29610.71ms\n"
          ]
        },
        {
          "metadata": {
            "tags": null
          },
          "name": "stdout",
          "output_type": "stream",
          "text": [
            "Failed: 500 POST https://generativelanguage.googleapis.com/v1beta/models/gemini-1.5-pro-latest:generateContent?%24alt=json%3Benum-encoding%3Dint: An internal error has occurred. Please retry or report in https://developers.generativeai.google/guide/troubleshooting\n",
            "Обработан 1240 текст\n",
            "Обработан 1241 текст\n",
            "Обработан 1242 текст\n",
            "Обработан 1243 текст\n",
            "Обработан 1244 текст\n",
            "Обработан 1245 текст\n",
            "Обработан 1246 текст\n",
            "Обработан 1247 текст\n",
            "Обработан 1248 текст\n",
            "Обработан 1249 текст\n"
          ]
        },
        {
          "metadata": {
            "tags": null
          },
          "name": "stderr",
          "output_type": "stream",
          "text": [
            "ERROR:tornado.access:500 POST /v1beta/models/gemini-1.5-pro-latest:generateContent?%24alt=json%3Benum-encoding%3Dint (127.0.0.1) 14400.22ms\n"
          ]
        },
        {
          "metadata": {
            "tags": null
          },
          "name": "stdout",
          "output_type": "stream",
          "text": [
            "Failed: 500 POST https://generativelanguage.googleapis.com/v1beta/models/gemini-1.5-pro-latest:generateContent?%24alt=json%3Benum-encoding%3Dint: An internal error has occurred. Please retry or report in https://developers.generativeai.google/guide/troubleshooting\n",
            "Обработан 1251 текст\n",
            "Обработан 1252 текст\n",
            "Обработан 1253 текст\n",
            "Обработан 1254 текст\n",
            "Обработан 1255 текст\n",
            "Обработан 1256 текст\n",
            "Обработан 1257 текст\n",
            "Обработан 1258 текст\n",
            "Обработан 1259 текст\n",
            "Обработан 1260 текст\n"
          ]
        },
        {
          "metadata": {
            "tags": null
          },
          "name": "stderr",
          "output_type": "stream",
          "text": [
            "ERROR:tornado.access:500 POST /v1beta/models/gemini-1.5-pro-latest:generateContent?%24alt=json%3Benum-encoding%3Dint (127.0.0.1) 19402.87ms\n"
          ]
        },
        {
          "metadata": {
            "tags": null
          },
          "name": "stdout",
          "output_type": "stream",
          "text": [
            "Failed: 500 POST https://generativelanguage.googleapis.com/v1beta/models/gemini-1.5-pro-latest:generateContent?%24alt=json%3Benum-encoding%3Dint: An internal error has occurred. Please retry or report in https://developers.generativeai.google/guide/troubleshooting\n",
            "Обработан 1262 текст\n",
            "Обработан 1263 текст\n",
            "Обработан 1264 текст\n",
            "Обработан 1265 текст\n",
            "Обработан 1266 текст\n",
            "Обработан 1267 текст\n",
            "Обработан 1268 текст\n",
            "Обработан 1269 текст\n",
            "Обработан 1270 текст\n",
            "Обработан 1271 текст\n",
            "Обработан 1272 текст\n",
            "Обработан 1273 текст\n",
            "Обработан 1274 текст\n",
            "Обработан 1275 текст\n",
            "Обработан 1276 текст\n",
            "Обработан 1277 текст\n",
            "Обработан 1278 текст\n",
            "Обработан 1279 текст\n",
            "Обработан 1280 текст\n",
            "Обработан 1281 текст\n",
            "Обработан 1282 текст\n",
            "Обработан 1283 текст\n",
            "Обработан 1284 текст\n",
            "Обработан 1285 текст\n",
            "Обработан 1286 текст\n",
            "Обработан 1287 текст\n",
            "Обработан 1288 текст\n",
            "Обработан 1289 текст\n",
            "Обработан 1290 текст\n",
            "Обработан 1291 текст\n",
            "Обработан 1292 текст\n",
            "Обработан 1293 текст\n",
            "Обработан 1294 текст\n",
            "Обработан 1295 текст\n",
            "Обработан 1296 текст\n",
            "Обработан 1297 текст\n",
            "Обработан 1298 текст\n",
            "Обработан 1299 текст\n",
            "Обработан 1300 текст\n",
            "Обработан 1301 текст\n",
            "Обработан 1302 текст\n",
            "Обработан 1303 текст\n",
            "Обработан 1304 текст\n",
            "Обработан 1305 текст\n",
            "Обработан 1306 текст\n",
            "Обработан 1307 текст\n",
            "Обработан 1308 текст\n",
            "Обработан 1309 текст\n",
            "Обработан 1310 текст\n",
            "Обработан 1311 текст\n",
            "Обработан 1312 текст\n"
          ]
        },
        {
          "metadata": {
            "tags": null
          },
          "name": "stderr",
          "output_type": "stream",
          "text": [
            "ERROR:tornado.access:500 POST /v1beta/models/gemini-1.5-pro-latest:generateContent?%24alt=json%3Benum-encoding%3Dint (127.0.0.1) 10940.47ms\n"
          ]
        },
        {
          "metadata": {
            "tags": null
          },
          "name": "stdout",
          "output_type": "stream",
          "text": [
            "Failed: 500 POST https://generativelanguage.googleapis.com/v1beta/models/gemini-1.5-pro-latest:generateContent?%24alt=json%3Benum-encoding%3Dint: An internal error has occurred. Please retry or report in https://developers.generativeai.google/guide/troubleshooting\n",
            "Обработан 1314 текст\n",
            "Обработан 1315 текст\n",
            "Обработан 1316 текст\n",
            "Обработан 1317 текст\n",
            "Обработан 1318 текст\n",
            "Обработан 1319 текст\n",
            "Обработан 1320 текст\n",
            "Обработан 1321 текст\n",
            "Обработан 1322 текст\n",
            "Обработан 1323 текст\n",
            "Обработан 1324 текст\n",
            "Обработан 1325 текст\n",
            "Обработан 1326 текст\n",
            "Обработан 1327 текст\n",
            "Обработан 1328 текст\n",
            "Обработан 1329 текст\n",
            "Обработан 1330 текст\n",
            "Обработан 1331 текст\n",
            "Обработан 1332 текст\n",
            "Обработан 1333 текст\n",
            "Обработан 1334 текст\n",
            "Обработан 1335 текст\n",
            "Обработан 1336 текст\n",
            "Обработан 1337 текст\n",
            "Обработан 1338 текст\n",
            "Обработан 1339 текст\n",
            "Обработан 1340 текст\n",
            "Обработан 1341 текст\n",
            "Обработан 1342 текст\n",
            "Обработан 1343 текст\n",
            "Обработан 1344 текст\n",
            "Обработан 1345 текст\n",
            "Обработан 1346 текст\n",
            "Обработан 1347 текст\n",
            "Обработан 1348 текст\n",
            "Обработан 1349 текст\n",
            "Обработан 1350 текст\n",
            "Обработан 1351 текст\n",
            "Обработан 1352 текст\n",
            "Обработан 1353 текст\n",
            "Обработан 1354 текст\n",
            "Обработан 1355 текст\n",
            "Обработан 1356 текст\n",
            "Обработан 1357 текст\n",
            "Обработан 1358 текст\n",
            "Обработан 1359 текст\n",
            "Обработан 1360 текст\n",
            "Обработан 1361 текст\n",
            "Обработан 1362 текст\n",
            "Обработан 1363 текст\n",
            "Обработан 1364 текст\n",
            "Обработан 1365 текст\n",
            "Обработан 1366 текст\n",
            "Обработан 1367 текст\n",
            "Обработан 1368 текст\n",
            "Обработан 1369 текст\n",
            "Обработан 1370 текст\n",
            "Обработан 1371 текст\n",
            "Обработан 1372 текст\n",
            "Обработан 1373 текст\n",
            "Обработан 1374 текст\n",
            "Обработан 1375 текст\n",
            "Обработан 1376 текст\n",
            "Обработан 1377 текст\n",
            "Обработан 1378 текст\n",
            "Обработан 1379 текст\n",
            "Обработан 1380 текст\n",
            "Обработан 1381 текст\n",
            "Обработан 1382 текст\n",
            "Обработан 1383 текст\n",
            "Обработан 1384 текст\n",
            "Обработан 1385 текст\n",
            "Обработан 1386 текст\n",
            "Обработан 1387 текст\n",
            "Обработан 1388 текст\n",
            "Обработан 1389 текст\n",
            "Обработан 1390 текст\n",
            "Обработан 1391 текст\n",
            "Обработан 1392 текст\n",
            "Обработан 1393 текст\n",
            "Обработан 1394 текст\n",
            "Обработан 1395 текст\n",
            "Обработан 1396 текст\n",
            "Обработан 1397 текст\n",
            "Обработан 1398 текст\n",
            "Обработан 1399 текст\n",
            "Обработан 1400 текст\n",
            "Обработан 1401 текст\n",
            "Обработан 1402 текст\n",
            "Обработан 1403 текст\n",
            "Обработан 1404 текст\n",
            "Обработан 1405 текст\n",
            "Обработан 1406 текст\n",
            "Обработан 1407 текст\n",
            "Обработан 1408 текст\n",
            "Обработан 1409 текст\n",
            "Обработан 1410 текст\n",
            "Обработан 1411 текст\n",
            "Обработан 1412 текст\n",
            "Обработан 1413 текст\n",
            "Обработан 1414 текст\n",
            "Обработан 1415 текст\n",
            "Обработан 1416 текст\n",
            "Обработан 1417 текст\n",
            "Обработан 1418 текст\n",
            "Обработан 1419 текст\n",
            "Обработан 1420 текст\n",
            "Обработан 1421 текст\n",
            "Обработан 1422 текст\n",
            "Обработан 1423 текст\n",
            "Обработан 1424 текст\n",
            "Обработан 1425 текст\n",
            "Обработан 1426 текст\n",
            "Обработан 1427 текст\n",
            "Обработан 1428 текст\n"
          ]
        },
        {
          "metadata": {
            "tags": null
          },
          "name": "stderr",
          "output_type": "stream",
          "text": [
            "ERROR:tornado.access:500 POST /v1beta/models/gemini-1.5-pro-latest:generateContent?%24alt=json%3Benum-encoding%3Dint (127.0.0.1) 15531.96ms\n"
          ]
        },
        {
          "metadata": {
            "tags": null
          },
          "name": "stdout",
          "output_type": "stream",
          "text": [
            "Failed: 500 POST https://generativelanguage.googleapis.com/v1beta/models/gemini-1.5-pro-latest:generateContent?%24alt=json%3Benum-encoding%3Dint: An internal error has occurred. Please retry or report in https://developers.generativeai.google/guide/troubleshooting\n",
            "Обработан 1430 текст\n",
            "Обработан 1431 текст\n",
            "Обработан 1432 текст\n",
            "Обработан 1433 текст\n",
            "Обработан 1434 текст\n",
            "Обработан 1435 текст\n",
            "Обработан 1436 текст\n",
            "Обработан 1437 текст\n",
            "Обработан 1438 текст\n",
            "Обработан 1439 текст\n",
            "Обработан 1440 текст\n",
            "Обработан 1441 текст\n",
            "Обработан 1442 текст\n",
            "Обработан 1443 текст\n",
            "Обработан 1444 текст\n",
            "Обработан 1445 текст\n",
            "Обработан 1446 текст\n",
            "Обработан 1447 текст\n",
            "Обработан 1448 текст\n",
            "Обработан 1449 текст\n",
            "Обработан 1450 текст\n",
            "Обработан 1451 текст\n",
            "Обработан 1452 текст\n",
            "Обработан 1453 текст\n",
            "Обработан 1454 текст\n",
            "Обработан 1455 текст\n",
            "Обработан 1456 текст\n",
            "Обработан 1457 текст\n",
            "Обработан 1458 текст\n",
            "Обработан 1459 текст\n",
            "Обработан 1460 текст\n",
            "Обработан 1461 текст\n",
            "Обработан 1462 текст\n",
            "Обработан 1463 текст\n",
            "Обработан 1464 текст\n",
            "Обработан 1465 текст\n",
            "Обработан 1466 текст\n",
            "Обработан 1467 текст\n",
            "Обработан 1468 текст\n",
            "Обработан 1469 текст\n",
            "Обработан 1470 текст\n",
            "Обработан 1471 текст\n",
            "Обработан 1472 текст\n",
            "Обработан 1473 текст\n",
            "Обработан 1474 текст\n",
            "Обработан 1475 текст\n",
            "Обработан 1476 текст\n",
            "Обработан 1477 текст\n",
            "Обработан 1478 текст\n",
            "Обработан 1479 текст\n",
            "Обработан 1480 текст\n",
            "Обработан 1481 текст\n",
            "Обработан 1482 текст\n",
            "Обработан 1483 текст\n",
            "Обработан 1484 текст\n",
            "Обработан 1485 текст\n",
            "Обработан 1486 текст\n",
            "Обработан 1487 текст\n",
            "Обработан 1488 текст\n",
            "Обработан 1489 текст\n",
            "Обработан 1490 текст\n",
            "Обработан 1491 текст\n",
            "Обработан 1492 текст\n",
            "Обработан 1493 текст\n",
            "Обработан 1494 текст\n"
          ]
        },
        {
          "metadata": {
            "tags": null
          },
          "name": "stderr",
          "output_type": "stream",
          "text": [
            "ERROR:tornado.access:500 POST /v1beta/models/gemini-1.5-pro-latest:generateContent?%24alt=json%3Benum-encoding%3Dint (127.0.0.1) 10518.99ms\n"
          ]
        },
        {
          "metadata": {
            "tags": null
          },
          "name": "stdout",
          "output_type": "stream",
          "text": [
            "Failed: 500 POST https://generativelanguage.googleapis.com/v1beta/models/gemini-1.5-pro-latest:generateContent?%24alt=json%3Benum-encoding%3Dint: An internal error has occurred. Please retry or report in https://developers.generativeai.google/guide/troubleshooting\n",
            "Обработан 1496 текст\n",
            "Обработан 1497 текст\n",
            "Обработан 1498 текст\n",
            "Обработан 1499 текст\n",
            "Обработан 1500 текст\n",
            "Обработан 1501 текст\n",
            "Обработан 1502 текст\n",
            "Обработан 1503 текст\n",
            "Обработан 1504 текст\n",
            "Обработан 1505 текст\n",
            "Обработан 1506 текст\n",
            "Обработан 1507 текст\n",
            "Обработан 1508 текст\n",
            "Обработан 1509 текст\n",
            "Обработан 1510 текст\n",
            "Обработан 1511 текст\n",
            "Обработан 1512 текст\n",
            "Обработан 1513 текст\n",
            "Обработан 1514 текст\n",
            "Обработан 1515 текст\n",
            "Обработан 1516 текст\n",
            "Обработан 1517 текст\n",
            "Обработан 1518 текст\n",
            "Обработан 1519 текст\n",
            "Обработан 1520 текст\n",
            "Обработан 1521 текст\n",
            "Обработан 1522 текст\n",
            "Обработан 1523 текст\n",
            "Обработан 1524 текст\n",
            "Обработан 1525 текст\n",
            "Обработан 1526 текст\n",
            "Обработан 1527 текст\n",
            "Обработан 1528 текст\n",
            "Обработан 1529 текст\n",
            "Обработан 1530 текст\n",
            "Обработан 1531 текст\n",
            "Обработан 1532 текст\n",
            "Обработан 1533 текст\n",
            "Обработан 1534 текст\n",
            "Обработан 1535 текст\n",
            "Обработан 1536 текст\n",
            "Обработан 1537 текст\n",
            "Обработан 1538 текст\n",
            "Обработан 1539 текст\n",
            "Обработан 1540 текст\n",
            "Обработан 1541 текст\n",
            "Обработан 1542 текст\n",
            "Обработан 1543 текст\n",
            "Обработан 1544 текст\n",
            "Обработан 1545 текст\n",
            "Обработан 1546 текст\n",
            "Обработан 1547 текст\n",
            "Обработан 1548 текст\n",
            "Обработан 1549 текст\n",
            "Обработан 1550 текст\n",
            "Обработан 1551 текст\n",
            "Обработан 1552 текст\n",
            "Обработан 1553 текст\n",
            "Обработан 1554 текст\n",
            "Обработан 1555 текст\n",
            "Обработан 1556 текст\n",
            "Обработан 1557 текст\n",
            "Обработан 1558 текст\n",
            "Обработан 1559 текст\n"
          ]
        },
        {
          "metadata": {
            "tags": null
          },
          "name": "stderr",
          "output_type": "stream",
          "text": [
            "ERROR:tornado.access:500 POST /v1beta/models/gemini-1.5-pro-latest:generateContent?%24alt=json%3Benum-encoding%3Dint (127.0.0.1) 10874.12ms\n"
          ]
        },
        {
          "metadata": {
            "tags": null
          },
          "name": "stdout",
          "output_type": "stream",
          "text": [
            "Failed: 500 POST https://generativelanguage.googleapis.com/v1beta/models/gemini-1.5-pro-latest:generateContent?%24alt=json%3Benum-encoding%3Dint: An internal error has occurred. Please retry or report in https://developers.generativeai.google/guide/troubleshooting\n",
            "Обработан 1561 текст\n",
            "Обработан 1562 текст\n",
            "Обработан 1563 текст\n",
            "Обработан 1564 текст\n",
            "Обработан 1565 текст\n",
            "Обработан 1566 текст\n",
            "Обработан 1567 текст\n",
            "Обработан 1568 текст\n"
          ]
        },
        {
          "metadata": {
            "tags": null
          },
          "name": "stderr",
          "output_type": "stream",
          "text": [
            "ERROR:tornado.access:500 POST /v1beta/models/gemini-1.5-pro-latest:generateContent?%24alt=json%3Benum-encoding%3Dint (127.0.0.1) 10380.95ms\n"
          ]
        },
        {
          "metadata": {
            "tags": null
          },
          "name": "stdout",
          "output_type": "stream",
          "text": [
            "Failed: 500 POST https://generativelanguage.googleapis.com/v1beta/models/gemini-1.5-pro-latest:generateContent?%24alt=json%3Benum-encoding%3Dint: An internal error has occurred. Please retry or report in https://developers.generativeai.google/guide/troubleshooting\n",
            "Обработан 1570 текст\n",
            "Обработан 1571 текст\n",
            "Обработан 1572 текст\n",
            "Обработан 1573 текст\n",
            "Обработан 1574 текст\n",
            "Обработан 1575 текст\n",
            "Обработан 1576 текст\n",
            "Обработан 1577 текст\n",
            "Обработан 1578 текст\n",
            "Обработан 1579 текст\n",
            "Обработан 1580 текст\n",
            "Обработан 1581 текст\n",
            "Обработан 1582 текст\n",
            "Обработан 1583 текст\n",
            "Обработан 1584 текст\n",
            "Обработан 1585 текст\n",
            "Обработан 1586 текст\n",
            "Обработан 1587 текст\n"
          ]
        },
        {
          "metadata": {
            "tags": null
          },
          "name": "stderr",
          "output_type": "stream",
          "text": [
            "ERROR:tornado.access:500 POST /v1beta/models/gemini-1.5-pro-latest:generateContent?%24alt=json%3Benum-encoding%3Dint (127.0.0.1) 20412.79ms\n"
          ]
        },
        {
          "metadata": {
            "tags": null
          },
          "name": "stdout",
          "output_type": "stream",
          "text": [
            "Failed: 500 POST https://generativelanguage.googleapis.com/v1beta/models/gemini-1.5-pro-latest:generateContent?%24alt=json%3Benum-encoding%3Dint: An internal error has occurred. Please retry or report in https://developers.generativeai.google/guide/troubleshooting\n",
            "Обработан 1589 текст\n",
            "Обработан 1590 текст\n",
            "Обработан 1591 текст\n",
            "Обработан 1592 текст\n",
            "Обработан 1593 текст\n",
            "Обработан 1594 текст\n"
          ]
        },
        {
          "metadata": {
            "tags": null
          },
          "name": "stderr",
          "output_type": "stream",
          "text": [
            "ERROR:tornado.access:500 POST /v1beta/models/gemini-1.5-pro-latest:generateContent?%24alt=json%3Benum-encoding%3Dint (127.0.0.1) 14501.42ms\n"
          ]
        },
        {
          "metadata": {
            "tags": null
          },
          "name": "stdout",
          "output_type": "stream",
          "text": [
            "Failed: 500 POST https://generativelanguage.googleapis.com/v1beta/models/gemini-1.5-pro-latest:generateContent?%24alt=json%3Benum-encoding%3Dint: An internal error has occurred. Please retry or report in https://developers.generativeai.google/guide/troubleshooting\n",
            "Обработан 1596 текст\n",
            "Обработан 1597 текст\n",
            "Обработан 1598 текст\n"
          ]
        },
        {
          "metadata": {
            "tags": null
          },
          "name": "stderr",
          "output_type": "stream",
          "text": [
            "ERROR:tornado.access:500 POST /v1beta/models/gemini-1.5-pro-latest:generateContent?%24alt=json%3Benum-encoding%3Dint (127.0.0.1) 13328.48ms\n"
          ]
        },
        {
          "metadata": {
            "tags": null
          },
          "name": "stdout",
          "output_type": "stream",
          "text": [
            "Failed: 500 POST https://generativelanguage.googleapis.com/v1beta/models/gemini-1.5-pro-latest:generateContent?%24alt=json%3Benum-encoding%3Dint: An internal error has occurred. Please retry or report in https://developers.generativeai.google/guide/troubleshooting\n",
            "Обработан 1600 текст\n",
            "Обработан 1601 текст\n",
            "Обработан 1602 текст\n",
            "Обработан 1603 текст\n",
            "Обработан 1604 текст\n",
            "Обработан 1605 текст\n",
            "Обработан 1606 текст\n",
            "Обработан 1607 текст\n",
            "Обработан 1608 текст\n",
            "Обработан 1609 текст\n",
            "Обработан 1610 текст\n",
            "Обработан 1611 текст\n",
            "Обработан 1612 текст\n",
            "Обработан 1613 текст\n",
            "Обработан 1614 текст\n",
            "Обработан 1615 текст\n",
            "Обработан 1616 текст\n",
            "Обработан 1617 текст\n",
            "Обработан 1618 текст\n",
            "Обработан 1619 текст\n",
            "Обработан 1620 текст\n",
            "Обработан 1621 текст\n",
            "Обработан 1622 текст\n",
            "Обработан 1623 текст\n",
            "Обработан 1624 текст\n",
            "Обработан 1625 текст\n",
            "Обработан 1626 текст\n",
            "Обработан 1627 текст\n",
            "Обработан 1628 текст\n",
            "Обработан 1629 текст\n",
            "Обработан 1630 текст\n",
            "Обработан 1631 текст\n",
            "Обработан 1632 текст\n",
            "Обработан 1633 текст\n",
            "Обработан 1634 текст\n",
            "Обработан 1635 текст\n",
            "Обработан 1636 текст\n",
            "Обработан 1637 текст\n",
            "Обработан 1638 текст\n",
            "Обработан 1639 текст\n",
            "Обработан 1640 текст\n",
            "Обработан 1641 текст\n",
            "Обработан 1642 текст\n",
            "Обработан 1643 текст\n",
            "Обработан 1644 текст\n",
            "Обработан 1645 текст\n",
            "Обработан 1646 текст\n",
            "Обработан 1647 текст\n",
            "Обработан 1648 текст\n",
            "Обработан 1649 текст\n",
            "Обработан 1650 текст\n",
            "Обработан 1651 текст\n",
            "Обработан 1652 текст\n",
            "Обработан 1653 текст\n",
            "Обработан 1654 текст\n",
            "Обработан 1655 текст\n",
            "Обработан 1656 текст\n",
            "Обработан 1657 текст\n",
            "Обработан 1658 текст\n",
            "Обработан 1659 текст\n",
            "Обработан 1660 текст\n",
            "Обработан 1661 текст\n",
            "Обработан 1662 текст\n",
            "Обработан 1663 текст\n",
            "Обработан 1664 текст\n",
            "Обработан 1665 текст\n",
            "Обработан 1666 текст\n",
            "Обработан 1667 текст\n",
            "Обработан 1668 текст\n",
            "Обработан 1669 текст\n",
            "Обработан 1670 текст\n",
            "Обработан 1671 текст\n",
            "Обработан 1672 текст\n",
            "Обработан 1673 текст\n",
            "Обработан 1674 текст\n",
            "Обработан 1675 текст\n",
            "Обработан 1676 текст\n",
            "Обработан 1677 текст\n",
            "Обработан 1678 текст\n",
            "Обработан 1679 текст\n",
            "Обработан 1680 текст\n",
            "Обработан 1681 текст\n",
            "Обработан 1682 текст\n",
            "Обработан 1683 текст\n",
            "Обработан 1684 текст\n",
            "Обработан 1685 текст\n",
            "Обработан 1686 текст\n",
            "Обработан 1687 текст\n",
            "Обработан 1688 текст\n",
            "Обработан 1689 текст\n",
            "Обработан 1690 текст\n",
            "Обработан 1691 текст\n",
            "Обработан 1692 текст\n",
            "Обработан 1693 текст\n",
            "Обработан 1694 текст\n",
            "Обработан 1695 текст\n",
            "Обработан 1696 текст\n",
            "Обработан 1697 текст\n",
            "Обработан 1698 текст\n",
            "Обработан 1699 текст\n",
            "Обработан 1700 текст\n",
            "Обработан 1701 текст\n",
            "Обработан 1702 текст\n",
            "Обработан 1703 текст\n",
            "Обработан 1704 текст\n",
            "Обработан 1705 текст\n",
            "Обработан 1706 текст\n",
            "Обработан 1707 текст\n",
            "Обработан 1708 текст\n",
            "Обработан 1709 текст\n",
            "Обработан 1710 текст\n",
            "Обработан 1711 текст\n",
            "Обработан 1712 текст\n",
            "Обработан 1713 текст\n",
            "Обработан 1714 текст\n",
            "Обработан 1715 текст\n",
            "Обработан 1716 текст\n",
            "Обработан 1717 текст\n",
            "Обработан 1718 текст\n",
            "Обработан 1719 текст\n"
          ]
        },
        {
          "metadata": {
            "tags": null
          },
          "name": "stderr",
          "output_type": "stream",
          "text": [
            "ERROR:tornado.access:500 POST /v1beta/models/gemini-1.5-pro-latest:generateContent?%24alt=json%3Benum-encoding%3Dint (127.0.0.1) 7835.47ms\n"
          ]
        },
        {
          "metadata": {
            "tags": null
          },
          "name": "stdout",
          "output_type": "stream",
          "text": [
            "Failed: 500 POST https://generativelanguage.googleapis.com/v1beta/models/gemini-1.5-pro-latest:generateContent?%24alt=json%3Benum-encoding%3Dint: An internal error has occurred. Please retry or report in https://developers.generativeai.google/guide/troubleshooting\n",
            "Обработан 1721 текст\n",
            "Обработан 1722 текст\n",
            "Обработан 1723 текст\n",
            "Обработан 1724 текст\n",
            "Обработан 1725 текст\n",
            "Обработан 1726 текст\n",
            "Обработан 1727 текст\n",
            "Обработан 1728 текст\n",
            "Обработан 1729 текст\n",
            "Обработан 1730 текст\n",
            "Обработан 1731 текст\n",
            "Обработан 1732 текст\n",
            "Обработан 1733 текст\n",
            "Обработан 1734 текст\n"
          ]
        },
        {
          "metadata": {
            "tags": null
          },
          "name": "stderr",
          "output_type": "stream",
          "text": [
            "ERROR:tornado.access:500 POST /v1beta/models/gemini-1.5-pro-latest:generateContent?%24alt=json%3Benum-encoding%3Dint (127.0.0.1) 19996.04ms\n"
          ]
        },
        {
          "metadata": {
            "tags": null
          },
          "name": "stdout",
          "output_type": "stream",
          "text": [
            "Failed: 500 POST https://generativelanguage.googleapis.com/v1beta/models/gemini-1.5-pro-latest:generateContent?%24alt=json%3Benum-encoding%3Dint: An internal error has occurred. Please retry or report in https://developers.generativeai.google/guide/troubleshooting\n",
            "Обработан 1736 текст\n",
            "Обработан 1737 текст\n",
            "Обработан 1738 текст\n",
            "Обработан 1739 текст\n",
            "Обработан 1740 текст\n",
            "Обработан 1741 текст\n",
            "Обработан 1742 текст\n",
            "Обработан 1743 текст\n",
            "Обработан 1744 текст\n",
            "Обработан 1745 текст\n",
            "Обработан 1746 текст\n",
            "Обработан 1747 текст\n",
            "Обработан 1748 текст\n",
            "Обработан 1749 текст\n",
            "Обработан 1750 текст\n",
            "Обработан 1751 текст\n",
            "Обработан 1752 текст\n",
            "Обработан 1753 текст\n",
            "Обработан 1754 текст\n",
            "Обработан 1755 текст\n",
            "Обработан 1756 текст\n",
            "Обработан 1757 текст\n",
            "Обработан 1758 текст\n",
            "Обработан 1759 текст\n",
            "Обработан 1760 текст\n",
            "Обработан 1761 текст\n",
            "Обработан 1762 текст\n",
            "Обработан 1763 текст\n",
            "Обработан 1764 текст\n",
            "Обработан 1765 текст\n",
            "Обработан 1766 текст\n",
            "Обработан 1767 текст\n",
            "Обработан 1768 текст\n",
            "Обработан 1769 текст\n",
            "Обработан 1770 текст\n",
            "Обработан 1771 текст\n",
            "Обработан 1772 текст\n",
            "Обработан 1773 текст\n",
            "Обработан 1774 текст\n",
            "Обработан 1775 текст\n",
            "Обработан 1776 текст\n",
            "Обработан 1777 текст\n",
            "Обработан 1778 текст\n",
            "Обработан 1779 текст\n"
          ]
        },
        {
          "metadata": {
            "tags": null
          },
          "name": "stderr",
          "output_type": "stream",
          "text": [
            "ERROR:tornado.access:500 POST /v1beta/models/gemini-1.5-pro-latest:generateContent?%24alt=json%3Benum-encoding%3Dint (127.0.0.1) 19563.39ms\n"
          ]
        },
        {
          "metadata": {
            "tags": null
          },
          "name": "stdout",
          "output_type": "stream",
          "text": [
            "Failed: 500 POST https://generativelanguage.googleapis.com/v1beta/models/gemini-1.5-pro-latest:generateContent?%24alt=json%3Benum-encoding%3Dint: An internal error has occurred. Please retry or report in https://developers.generativeai.google/guide/troubleshooting\n",
            "Обработан 1781 текст\n",
            "Обработан 1782 текст\n",
            "Обработан 1783 текст\n",
            "Обработан 1784 текст\n",
            "Обработан 1785 текст\n",
            "Обработан 1786 текст\n",
            "Обработан 1787 текст\n",
            "Обработан 1788 текст\n",
            "Обработан 1789 текст\n",
            "Обработан 1790 текст\n",
            "Обработан 1791 текст\n",
            "Обработан 1792 текст\n",
            "Обработан 1793 текст\n",
            "Обработан 1794 текст\n",
            "Обработан 1795 текст\n",
            "Обработан 1796 текст\n",
            "Обработан 1797 текст\n",
            "Обработан 1798 текст\n",
            "Обработан 1799 текст\n",
            "Обработан 1800 текст\n",
            "Обработан 1801 текст\n",
            "Обработан 1802 текст\n",
            "Обработан 1803 текст\n",
            "Обработан 1804 текст\n",
            "Обработан 1805 текст\n",
            "Обработан 1806 текст\n",
            "Обработан 1807 текст\n",
            "Обработан 1808 текст\n",
            "Обработан 1809 текст\n",
            "Обработан 1810 текст\n",
            "Обработан 1811 текст\n",
            "Обработан 1812 текст\n",
            "Обработан 1813 текст\n"
          ]
        },
        {
          "metadata": {
            "tags": null
          },
          "name": "stderr",
          "output_type": "stream",
          "text": [
            "ERROR:tornado.access:500 POST /v1beta/models/gemini-1.5-pro-latest:generateContent?%24alt=json%3Benum-encoding%3Dint (127.0.0.1) 8161.79ms\n"
          ]
        },
        {
          "metadata": {
            "tags": null
          },
          "name": "stdout",
          "output_type": "stream",
          "text": [
            "Failed: 500 POST https://generativelanguage.googleapis.com/v1beta/models/gemini-1.5-pro-latest:generateContent?%24alt=json%3Benum-encoding%3Dint: An internal error has occurred. Please retry or report in https://developers.generativeai.google/guide/troubleshooting\n",
            "Обработан 1815 текст\n",
            "Обработан 1816 текст\n",
            "Обработан 1817 текст\n",
            "Обработан 1818 текст\n",
            "Обработан 1819 текст\n",
            "Обработан 1820 текст\n",
            "Обработан 1821 текст\n",
            "Обработан 1822 текст\n",
            "Обработан 1823 текст\n",
            "Обработан 1824 текст\n",
            "Обработан 1825 текст\n",
            "Обработан 1826 текст\n",
            "Обработан 1827 текст\n",
            "Обработан 1828 текст\n",
            "Обработан 1829 текст\n",
            "Обработан 1830 текст\n",
            "Обработан 1831 текст\n",
            "Обработан 1832 текст\n",
            "Обработан 1833 текст\n",
            "Обработан 1834 текст\n",
            "Обработан 1835 текст\n",
            "Обработан 1836 текст\n",
            "Обработан 1837 текст\n",
            "Обработан 1838 текст\n",
            "Обработан 1839 текст\n",
            "Обработан 1840 текст\n",
            "Обработан 1841 текст\n",
            "Обработан 1842 текст\n",
            "Обработан 1843 текст\n",
            "Обработан 1844 текст\n",
            "Обработан 1845 текст\n",
            "Обработан 1846 текст\n",
            "Обработан 1847 текст\n",
            "Обработан 1848 текст\n",
            "Обработан 1849 текст\n",
            "Обработан 1850 текст\n",
            "Обработан 1851 текст\n",
            "Обработан 1852 текст\n",
            "Обработан 1853 текст\n",
            "Обработан 1854 текст\n",
            "Обработан 1855 текст\n",
            "Обработан 1856 текст\n",
            "Обработан 1857 текст\n",
            "Обработан 1858 текст\n",
            "Обработан 1859 текст\n",
            "Обработан 1860 текст\n",
            "Обработан 1861 текст\n",
            "Обработан 1862 текст\n",
            "Обработан 1863 текст\n",
            "Обработан 1864 текст\n",
            "Обработан 1865 текст\n",
            "Обработан 1866 текст\n",
            "Обработан 1867 текст\n",
            "Обработан 1868 текст\n",
            "Обработан 1869 текст\n",
            "Обработан 1870 текст\n",
            "Обработан 1871 текст\n",
            "Обработан 1872 текст\n",
            "Обработан 1873 текст\n",
            "Обработан 1874 текст\n",
            "Обработан 1875 текст\n",
            "Обработан 1876 текст\n",
            "Обработан 1877 текст\n",
            "Обработан 1878 текст\n",
            "Обработан 1879 текст\n",
            "Обработан 1880 текст\n",
            "Обработан 1881 текст\n",
            "Обработан 1882 текст\n",
            "Обработан 1883 текст\n",
            "Обработан 1884 текст\n",
            "Обработан 1885 текст\n",
            "Обработан 1886 текст\n",
            "Обработан 1887 текст\n"
          ]
        },
        {
          "metadata": {
            "tags": null
          },
          "name": "stderr",
          "output_type": "stream",
          "text": [
            "ERROR:tornado.access:500 POST /v1beta/models/gemini-1.5-pro-latest:generateContent?%24alt=json%3Benum-encoding%3Dint (127.0.0.1) 13739.13ms\n"
          ]
        },
        {
          "metadata": {
            "tags": null
          },
          "name": "stdout",
          "output_type": "stream",
          "text": [
            "Failed: 500 POST https://generativelanguage.googleapis.com/v1beta/models/gemini-1.5-pro-latest:generateContent?%24alt=json%3Benum-encoding%3Dint: An internal error has occurred. Please retry or report in https://developers.generativeai.google/guide/troubleshooting\n",
            "Обработан 1889 текст\n",
            "Обработан 1890 текст\n",
            "Обработан 1891 текст\n",
            "Обработан 1892 текст\n",
            "Обработан 1893 текст\n",
            "Обработан 1894 текст\n",
            "Обработан 1895 текст\n",
            "Обработан 1896 текст\n",
            "Обработан 1897 текст\n",
            "Обработан 1898 текст\n",
            "Обработан 1899 текст\n",
            "Обработан 1900 текст\n",
            "Обработан 1901 текст\n",
            "Обработан 1902 текст\n",
            "Обработан 1903 текст\n",
            "Обработан 1904 текст\n",
            "Обработан 1905 текст\n",
            "Обработан 1906 текст\n",
            "Обработан 1907 текст\n",
            "Обработан 1908 текст\n",
            "Обработан 1909 текст\n"
          ]
        },
        {
          "metadata": {
            "tags": null
          },
          "name": "stderr",
          "output_type": "stream",
          "text": [
            "ERROR:tornado.access:500 POST /v1beta/models/gemini-1.5-pro-latest:generateContent?%24alt=json%3Benum-encoding%3Dint (127.0.0.1) 8490.61ms\n"
          ]
        },
        {
          "metadata": {
            "tags": null
          },
          "name": "stdout",
          "output_type": "stream",
          "text": [
            "Failed: 500 POST https://generativelanguage.googleapis.com/v1beta/models/gemini-1.5-pro-latest:generateContent?%24alt=json%3Benum-encoding%3Dint: An internal error has occurred. Please retry or report in https://developers.generativeai.google/guide/troubleshooting\n",
            "Обработан 1911 текст\n",
            "Обработан 1912 текст\n",
            "Обработан 1913 текст\n",
            "Обработан 1914 текст\n",
            "Обработан 1915 текст\n",
            "Обработан 1916 текст\n",
            "Обработан 1917 текст\n",
            "Обработан 1918 текст\n",
            "Обработан 1919 текст\n",
            "Обработан 1920 текст\n",
            "Обработан 1921 текст\n",
            "Обработан 1922 текст\n",
            "Обработан 1923 текст\n",
            "Обработан 1924 текст\n",
            "Обработан 1925 текст\n",
            "Обработан 1926 текст\n",
            "Обработан 1927 текст\n",
            "Обработан 1928 текст\n",
            "Обработан 1929 текст\n",
            "Обработан 1930 текст\n",
            "Обработан 1931 текст\n",
            "Обработан 1932 текст\n",
            "Обработан 1933 текст\n",
            "Обработан 1934 текст\n"
          ]
        },
        {
          "metadata": {
            "tags": null
          },
          "name": "stderr",
          "output_type": "stream",
          "text": [
            "ERROR:tornado.access:500 POST /v1beta/models/gemini-1.5-pro-latest:generateContent?%24alt=json%3Benum-encoding%3Dint (127.0.0.1) 23806.19ms\n"
          ]
        },
        {
          "metadata": {
            "tags": null
          },
          "name": "stdout",
          "output_type": "stream",
          "text": [
            "Failed: 500 POST https://generativelanguage.googleapis.com/v1beta/models/gemini-1.5-pro-latest:generateContent?%24alt=json%3Benum-encoding%3Dint: An internal error has occurred. Please retry or report in https://developers.generativeai.google/guide/troubleshooting\n",
            "Обработан 1936 текст\n",
            "Обработан 1937 текст\n",
            "Обработан 1938 текст\n",
            "Обработан 1939 текст\n",
            "Обработан 1940 текст\n",
            "Обработан 1941 текст\n",
            "Обработан 1942 текст\n",
            "Обработан 1943 текст\n",
            "Обработан 1944 текст\n",
            "Обработан 1945 текст\n",
            "Обработан 1946 текст\n",
            "Обработан 1947 текст\n",
            "Обработан 1948 текст\n",
            "Обработан 1949 текст\n",
            "Обработан 1950 текст\n",
            "Обработан 1951 текст\n",
            "Обработан 1952 текст\n",
            "Обработан 1953 текст\n",
            "Обработан 1954 текст\n",
            "Обработан 1955 текст\n",
            "Обработан 1956 текст\n",
            "Обработан 1957 текст\n",
            "Обработан 1958 текст\n",
            "Обработан 1959 текст\n",
            "Обработан 1960 текст\n",
            "Обработан 1961 текст\n",
            "Обработан 1962 текст\n",
            "Обработан 1963 текст\n",
            "Обработан 1964 текст\n",
            "Обработан 1965 текст\n",
            "Обработан 1966 текст\n",
            "Обработан 1967 текст\n",
            "Обработан 1968 текст\n",
            "Обработан 1969 текст\n",
            "Обработан 1970 текст\n",
            "Обработан 1971 текст\n",
            "Обработан 1972 текст\n",
            "Обработан 1973 текст\n",
            "Обработан 1974 текст\n",
            "Обработан 1975 текст\n",
            "Обработан 1976 текст\n",
            "Обработан 1977 текст\n",
            "Обработан 1978 текст\n",
            "Обработан 1979 текст\n",
            "Обработан 1980 текст\n",
            "Обработан 1981 текст\n",
            "Обработан 1982 текст\n",
            "Обработан 1983 текст\n",
            "Обработан 1984 текст\n",
            "Обработан 1985 текст\n",
            "Обработан 1986 текст\n",
            "Обработан 1987 текст\n",
            "Обработан 1988 текст\n",
            "Обработан 1989 текст\n",
            "Обработан 1990 текст\n",
            "Обработан 1991 текст\n",
            "Обработан 1992 текст\n",
            "Обработан 1993 текст\n",
            "Обработан 1994 текст\n",
            "Failed: HTTPConnectionPool(host='localhost', port=41289): Read timed out. (read timeout=60.0)\n",
            "Failed: HTTPConnectionPool(host='localhost', port=41289): Read timed out. (read timeout=60.0)\n",
            "Failed: HTTPConnectionPool(host='localhost', port=41289): Read timed out. (read timeout=60.0)\n",
            "Failed: HTTPConnectionPool(host='localhost', port=41289): Read timed out. (read timeout=60.0)\n",
            "Failed: HTTPConnectionPool(host='localhost', port=41289): Read timed out. (read timeout=60.0)\n",
            "Failed: HTTPConnectionPool(host='localhost', port=41289): Read timed out. (read timeout=60.0)\n",
            "Failed: HTTPConnectionPool(host='localhost', port=41289): Read timed out. (read timeout=60.0)\n",
            "Failed: HTTPConnectionPool(host='localhost', port=41289): Read timed out. (read timeout=60.0)\n",
            "Failed: HTTPConnectionPool(host='localhost', port=41289): Read timed out. (read timeout=60.0)\n"
          ]
        }
      ],
      "source": [
        "import pickle\n",
        "iteration = 0\n",
        "for idx, row in balanced_data.iterrows():\n",
        "    try:\n",
        "      text = row['text']\n",
        "      preds = manager.process_text_labelling(msg=text)\n",
        "      list_of_gemini_preds.append({'text': text, 'gigachat_preds': preds, 'index': idx})\n",
        "\n",
        "      print(f'Обработан {iteration} текст')\n",
        "      iteration += 1\n",
        "\n",
        "      if iteration % 100 == 0:\n",
        "        with open(f'drive/MyDrive/gemini_preds_{iteration}.pickle', 'wb') as f:\n",
        "          pickle.dump(list_of_gemini_preds, f)\n",
        "\n",
        "\n",
        "      time.sleep(20)\n",
        "    except Exception as e:  # openai.error.RateLimitError:\n",
        "      print(f\"Failed: {e}\")\n",
        "      iteration += 1\n",
        "      time.sleep(20)\n",
        "      continue\n",
        "\n"
      ]
    },
    {
      "cell_type": "code",
      "execution_count": null,
      "metadata": {
        "id": "VVMgnSEo7bqT"
      },
      "outputs": [],
      "source": []
    }
  ],
  "metadata": {
    "colab": {
      "provenance": []
    },
    "kernelspec": {
      "display_name": "Python 3",
      "name": "python3"
    },
    "language_info": {
      "name": "python"
    }
  },
  "nbformat": 4,
  "nbformat_minor": 0
}